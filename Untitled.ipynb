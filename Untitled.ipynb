{
 "cells": [
  {
   "cell_type": "code",
   "execution_count": 1,
   "id": "28fc4f34-28f2-4aa1-8334-bbd1725ccf55",
   "metadata": {},
   "outputs": [],
   "source": [
    "from typing import Optional, List\n",
    "from pydantic import BaseModel, AnyUrl\n",
    "   \n",
    "class Dimension(BaseModel):\n",
    "    label: str\n",
    "    description: str\n",
    "    \n",
    "class Property(BaseModel):\n",
    "    label: str\n",
    "    type: str    \n",
    "    unit: Optional[str]\n",
    "    shape: Optional[List[str]]\n",
    "    relation: Optional[AnyUrl]\n",
    "   \n",
    "class Entity(BaseModel):\n",
    "    identity: AnyUrl\n",
    "    description: str\n",
    "    properties: List[Property]\n",
    "    dimensions: List[Dimension]\n",
    "    "
   ]
  },
  {
   "cell_type": "code",
   "execution_count": 2,
   "id": "5f1ef36f-8b54-40eb-8337-f2e8c1486993",
   "metadata": {},
   "outputs": [
    {
     "data": {
      "text/plain": [
       "'{\"identity\": \"http://onto-ns.com/entity/1.0#eee\", \"description\": \"desc\", \"properties\": [{\"label\": \"temperature\", \"type\": \"float\", \"unit\": \"C\", \"shape\": [\"I\"], \"relation\": null}], \"dimensions\": [{\"label\": \"I\", \"description\": \"number of x-cells\"}]}'"
      ]
     },
     "execution_count": 2,
     "metadata": {},
     "output_type": "execute_result"
    }
   ],
   "source": [
    "p = Property(\n",
    "    label='temperature',\n",
    "    type='float', \n",
    "    unit='C', \n",
    "    shape=['I'])\n",
    "\n",
    "d = Dimension(label='I', description='number of x-cells')\n",
    "e = Entity(\n",
    "    identity='http://onto-ns.com/entity/1.0#eee', \n",
    "    description='desc',\n",
    "    properties=[p], \n",
    "    dimensions=[d])\n",
    "e.json()"
   ]
  },
  {
   "cell_type": "code",
   "execution_count": null,
   "id": "13f0e71a-415a-431a-b99f-b7d7ed010a79",
   "metadata": {},
   "outputs": [],
   "source": []
  },
  {
   "cell_type": "code",
   "execution_count": null,
   "id": "aa1253cf-005c-4b3c-a9e7-b29202bfa079",
   "metadata": {},
   "outputs": [],
   "source": [
    "from typing import Optional, List\n",
    "from pydantic import BaseModel, AnyUrl\n",
    "   \n",
    "class Dimension(BaseModel):\n",
    "    label: str\n",
    "    description: str\n",
    "    \n",
    "class Property(BaseModel):\n",
    "    label: str\n",
    "    type: str    \n",
    "    unit: Optional[str]\n",
    "    shape: Optional[List[str]]\n",
    "    relation: Optional[AnyUrl]\n",
    "   \n",
    "class Entity(BaseModel):\n",
    "    identity: AnyUrl\n",
    "    description: str\n",
    "    properties: List[Property]\n",
    "    dimensions: List[Dimension]"
   ]
  },
  {
   "cell_type": "code",
   "execution_count": null,
   "id": "0d0b7ba9-a368-45f0-8cf4-9cb54e0dc47c",
   "metadata": {},
   "outputs": [],
   "source": []
  }
 ],
 "metadata": {
  "kernelspec": {
   "display_name": "Python 3 (ipykernel)",
   "language": "python",
   "name": "python3"
  },
  "language_info": {
   "codemirror_mode": {
    "name": "ipython",
    "version": 3
   },
   "file_extension": ".py",
   "mimetype": "text/x-python",
   "name": "python",
   "nbconvert_exporter": "python",
   "pygments_lexer": "ipython3",
   "version": "3.9.7"
  }
 },
 "nbformat": 4,
 "nbformat_minor": 5
}
