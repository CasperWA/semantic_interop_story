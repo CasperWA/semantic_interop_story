{
 "cells": [
  {
   "cell_type": "markdown",
   "id": "b0e13b7c-a123-4b7a-8d12-273be507e956",
   "metadata": {},
   "source": [
    "  dimensions:\n",
    "    - NS : Number of Simulations\n",
    "    - CT : Component Type\n",
    "  properties:\n",
    "    formula_id:  \n",
    "      shape: [\"NS\",\"CT\"]\n",
    "      type: \"string\"\n",
    "    dosage:\n",
    "      shape: [\"NS\",\"CT\"] \n",
    "      type: float\n",
    "      unit: \"m³\"\n",
    "    density:\n",
    "       shape: [\"NS\",\"CT\"]\n",
    "       type: float\n",
    "       unit:\n",
    "    volume:\n",
    "       shape: [\"NS\",\"CT\"]\n",
    "    simulationid:\n",
    "      shape: [\"NS\"]      \n",
    "    component_type:\n",
    "      shape: [\"CT\"]      \n",
    "      "
   ]
  },
  {
   "cell_type": "code",
   "execution_count": 1,
   "id": "c25a1ce2-4048-4b7f-9307-cf546409ed62",
   "metadata": {},
   "outputs": [],
   "source": [
    "from dataclasses import dataclass\n",
    "from typing import List\n",
    "from openpyxl import load_workbook\n",
    "from openpyxl.utils import column_index_from_string, get_column_letter\n",
    "from openpyxl.worksheet.cell_range import CellRange\n",
    "from itertools import product\n",
    "import numpy as np\n",
    "import re\n",
    "\n",
    "\n",
    "path = \"/home/jovyan/work/semantic_interop_story/sim_database_example.xlsx\"\n",
    "wb_obj = load_workbook(path, data_only=True)\n",
    "sheet_obj = wb_obj[\"formula\"]\n"
   ]
  },
  {
   "cell_type": "code",
   "execution_count": 26,
   "id": "23f7c2fd-1b10-4580-8b01-4ab51c360386",
   "metadata": {},
   "outputs": [],
   "source": [
    "simulation = []\n",
    "cellRange = CellRange(\"B2:B4951\")\n",
    "for cell in product(\n",
    "    range(cellRange.min_row, cellRange.max_row+1),\n",
    "    range(cellRange.min_col, cellRange.max_col+1)):\n",
    "    cell_obj = sheet_obj.cell(*cell)    \n",
    "    v = cell_obj.value\n",
    "    if not v in simulation:\n",
    "        simulation.append(v) \n",
    "    "
   ]
  },
  {
   "cell_type": "code",
   "execution_count": 36,
   "id": "d336942d-4b9d-4264-b8cc-795a3a45360a",
   "metadata": {},
   "outputs": [],
   "source": [
    "forumulaid = []\n",
    "cellRange = CellRange(\"A2:A4951\")\n",
    "for cell in product(\n",
    "    range(cellRange.min_row, cellRange.max_row+1),\n",
    "    range(cellRange.min_col, cellRange.max_col+1)):\n",
    "    cell_obj = sheet_obj.cell(*cell)    \n",
    "    v = cell_obj.value\n",
    "    if not v in forumulaid:\n",
    "        forumulaid.append(v)    \n"
   ]
  },
  {
   "cell_type": "code",
   "execution_count": 37,
   "id": "cb3b886d-e406-4484-811b-af905a5b8f2f",
   "metadata": {},
   "outputs": [],
   "source": [
    "pos = []\n",
    "cellRange = CellRange(\"C2:C4\")\n",
    "for cell in product(\n",
    "    range(cellRange.min_row, cellRange.max_row+1),\n",
    "    range(cellRange.min_col, cellRange.max_col+1)):\n",
    "    cell_obj = sheet_obj.cell(*cell)    \n",
    "    v = cell_obj.value\n",
    "    if not v in forumulaid:\n",
    "        pos.append(v)    \n"
   ]
  },
  {
   "cell_type": "code",
   "execution_count": 44,
   "id": "d663b331-6893-4cd1-8b47-389188e7b7de",
   "metadata": {},
   "outputs": [],
   "source": [
    "num_s = len(simulation)\n",
    "num_f = len(forumulaid)\n",
    "num_p = len(pos)\n"
   ]
  },
  {
   "cell_type": "code",
   "execution_count": 45,
   "id": "b0a92bfc-2ef1-4df5-ac99-b7ebf7452e5a",
   "metadata": {},
   "outputs": [],
   "source": [
    "import numpy as np\n",
    "dosage = np.zeros((num_s, num_f, num_p))"
   ]
  },
  {
   "cell_type": "code",
   "execution_count": 48,
   "id": "840397f4-1133-4783-9ee2-be90bd1c75c9",
   "metadata": {},
   "outputs": [
    {
     "ename": "ValueError",
     "evalue": "cannot reshape array of size 4950 into shape (9,804,3)",
     "output_type": "error",
     "traceback": [
      "\u001b[0;31m---------------------------------------------------------------------------\u001b[0m",
      "\u001b[0;31mValueError\u001b[0m                                Traceback (most recent call last)",
      "\u001b[0;32m/tmp/ipykernel_1408/3358420027.py\u001b[0m in \u001b[0;36m<module>\u001b[0;34m\u001b[0m\n\u001b[1;32m      7\u001b[0m     \u001b[0mv\u001b[0m \u001b[0;34m=\u001b[0m \u001b[0mcell_obj\u001b[0m\u001b[0;34m.\u001b[0m\u001b[0mvalue\u001b[0m\u001b[0;34m\u001b[0m\u001b[0;34m\u001b[0m\u001b[0m\n\u001b[1;32m      8\u001b[0m     \u001b[0mdosage\u001b[0m\u001b[0;34m.\u001b[0m\u001b[0mappend\u001b[0m\u001b[0;34m(\u001b[0m\u001b[0mv\u001b[0m\u001b[0;34m)\u001b[0m\u001b[0;34m\u001b[0m\u001b[0;34m\u001b[0m\u001b[0m\n\u001b[0;32m----> 9\u001b[0;31m \u001b[0mdosage\u001b[0m \u001b[0;34m=\u001b[0m \u001b[0mnp\u001b[0m\u001b[0;34m.\u001b[0m\u001b[0mreshape\u001b[0m\u001b[0;34m(\u001b[0m\u001b[0mdosage\u001b[0m\u001b[0;34m,\u001b[0m \u001b[0;34m(\u001b[0m\u001b[0mnum_s\u001b[0m\u001b[0;34m,\u001b[0m \u001b[0mnum_f\u001b[0m\u001b[0;34m,\u001b[0m \u001b[0mnum_p\u001b[0m\u001b[0;34m)\u001b[0m\u001b[0;34m)\u001b[0m\u001b[0;34m.\u001b[0m\u001b[0mT\u001b[0m\u001b[0;34m\u001b[0m\u001b[0;34m\u001b[0m\u001b[0m\n\u001b[0m",
      "\u001b[0;32m/opt/conda/lib/python3.9/site-packages/numpy/core/overrides.py\u001b[0m in \u001b[0;36mreshape\u001b[0;34m(*args, **kwargs)\u001b[0m\n",
      "\u001b[0;32m/opt/conda/lib/python3.9/site-packages/numpy/core/fromnumeric.py\u001b[0m in \u001b[0;36mreshape\u001b[0;34m(a, newshape, order)\u001b[0m\n\u001b[1;32m    296\u001b[0m            [5, 6]])\n\u001b[1;32m    297\u001b[0m     \"\"\"\n\u001b[0;32m--> 298\u001b[0;31m     \u001b[0;32mreturn\u001b[0m \u001b[0m_wrapfunc\u001b[0m\u001b[0;34m(\u001b[0m\u001b[0ma\u001b[0m\u001b[0;34m,\u001b[0m \u001b[0;34m'reshape'\u001b[0m\u001b[0;34m,\u001b[0m \u001b[0mnewshape\u001b[0m\u001b[0;34m,\u001b[0m \u001b[0morder\u001b[0m\u001b[0;34m=\u001b[0m\u001b[0morder\u001b[0m\u001b[0;34m)\u001b[0m\u001b[0;34m\u001b[0m\u001b[0;34m\u001b[0m\u001b[0m\n\u001b[0m\u001b[1;32m    299\u001b[0m \u001b[0;34m\u001b[0m\u001b[0m\n\u001b[1;32m    300\u001b[0m \u001b[0;34m\u001b[0m\u001b[0m\n",
      "\u001b[0;32m/opt/conda/lib/python3.9/site-packages/numpy/core/fromnumeric.py\u001b[0m in \u001b[0;36m_wrapfunc\u001b[0;34m(obj, method, *args, **kwds)\u001b[0m\n\u001b[1;32m     52\u001b[0m     \u001b[0mbound\u001b[0m \u001b[0;34m=\u001b[0m \u001b[0mgetattr\u001b[0m\u001b[0;34m(\u001b[0m\u001b[0mobj\u001b[0m\u001b[0;34m,\u001b[0m \u001b[0mmethod\u001b[0m\u001b[0;34m,\u001b[0m \u001b[0;32mNone\u001b[0m\u001b[0;34m)\u001b[0m\u001b[0;34m\u001b[0m\u001b[0;34m\u001b[0m\u001b[0m\n\u001b[1;32m     53\u001b[0m     \u001b[0;32mif\u001b[0m \u001b[0mbound\u001b[0m \u001b[0;32mis\u001b[0m \u001b[0;32mNone\u001b[0m\u001b[0;34m:\u001b[0m\u001b[0;34m\u001b[0m\u001b[0;34m\u001b[0m\u001b[0m\n\u001b[0;32m---> 54\u001b[0;31m         \u001b[0;32mreturn\u001b[0m \u001b[0m_wrapit\u001b[0m\u001b[0;34m(\u001b[0m\u001b[0mobj\u001b[0m\u001b[0;34m,\u001b[0m \u001b[0mmethod\u001b[0m\u001b[0;34m,\u001b[0m \u001b[0;34m*\u001b[0m\u001b[0margs\u001b[0m\u001b[0;34m,\u001b[0m \u001b[0;34m**\u001b[0m\u001b[0mkwds\u001b[0m\u001b[0;34m)\u001b[0m\u001b[0;34m\u001b[0m\u001b[0;34m\u001b[0m\u001b[0m\n\u001b[0m\u001b[1;32m     55\u001b[0m \u001b[0;34m\u001b[0m\u001b[0m\n\u001b[1;32m     56\u001b[0m     \u001b[0;32mtry\u001b[0m\u001b[0;34m:\u001b[0m\u001b[0;34m\u001b[0m\u001b[0;34m\u001b[0m\u001b[0m\n",
      "\u001b[0;32m/opt/conda/lib/python3.9/site-packages/numpy/core/fromnumeric.py\u001b[0m in \u001b[0;36m_wrapit\u001b[0;34m(obj, method, *args, **kwds)\u001b[0m\n\u001b[1;32m     41\u001b[0m     \u001b[0;32mexcept\u001b[0m \u001b[0mAttributeError\u001b[0m\u001b[0;34m:\u001b[0m\u001b[0;34m\u001b[0m\u001b[0;34m\u001b[0m\u001b[0m\n\u001b[1;32m     42\u001b[0m         \u001b[0mwrap\u001b[0m \u001b[0;34m=\u001b[0m \u001b[0;32mNone\u001b[0m\u001b[0;34m\u001b[0m\u001b[0;34m\u001b[0m\u001b[0m\n\u001b[0;32m---> 43\u001b[0;31m     \u001b[0mresult\u001b[0m \u001b[0;34m=\u001b[0m \u001b[0mgetattr\u001b[0m\u001b[0;34m(\u001b[0m\u001b[0masarray\u001b[0m\u001b[0;34m(\u001b[0m\u001b[0mobj\u001b[0m\u001b[0;34m)\u001b[0m\u001b[0;34m,\u001b[0m \u001b[0mmethod\u001b[0m\u001b[0;34m)\u001b[0m\u001b[0;34m(\u001b[0m\u001b[0;34m*\u001b[0m\u001b[0margs\u001b[0m\u001b[0;34m,\u001b[0m \u001b[0;34m**\u001b[0m\u001b[0mkwds\u001b[0m\u001b[0;34m)\u001b[0m\u001b[0;34m\u001b[0m\u001b[0;34m\u001b[0m\u001b[0m\n\u001b[0m\u001b[1;32m     44\u001b[0m     \u001b[0;32mif\u001b[0m \u001b[0mwrap\u001b[0m\u001b[0;34m:\u001b[0m\u001b[0;34m\u001b[0m\u001b[0;34m\u001b[0m\u001b[0m\n\u001b[1;32m     45\u001b[0m         \u001b[0;32mif\u001b[0m \u001b[0;32mnot\u001b[0m \u001b[0misinstance\u001b[0m\u001b[0;34m(\u001b[0m\u001b[0mresult\u001b[0m\u001b[0;34m,\u001b[0m \u001b[0mmu\u001b[0m\u001b[0;34m.\u001b[0m\u001b[0mndarray\u001b[0m\u001b[0;34m)\u001b[0m\u001b[0;34m:\u001b[0m\u001b[0;34m\u001b[0m\u001b[0;34m\u001b[0m\u001b[0m\n",
      "\u001b[0;31mValueError\u001b[0m: cannot reshape array of size 4950 into shape (9,804,3)"
     ]
    }
   ],
   "source": [
    "dosage = []\n",
    "cellRange = CellRange(\"D2:D4951\")\n",
    "for cell in product(\n",
    "    range(cellRange.min_row, cellRange.max_row+1),\n",
    "    range(cellRange.min_col, cellRange.max_col+1)):\n",
    "    cell_obj = sheet_obj.cell(*cell)    \n",
    "    v = cell_obj.value    \n",
    "    dosage.append(v)    \n",
    "dosage = np.reshape(dosage, (num_s, num_f, num_p)).T"
   ]
  },
  {
   "cell_type": "code",
   "execution_count": 49,
   "id": "708000e6-c01b-4783-bedd-56c0add2b47a",
   "metadata": {},
   "outputs": [
    {
     "data": {
      "text/plain": [
       "21708"
      ]
     },
     "execution_count": 49,
     "metadata": {},
     "output_type": "execute_result"
    }
   ],
   "source": [
    "9*804*3"
   ]
  },
  {
   "cell_type": "code",
   "execution_count": 52,
   "id": "63c22022-21c8-4a66-aff3-602953103ea7",
   "metadata": {},
   "outputs": [
    {
     "data": {
      "text/plain": [
       "183.66666666666666"
      ]
     },
     "execution_count": 52,
     "metadata": {},
     "output_type": "execute_result"
    }
   ],
   "source": [
    "4959/3/9"
   ]
  },
  {
   "cell_type": "code",
   "execution_count": 54,
   "id": "b3c2fddb-70fa-4b6e-8d84-851da62bbe50",
   "metadata": {},
   "outputs": [
    {
     "data": {
      "text/plain": [
       "804"
      ]
     },
     "execution_count": 54,
     "metadata": {},
     "output_type": "execute_result"
    }
   ],
   "source": [
    "len(forumulaid)"
   ]
  },
  {
   "cell_type": "code",
   "execution_count": 56,
   "id": "278577c5-769d-42a5-aafe-f8d53b0f75d2",
   "metadata": {},
   "outputs": [
    {
     "data": {
      "text/plain": [
       "268.0"
      ]
     },
     "execution_count": 56,
     "metadata": {},
     "output_type": "execute_result"
    }
   ],
   "source": [
    "804/3"
   ]
  },
  {
   "cell_type": "code",
   "execution_count": 57,
   "id": "4ea7ce1f-a803-4c0d-ba59-51ccb0322dd9",
   "metadata": {},
   "outputs": [
    {
     "data": {
      "text/plain": [
       "29.77777777777778"
      ]
     },
     "execution_count": 57,
     "metadata": {},
     "output_type": "execute_result"
    }
   ],
   "source": [
    "268/9"
   ]
  },
  {
   "cell_type": "code",
   "execution_count": null,
   "id": "9de72ce3-5a2a-4f34-b7db-aa77fa4a668f",
   "metadata": {},
   "outputs": [],
   "source": []
  }
 ],
 "metadata": {
  "kernelspec": {
   "display_name": "Python 3 (ipykernel)",
   "language": "python",
   "name": "python3"
  },
  "language_info": {
   "codemirror_mode": {
    "name": "ipython",
    "version": 3
   },
   "file_extension": ".py",
   "mimetype": "text/x-python",
   "name": "python",
   "nbconvert_exporter": "python",
   "pygments_lexer": "ipython3",
   "version": "3.9.7"
  }
 },
 "nbformat": 4,
 "nbformat_minor": 5
}
