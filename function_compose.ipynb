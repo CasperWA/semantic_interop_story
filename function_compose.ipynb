{
 "cells": [
  {
   "cell_type": "code",
   "execution_count": 1,
   "id": "8b347f06-f801-43f4-8c01-70b9820ef27e",
   "metadata": {},
   "outputs": [],
   "source": [
    "from dataclasses import dataclass\n",
    "from s7.graph import Graph\n",
    "g = Graph()\n",
    "g.clear()\n",
    "\n",
    "g.append(('PhysicalQuantity', 'is-a', 'Quantity'))\n",
    "g.append(('Salinity', 'is-a', 'PhysicalQuantity'))\n",
    "\n",
    "g.append(('cf:sea_water_cox_salinity', 'is-a', 'Salinity'))\n",
    "g.append(('cf:sea_water_knudsen_salinity', 'is-a', 'Salinity'))\n",
    "g.append(('cf:sea_water_absolute_salinity', 'is-a', 'Salinity'))\n",
    "g.append(('cf:sea_water_practical_salinity', 'is-a', 'Salinity'))\n",
    "g.append(('cf:latitude', 'is-a', 'PhysicalQuantity'))\n",
    "g.append(('cf:longitude', 'is-a', 'PhysicalQuantity'))\n",
    "\n",
    "knudsen_to_practical_salinity = lambda s_k : (s_k - 0.03) * (1.80655 / 1.805)\n",
    "g.append(('fn:knudsen_to_practical_salinity', 'is-a', 'fno:Function'))\n",
    "g.append(('fn:knudsen_to_practical_salinity', 'fn:function', knudsen_to_practical_salinity))\n",
    "g.append(('fn:knudsen_to_practical_salinity', 'fno:expects', 'cf:sea_water_knudsen_salinity'))\n",
    "g.append(('fn:knudsen_to_practical_salinity', 'fno:returns', 'cf:sea_water_practical_salinity'))\n",
    "\n",
    "@dataclass\n",
    "class ClimateForecastData:\n",
    "    \"\"\" Class containing CF data \"\"\"\n",
    "    lat: float = 0\n",
    "    lon: float = 0\n",
    "    salinity: float = 0"
   ]
  },
  {
   "cell_type": "code",
   "execution_count": 2,
   "id": "1c7b6470-4a50-46a8-bec5-085243874037",
   "metadata": {},
   "outputs": [],
   "source": [
    "cf = ClimateForecastData (lat = 10,\n",
    "                          lon = 20,\n",
    "                          salinity = 0.21)\n",
    "#g.append((lambda : cf.lat, 'maps-to', 'cf:latitude'))\n",
    "#g.append((lambda : cf.lon, 'maps-to', 'cf:longitude'))\n",
    "#g.append((lambda : cf.salinity, 'maps-to', 'cf:sea_water_knudsen_salinity'))"
   ]
  },
  {
   "cell_type": "code",
   "execution_count": 3,
   "id": "b49f31f2-d748-4e80-848a-4834ba4137ec",
   "metadata": {},
   "outputs": [],
   "source": [
    "# Consumer side\n",
    "\n",
    "consumer = ClimateForecastData()\n",
    "#g.append((lambda : consumer.salinity, 'maps-to', 'cf:sea_water_practical_salinity'))"
   ]
  },
  {
   "cell_type": "code",
   "execution_count": 4,
   "id": "3d5d5970-fb73-4a51-ace9-8973db7785f0",
   "metadata": {},
   "outputs": [
    {
     "name": "stdout",
     "output_type": "stream",
     "text": [
      "None\n"
     ]
    }
   ],
   "source": [
    "def path(origin, destination, link=None, visited=[]):\n",
    "    if not link:\n",
    "        link = [origin]    \n",
    "    visited.append(origin)\n",
    "    for _, r, o in g.match(origin, None, None):\n",
    "        if not o in visited:\n",
    "            if o == destination:                \n",
    "                return link\n",
    "            else:\n",
    "                link.append(o)            \n",
    "                return path(o, destination, visited)\n",
    "    \n",
    "link = path('consumer:cas', 'entity')\n",
    "print (link)\n",
    "\n",
    "entityid='<http://onto-ns/entity/1/ClimateForecastData#2c1d66e2>'\n",
    "salinity_property='<http://onto-ns/entity/1/salinity#c2c0ef48>'\n",
    "g.append((entityid, 'instance', cf))\n",
    "g.append((entityid, 'is-a', 'Entity'))\n",
    "g.append((entityid, 'has-property', salinity_property))\n",
    "g.append((salinity_property, 'maps-to', 'cf:sea_water_knudsen_salinity'))\n",
    "g.append(('cf:sea_water_knudsen_salinity', 'maps-from', salinity_property))\n",
    "\n",
    "\n"
   ]
  },
  {
   "cell_type": "code",
   "execution_count": 5,
   "id": "74c523a3-a8b4-47c0-a209-2e26ba18b4c8",
   "metadata": {},
   "outputs": [
    {
     "name": "stdout",
     "output_type": "stream",
     "text": [
      "digraph G {\n",
      "\t\"PhysicalQuantity\" -> \"Quantity\" [label=\"is-a\"];\n",
      "\t\"Salinity\" -> \"PhysicalQuantity\" [label=\"is-a\"];\n",
      "\t\"cf:sea_water_cox_salinity\" -> \"Salinity\" [label=\"is-a\"];\n",
      "\t\"cf:sea_water_knudsen_salinity\" -> \"Salinity\" [label=\"is-a\"];\n",
      "\t\"cf:sea_water_absolute_salinity\" -> \"Salinity\" [label=\"is-a\"];\n",
      "\t\"cf:sea_water_practical_salinity\" -> \"Salinity\" [label=\"is-a\"];\n",
      "\t\"cf:latitude\" -> \"PhysicalQuantity\" [label=\"is-a\"];\n",
      "\t\"cf:longitude\" -> \"PhysicalQuantity\" [label=\"is-a\"];\n",
      "\t\"fn:knudsen_to_practical_salinity\" -> \"fno:Function\" [label=\"is-a\"];\n",
      "\t\"fn:knudsen_to_practical_salinity\" -> \"<function <lambda> at 0x7fd9046b8a60>\" [label=\"fn:function\"];\n",
      "\t\"fn:knudsen_to_practical_salinity\" -> \"cf:sea_water_knudsen_salinity\" [label=\"fno:expects\"];\n",
      "\t\"fn:knudsen_to_practical_salinity\" -> \"cf:sea_water_practical_salinity\" [label=\"fno:returns\"];\n",
      "\t\"<http://onto-ns/entity/1/ClimateForecastData#2c1d66e2>\" -> \"ClimateForecastData(lat=10, lon=20, salinity=0.21)\" [label=\"instance\"];\n",
      "\t\"<http://onto-ns/entity/1/ClimateForecastData#2c1d66e2>\" -> \"Entity\" [label=\"is-a\"];\n",
      "\t\"<http://onto-ns/entity/1/ClimateForecastData#2c1d66e2>\" -> \"<http://onto-ns/entity/1/salinity#c2c0ef48>\" [label=\"has-property\"];\n",
      "\t\"<http://onto-ns/entity/1/salinity#c2c0ef48>\" -> \"cf:sea_water_knudsen_salinity\" [label=\"maps-to\"];\n",
      "\t\"cf:sea_water_knudsen_salinity\" -> \"<http://onto-ns/entity/1/salinity#c2c0ef48>\" [label=\"maps-from\"];\n",
      "}\n"
     ]
    }
   ],
   "source": [
    "print(\"digraph G {\")\n",
    "for s,p,o in g.match():\n",
    "    print (f'\\t\"{s}\" -> \"{o}\" [label=\"{p}\"];')\n",
    "print(\"}\")"
   ]
  },
  {
   "cell_type": "code",
   "execution_count": 25,
   "id": "f8bf8122-be59-445a-9c08-ed8bdaab8143",
   "metadata": {},
   "outputs": [
    {
     "data": {
      "text/plain": [
       "19.987148753462606"
      ]
     },
     "execution_count": 25,
     "metadata": {},
     "output_type": "execute_result"
    }
   ],
   "source": [
    "from functools import partial\n",
    "\n",
    "def convert(value: float, factor: float, offset: float) -> float:\n",
    "    return (value+offset) * factor\n",
    "\n",
    "value = 20.0\n",
    "factor = 1.80655/1.805\n",
    "offset = -0.03\n",
    "output = None\n",
    "\n",
    "def set_output(v):\n",
    "    global output\n",
    "    output = v\n",
    "\n",
    "class Function:\n",
    "    Parameter = 'http://onto.onto-ns.com/function/1.0.0#Parameter'\n",
    "    Function = 'http://onto.onto-ns.com/function/1.0.0#Function'\n",
    "    Execution = 'http://onto.onto-ns.com/function/1.0.0#Execution'\n",
    "    Output = 'http://onto.onto-ns.com/function/1.0.0#Output' \n",
    "    name = 'http://onto.onto-ns.com/function/1.0.0#name'\n",
    "    required = 'http://onto.onto-ns.com/function/1.0.0#required'\n",
    "    type = 'http://onto.onto-ns.com/function/1.0.0#type'\n",
    "    expects = 'http://onto.onto-ns.com/function/1.0.0#expects'\n",
    "    returns = 'http://onto.onto-ns.com/function/1.0.0#returns'\n",
    "    fromValue = 'http://onto.onto-ns.com/function/1.0.0#fromValue'\n",
    "    executes = 'http://onto.onto-ns.com/function/1.0.0#executes'\n",
    "\n",
    "FNO = Function\n",
    "\n",
    "f = Graph()\n",
    "f.clear()\n",
    "f.parse('file:///home/jovyan/work/semantic_interop_story/function.ttl')\n",
    "f.append(('ex:convert', 'is-a', FNO.Function))\n",
    "f.append(('ex:convert', FNO.expects, 'ex:value'))\n",
    "f.append(('ex:convert', FNO.executes, convert))\n",
    "f.append(('ex:value',   'is-a', 'fno:Parameter'))\n",
    "f.append(('ex:value',   ':label', 'value'))\n",
    "f.append(('ex:value',   FNO.fromValue, lambda : value))\n",
    "f.append(('ex:factor',  'is-a', 'fno:Parameter'))\n",
    "f.append(('ex:factor',  ':label', 'factor'))\n",
    "f.append(('ex:factor',  FNO.fromValue, lambda : factor))\n",
    "f.append(('ex:offset',  'is-a', 'fno:Parameter'))\n",
    "f.append(('ex:offset',  ':label', 'offset'))\n",
    "f.append(('ex:offset',  FNO.fromValue, lambda : offset))\n",
    "\n",
    "f.append(('ex:convert', FNO.expects, 'ex:value'))\n",
    "f.append(('ex:convert', FNO.expects, 'ex:factor'))\n",
    "f.append(('ex:convert', FNO.expects, 'ex:offset'))\n",
    "f.append(('ex:convert', FNO.returns, 'ex:outputValue'))\n",
    "f.append(('ex:outputValue', 'is-a', 'fno:Output'))\n",
    "f.append(('ex:outputValue', ':to-value', set_output))\n",
    "\n",
    "\n",
    "def execute(lbl):\n",
    "    for func,_,exe in f.match(lbl, FNO.executes):\n",
    "        args = {}\n",
    "        for _,_,parameter in f.match(func, FNO.expects):\n",
    "            d = dict(zip([l for _,_,l in f.match(parameter, ':label')], \n",
    "                         [v() for _,_,v in f.match(parameter, FNO.fromValue)]))\n",
    "            args.update(d)\n",
    "\n",
    "        res = exe(**args)\n",
    "        return exe(**args)    \n",
    "    \n",
    "execute('ex:convert')"
   ]
  },
  {
   "cell_type": "code",
   "execution_count": 17,
   "id": "d8fb5ddf-40c2-45c8-9957-79773b86626d",
   "metadata": {},
   "outputs": [
    {
     "name": "stdout",
     "output_type": "stream",
     "text": [
      "digraph G {\n",
      "\t\"http://onto.onto-ns.com/function/1.0.0/OWLDataProperty_023e01b5_ae6b_4609_b58b_9bfd3a893161\" -> \"http://onto.onto-ns.com/function/1.0.0/OWLClass_e148914f_c5e1_4267_974d_e00e024828ac\" [label=\"http://www.w3.org/2000/01/rdf-schema#domain\"];\n",
      "\t\"http://onto.onto-ns.com/function/1.0.0/OWLDataProperty_4d288b08_8268_4479_9743_d4bbfd0f0e89\" -> \"required\" [label=\"http://www.w3.org/2000/01/rdf-schema#label\"];\n",
      "\t\"http://onto.onto-ns.com/function/1.0.0/OWLDataProperty_e1d41029_41ba_4c07_acb9_4dcde5b96555\" -> \"name\" [label=\"http://www.w3.org/2000/01/rdf-schema#label\"];\n",
      "\t\"http://onto.onto-ns.com/function/1.0.0/OWLClass_c20c41ba_6e23_4484_a7e9_8db1b7939c03\" -> \"http://www.w3.org/2002/07/owl#Class\" [label=\"http://www.w3.org/1999/02/22-rdf-syntax-ns#type\"];\n",
      "\t\"http://onto.onto-ns.com/function/1.0.0/OWLDataProperty_4d288b08_8268_4479_9743_d4bbfd0f0e89\" -> \"http://www.w3.org/2001/XMLSchema#boolean\" [label=\"http://www.w3.org/2000/01/rdf-schema#range\"];\n",
      "\t\"http://onto.onto-ns.com/function/1.0.0/OWLDataProperty_023e01b5_ae6b_4609_b58b_9bfd3a893161\" -> \"http://www.w3.org/2002/07/owl#DatatypeProperty\" [label=\"http://www.w3.org/1999/02/22-rdf-syntax-ns#type\"];\n",
      "\t\"http://onto.onto-ns.com/function/1.0.0/OWLObjectProperty_678a6912_38a2_4a04_907c_c6ef54dac071\" -> \"http://www.w3.org/2002/07/owl#ObjectProperty\" [label=\"http://www.w3.org/1999/02/22-rdf-syntax-ns#type\"];\n",
      "\t\"http://onto.onto-ns.com/function/1.0.0/OWLDataProperty_4d288b08_8268_4479_9743_d4bbfd0f0e89\" -> \"http://onto.onto-ns.com/function/1.0.0/OWLClass_54979f4c_c1a8_48e9_94a6_4afd98453609\" [label=\"http://www.w3.org/2000/01/rdf-schema#domain\"];\n",
      "\t\"http://onto.onto-ns.com/function/1.0.0/OWLObjectProperty_678a6912_38a2_4a04_907c_c6ef54dac071\" -> \"returns\" [label=\"http://www.w3.org/2000/01/rdf-schema#label\"];\n",
      "\t\"http://onto.onto-ns.com/function/1.0.0/\" -> \"http://www.w3.org/2002/07/owl#Ontology\" [label=\"http://www.w3.org/1999/02/22-rdf-syntax-ns#type\"];\n",
      "\t\"http://onto.onto-ns.com/function/1.0.0/OWLObjectProperty_c8f19b15_ccd5_4b7b_97c9_a7032e2a3760\" -> \"expects\" [label=\"http://www.w3.org/2000/01/rdf-schema#label\"];\n",
      "\t\"http://onto.onto-ns.com/function/1.0.0/OWLObjectProperty_e24a0cb8_0131_44c9_afe7_98d1ab16ab41\" -> \"http://www.w3.org/2002/07/owl#ObjectProperty\" [label=\"http://www.w3.org/1999/02/22-rdf-syntax-ns#type\"];\n",
      "\t\"http://onto.onto-ns.com/function/1.0.0/OWLObjectProperty_678a6912_38a2_4a04_907c_c6ef54dac071\" -> \"http://onto.onto-ns.com/function/1.0.0/OWLClass_e148914f_c5e1_4267_974d_e00e024828ac\" [label=\"http://www.w3.org/2000/01/rdf-schema#range\"];\n",
      "\t\"http://onto.onto-ns.com/function/1.0.0/OWLDataProperty_023e01b5_ae6b_4609_b58b_9bfd3a893161\" -> \"type\" [label=\"http://www.w3.org/2000/01/rdf-schema#label\"];\n",
      "\t\"http://onto.onto-ns.com/function/1.0.0/OWLClass_e148914f_c5e1_4267_974d_e00e024828ac\" -> \"http://www.w3.org/2002/07/owl#Class\" [label=\"http://www.w3.org/1999/02/22-rdf-syntax-ns#type\"];\n",
      "\t\"http://onto.onto-ns.com/function/1.0.0/OWLDataProperty_e1d41029_41ba_4c07_acb9_4dcde5b96555\" -> \"http://www.w3.org/2001/XMLSchema#string\" [label=\"http://www.w3.org/2000/01/rdf-schema#range\"];\n",
      "\t\"http://onto.onto-ns.com/function/1.0.0/OWLObjectProperty_678a6912_38a2_4a04_907c_c6ef54dac071\" -> \"http://onto.onto-ns.com/function/1.0.0/OWLClass_c20c41ba_6e23_4484_a7e9_8db1b7939c03\" [label=\"http://www.w3.org/2000/01/rdf-schema#domain\"];\n",
      "\t\"http://onto.onto-ns.com/function/1.0.0/OWLDataProperty_e1d41029_41ba_4c07_acb9_4dcde5b96555\" -> \"http://www.w3.org/2002/07/owl#DatatypeProperty\" [label=\"http://www.w3.org/1999/02/22-rdf-syntax-ns#type\"];\n",
      "\t\"http://onto.onto-ns.com/function/1.0.0/OWLDataProperty_4d288b08_8268_4479_9743_d4bbfd0f0e89\" -> \"http://onto.onto-ns.com/function/1.0.0/OWLClass_e148914f_c5e1_4267_974d_e00e024828ac\" [label=\"http://www.w3.org/2000/01/rdf-schema#domain\"];\n",
      "\t\"http://onto.onto-ns.com/function/1.0.0/OWLDataProperty_4d288b08_8268_4479_9743_d4bbfd0f0e89\" -> \"http://www.w3.org/2002/07/owl#DatatypeProperty\" [label=\"http://www.w3.org/1999/02/22-rdf-syntax-ns#type\"];\n",
      "\t\"http://onto.onto-ns.com/function/1.0.0/OWLObjectProperty_c8f19b15_ccd5_4b7b_97c9_a7032e2a3760\" -> \"http://onto.onto-ns.com/function/1.0.0/OWLClass_54979f4c_c1a8_48e9_94a6_4afd98453609\" [label=\"http://www.w3.org/2000/01/rdf-schema#range\"];\n",
      "\t\"http://onto.onto-ns.com/function/1.0.0/OWLObjectProperty_c8f19b15_ccd5_4b7b_97c9_a7032e2a3760\" -> \"http://www.w3.org/2002/07/owl#ObjectProperty\" [label=\"http://www.w3.org/1999/02/22-rdf-syntax-ns#type\"];\n",
      "\t\"http://onto.onto-ns.com/function/1.0.0/OWLClass_c20c41ba_6e23_4484_a7e9_8db1b7939c03\" -> \"Function\" [label=\"http://www.w3.org/2000/01/rdf-schema#label\"];\n",
      "\t\"http://onto.onto-ns.com/function/1.0.0/OWLClass_54979f4c_c1a8_48e9_94a6_4afd98453609\" -> \"http://www.w3.org/2002/07/owl#Class\" [label=\"http://www.w3.org/1999/02/22-rdf-syntax-ns#type\"];\n",
      "\t\"http://onto.onto-ns.com/function/1.0.0/OWLDataProperty_023e01b5_ae6b_4609_b58b_9bfd3a893161\" -> \"http://onto.onto-ns.com/function/1.0.0/OWLClass_54979f4c_c1a8_48e9_94a6_4afd98453609\" [label=\"http://www.w3.org/2000/01/rdf-schema#domain\"];\n",
      "\t\"http://onto.onto-ns.com/function/1.0.0/OWLClass_54979f4c_c1a8_48e9_94a6_4afd98453609\" -> \"Parameter\" [label=\"http://www.w3.org/2000/01/rdf-schema#label\"];\n",
      "\t\"http://onto.onto-ns.com/function/1.0.0/OWLClass_a9b317bd_4906_4eaf_a3bb_7bdfc86b5ca5\" -> \"Execution\" [label=\"http://www.w3.org/2000/01/rdf-schema#label\"];\n",
      "\t\"http://onto.onto-ns.com/function/1.0.0/OWLObjectProperty_e24a0cb8_0131_44c9_afe7_98d1ab16ab41\" -> \"http://onto.onto-ns.com/function/1.0.0/OWLClass_54979f4c_c1a8_48e9_94a6_4afd98453609\" [label=\"http://www.w3.org/2000/01/rdf-schema#domain\"];\n",
      "\t\"http://onto.onto-ns.com/function/1.0.0/OWLClass_a9b317bd_4906_4eaf_a3bb_7bdfc86b5ca5\" -> \"http://www.w3.org/2002/07/owl#Class\" [label=\"http://www.w3.org/1999/02/22-rdf-syntax-ns#type\"];\n",
      "\t\"http://onto.onto-ns.com/function/1.0.0/OWLClass_e148914f_c5e1_4267_974d_e00e024828ac\" -> \"Output\" [label=\"http://www.w3.org/2000/01/rdf-schema#label\"];\n",
      "\t\"http://onto.onto-ns.com/function/1.0.0/OWLObjectProperty_e24a0cb8_0131_44c9_afe7_98d1ab16ab41\" -> \"fromValue\" [label=\"http://www.w3.org/2000/01/rdf-schema#label\"];\n",
      "\t\"http://onto.onto-ns.com/function/1.0.0/OWLDataProperty_e1d41029_41ba_4c07_acb9_4dcde5b96555\" -> \"http://onto.onto-ns.com/function/1.0.0/OWLClass_c20c41ba_6e23_4484_a7e9_8db1b7939c03\" [label=\"http://www.w3.org/2000/01/rdf-schema#domain\"];\n",
      "\t\"http://onto.onto-ns.com/function/1.0.0/OWLObjectProperty_c8f19b15_ccd5_4b7b_97c9_a7032e2a3760\" -> \"http://onto.onto-ns.com/function/1.0.0/OWLClass_c20c41ba_6e23_4484_a7e9_8db1b7939c03\" [label=\"http://www.w3.org/2000/01/rdf-schema#domain\"];\n",
      "\t\"ex:convert\" -> \"fno:Function\" [label=\"is-a\"];\n",
      "\t\"ex:convert\" -> \"ex:value\" [label=\"fno:expects\"];\n",
      "\t\"ex:convert\" -> \"<function convert at 0x7fd8fc0964c0>\" [label=\":executes\"];\n",
      "\t\"ex:value\" -> \"fno:Parameter\" [label=\"is-a\"];\n",
      "\t\"ex:value\" -> \"value\" [label=\":label\"];\n",
      "\t\"ex:value\" -> \"<function <lambda> at 0x7fd8fc0d39d0>\" [label=\":from-value\"];\n",
      "\t\"ex:factor\" -> \"fno:Parameter\" [label=\"is-a\"];\n",
      "\t\"ex:factor\" -> \"factor\" [label=\":label\"];\n",
      "\t\"ex:factor\" -> \"<function <lambda> at 0x7fd8fc096550>\" [label=\":from-value\"];\n",
      "\t\"ex:offset\" -> \"fno:Parameter\" [label=\"is-a\"];\n",
      "\t\"ex:offset\" -> \"offset\" [label=\":label\"];\n",
      "\t\"ex:offset\" -> \"<function <lambda> at 0x7fd8fc0961f0>\" [label=\":from-value\"];\n",
      "\t\"ex:convert\" -> \"ex:factor\" [label=\"fno:expects\"];\n",
      "\t\"ex:convert\" -> \"ex:offset\" [label=\"fno:expects\"];\n",
      "\t\"ex:convert\" -> \"ex:outputValue\" [label=\"fno:returns\"];\n",
      "\t\"ex:outputValue\" -> \"fno:Output\" [label=\"is-a\"];\n",
      "\t\"ex:outputValue\" -> \"<function set_output at 0x7fd8fc096f70>\" [label=\":to-value\"];\n",
      "}\n"
     ]
    }
   ],
   "source": [
    "print(\"digraph G {\")\n",
    "for s,p,o in f.match():\n",
    "    print (f'\\t\"{s}\" -> \"{o}\" [label=\"{p}\"];')\n",
    "print(\"}\")"
   ]
  },
  {
   "cell_type": "code",
   "execution_count": null,
   "id": "d8ceb681-c201-4db9-b8eb-cd9c2e2a7ca3",
   "metadata": {},
   "outputs": [],
   "source": []
  }
 ],
 "metadata": {
  "kernelspec": {
   "display_name": "Python 3 (ipykernel)",
   "language": "python",
   "name": "python3"
  },
  "language_info": {
   "codemirror_mode": {
    "name": "ipython",
    "version": 3
   },
   "file_extension": ".py",
   "mimetype": "text/x-python",
   "name": "python",
   "nbconvert_exporter": "python",
   "pygments_lexer": "ipython3",
   "version": "3.9.7"
  }
 },
 "nbformat": 4,
 "nbformat_minor": 5
}
