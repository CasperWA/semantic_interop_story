{
 "cells": [
  {
   "cell_type": "code",
   "execution_count": 1,
   "id": "88a32774-6b32-4f10-9922-32431055d67e",
   "metadata": {},
   "outputs": [],
   "source": [
    "from s7.graph import Graph\n",
    "g = Graph()"
   ]
  },
  {
   "cell_type": "code",
   "execution_count": 4,
   "id": "aa002b02-aab4-4b78-bf75-7ec001548204",
   "metadata": {},
   "outputs": [
    {
     "name": "stdout",
     "output_type": "stream",
     "text": [
      "identity=AnyUrl('http://onto-ns.com/s7/entity/0/Entity#55e30bda-0797-47ef-a0bf-ecd4e641acf1', scheme='http', host='onto-ns.com', tld='com', host_type='domain', path='/s7/entity/0/Entity', fragment='55e30bda-0797-47ef-a0bf-ecd4e641acf1') description='Inhibitor data' dimensions=AttrDict(N='Number of elemements') properties=DynamicProperties(sampleType=Property(type='string', description='Molecule name', unit=None, shape=['N'], relation=None), casNumber=Property(type='string', description='CAS number', unit=None, shape=['N'], relation=None), inhibitorEfficiency=Property(type='float', description='EIS 24h', unit=None, shape=['N'], relation=None))\n"
     ]
    }
   ],
   "source": [
    "import yaml\n",
    "import json\n",
    "from oteapi.models.genericconfig import AttrDict\n",
    "from pydantic import BaseModel,AnyUrl, create_model\n",
    "from typing import Optional, List, Dict\n",
    "\n",
    "\n",
    "class Property(BaseModel):\n",
    "    type: str\n",
    "    description: Optional[str]\n",
    "    unit: Optional[str]\n",
    "    shape: Optional[List[str]]\n",
    "    relation: Optional[AnyUrl]\n",
    "    \n",
    "class Entity(BaseModel):\n",
    "    identity: AnyUrl\n",
    "    description: Optional[str]\n",
    "    dimensions: AttrDict\n",
    "    properties: BaseModel\n",
    "    \n",
    "    \n",
    "with open(\"/home/jovyan/work/s7/ontotrans/efficiency.yaml\", \"r\") as stream:\n",
    "    try:\n",
    "        entity = yaml.safe_load(stream)                        \n",
    "        DynamicEntity = create_model(\n",
    "            'DynamicEntity',\n",
    "            properties = (create_model(\n",
    "                'DynamicProperties', \n",
    "                **{}.fromkeys(entity['properties'], (Property, ...))\n",
    "            ), ...),\n",
    "            __base__ = Entity\n",
    "        )\n",
    "\n",
    "        e = DynamicEntity(**entity)\n",
    "        print (e)        \n",
    "        \n",
    "    except yaml.YAMLError as exc:\n",
    "        print(exc)\n",
    "            "
   ]
  },
  {
   "cell_type": "code",
   "execution_count": null,
   "id": "fbe0d3aa-1235-44f4-b96a-20a838c62be8",
   "metadata": {},
   "outputs": [],
   "source": []
  },
  {
   "cell_type": "code",
   "execution_count": null,
   "id": "68df22f1-f58c-4334-a129-94f5d325ef01",
   "metadata": {},
   "outputs": [],
   "source": []
  }
 ],
 "metadata": {
  "kernelspec": {
   "display_name": "Python 3 (ipykernel)",
   "language": "python",
   "name": "python3"
  },
  "language_info": {
   "codemirror_mode": {
    "name": "ipython",
    "version": 3
   },
   "file_extension": ".py",
   "mimetype": "text/x-python",
   "name": "python",
   "nbconvert_exporter": "python",
   "pygments_lexer": "ipython3",
   "version": "3.9.7"
  }
 },
 "nbformat": 4,
 "nbformat_minor": 5
}
