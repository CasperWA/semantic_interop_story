{
 "cells": [
  {
   "cell_type": "code",
   "execution_count": 3,
   "id": "alternative-science",
   "metadata": {},
   "outputs": [],
   "source": [
    "import requests\n",
    "\n",
    "class RESTServer:\n",
    "    \"\"\" The OntoTransServer object represent a remote OntoTrans REST API on the network. \"\"\"\n",
    "    \n",
    "    def __init__(self, url):\n",
    "        self.url = url\n",
    "        \n",
    "    def say_hello(self):\n",
    "        \"\"\" Say hello \"\"\"\n",
    "        response = requests.get(f'{self.url}')\n",
    "        if response.status_code != 200:\n",
    "            raise ApiError(f'Cannot say hello: {response.status_code}')\n",
    "        return response.text"
   ]
  },
  {
   "cell_type": "code",
   "execution_count": 5,
   "id": "accepted-louisiana",
   "metadata": {},
   "outputs": [
    {
     "data": {
      "text/plain": [
       "'{\"msg\":\"Hello World!\"}'"
      ]
     },
     "execution_count": 5,
     "metadata": {},
     "output_type": "execute_result"
    }
   ],
   "source": [
    "server = RESTServer('http://fastapi:8080')\n",
    "server.say_hello()"
   ]
  }
 ],
 "metadata": {
  "kernelspec": {
   "display_name": "Python 3 (ipykernel)",
   "language": "python",
   "name": "python3"
  },
  "language_info": {
   "codemirror_mode": {
    "name": "ipython",
    "version": 3
   },
   "file_extension": ".py",
   "mimetype": "text/x-python",
   "name": "python",
   "nbconvert_exporter": "python",
   "pygments_lexer": "ipython3",
   "version": "3.9.6"
  }
 },
 "nbformat": 4,
 "nbformat_minor": 5
}
