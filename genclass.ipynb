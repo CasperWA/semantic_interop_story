{
 "cells": [
  {
   "cell_type": "code",
   "execution_count": 3,
   "id": "4ca17114-5e6d-4c1c-9e0f-3592c63e5dea",
   "metadata": {},
   "outputs": [],
   "source": [
    "e = Entity(memory)"
   ]
  },
  {
   "cell_type": "code",
   "execution_count": 24,
   "id": "df571132-d26b-4a85-a752-7102d77b2f31",
   "metadata": {},
   "outputs": [
    {
     "name": "stdout",
     "output_type": "stream",
     "text": [
      "a 10\n",
      "b 20\n"
     ]
    }
   ],
   "source": [
    "memory = {\n",
    "    \"a\": 10,\n",
    "    \"b\": 20\n",
    "}\n",
    "\n",
    "\n",
    "class BaseExt():\n",
    "    \"\"\"\n",
    "    Base class\n",
    "    \"\"\"\n",
    "    def __init__(self):\n",
    "        pass\n",
    "\n",
    "\n",
    "def __dataspace_class_factory(name):\n",
    "    db = memory\n",
    "    initializer = (lambda self : None)\n",
    "    generic_setter = (lambda db: lambda self, key, value: (db.document(self.id).update({key: value})))(db)\n",
    "    attr = dict(\n",
    "        __init__=initializer,\n",
    "        set_property=generic_setter\n",
    "    )\n",
    "   \n",
    "    gen_dataspace_getset = \\\n",
    "        lambda mem: \\\n",
    "            lambda key: \\\n",
    "                lambda: property(lambda self: mem[key] if key in mem else None,\n",
    "                                 lambda self, value: (mem.update({key: value})))\n",
    "\n",
    " \n",
    "    gen_getset = gen_dataspace_getset(db)\n",
    "    for key in memory:\n",
    "        attr[key] = gen_getset(key)()\n",
    "\n",
    "    return type(name, (BaseExt, ), attr)\n",
    "\n",
    "def class_factory(name):    \n",
    "    return __dataspace_class_factory(name)\n",
    "\n",
    "\n",
    "o = {\n",
    "    \"counter\":0, \n",
    "    \"__init__\": (lambda self: None),\n",
    "}\n",
    "\n",
    "for key in memory.keys():\n",
    "    print (key, memory[key])\n",
    "    o[key] = property(lambda self: memory[key])    \n",
    "\n",
    "GenEntity = type(\"GenEntity\", \n",
    "              (), o)\n",
    "         \n",
    "#                  \"a\": property(lambda self: self._memory[\"a\"])\n",
    "\n"
   ]
  },
  {
   "cell_type": "code",
   "execution_count": 23,
   "id": "a258c518-0095-49ce-8470-1d4752bf3a09",
   "metadata": {},
   "outputs": [
    {
     "data": {
      "text/plain": [
       "10"
      ]
     },
     "execution_count": 23,
     "metadata": {},
     "output_type": "execute_result"
    }
   ],
   "source": [
    "def\n",
    "C = class_factory(\"C\")\n",
    "\n",
    "a = C()\n",
    "a.a"
   ]
  },
  {
   "cell_type": "code",
   "execution_count": null,
   "id": "4d7a7582-d0c8-42e9-8b9e-82b0caa685e5",
   "metadata": {},
   "outputs": [],
   "source": []
  }
 ],
 "metadata": {
  "kernelspec": {
   "display_name": "Python 3 (ipykernel)",
   "language": "python",
   "name": "python3"
  },
  "language_info": {
   "codemirror_mode": {
    "name": "ipython",
    "version": 3
   },
   "file_extension": ".py",
   "mimetype": "text/x-python",
   "name": "python",
   "nbconvert_exporter": "python",
   "pygments_lexer": "ipython3",
   "version": "3.9.7"
  }
 },
 "nbformat": 4,
 "nbformat_minor": 5
}
