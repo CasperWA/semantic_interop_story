{
 "cells": [
  {
   "cell_type": "markdown",
   "id": "ddfa0e26-eed6-4dfd-a66f-091e4ca6eb99",
   "metadata": {},
   "source": [
    "# Import ontologies\n",
    "The ontologies needed in our example are the domain ontologies, the function ontology and the datamodel ontology\n"
   ]
  },
  {
   "cell_type": "code",
   "execution_count": 1,
   "id": "267e25d9-7356-484e-988c-d474b4e76e9b",
   "metadata": {},
   "outputs": [],
   "source": [
    "from s7.graph import Graph\n",
    "g = Graph()\n",
    "\n",
    "# Read the function ontology\n",
    "g.parse('function.ttl')\n",
    "\n",
    "# Read the datamodel ontology\n",
    "g.parse('https://raw.githubusercontent.com/emmo-repo/datamodel-ontology/master/entity.ttl')\n",
    "\n",
    "# Read the mappings ontology\n",
    "g.parse('https://raw.githubusercontent.com/emmo-repo/domain-mappings/master/mappings.ttl')\n"
   ]
  },
  {
   "cell_type": "markdown",
   "id": "0f06966f-6a74-466f-b166-7f000f443ddd",
   "metadata": {},
   "source": [
    "# Define datamodel for reading the datasource\n"
   ]
  },
  {
   "cell_type": "code",
   "execution_count": 2,
   "id": "8a85931f-881d-427b-a1a8-116e1a3219fb",
   "metadata": {},
   "outputs": [],
   "source": [
    "from s7.xlsparser import XLSParser\n",
    "from s7.models import create_config\n",
    "from s7.classgen import class_factory\n",
    "\n",
    "# Import Data Configuration for the specific parser selected\n",
    "xls_config = create_config('/home/jovyan/work/semantic_interop_story/inhibitor_conf.yml')\n",
    "\n",
    "# Generate Specific parser from config (combined generic parser with config)\n",
    "parser = XLSParser(xls_config)g = Graph()\n",
    "\n",
    "# Represent data importer as an entity\n",
    "XLSData = class_factory(\"XLSData\", parser.get())"
   ]
  },
  {
   "cell_type": "markdown",
   "id": "c77ea379-32c9-4223-af31-73328fcbcfbb",
   "metadata": {},
   "source": [
    "# Show that data can be read from the data source"
   ]
  },
  {
   "cell_type": "code",
   "execution_count": 3,
   "id": "76ecd5b5-70de-4434-8eae-14ee42ffb5aa",
   "metadata": {},
   "outputs": [
    {
     "name": "stdout",
     "output_type": "stream",
     "text": [
      "['LiCO3', 'LiCO3', 'LiCl', 'LiCl', 'LiCl']\n"
     ]
    }
   ],
   "source": [
    "d = XLSData() # Instance\n",
    "print (d.sampleType)"
   ]
  },
  {
   "cell_type": "markdown",
   "id": "b9755f13-6efa-43a2-98a1-b244cc6cde01",
   "metadata": {},
   "source": [
    "# Map data"
   ]
  },
  {
   "cell_type": "code",
   "execution_count": 4,
   "id": "67e88c91-fc98-4c5e-965c-f14ed9d68a1c",
   "metadata": {},
   "outputs": [],
   "source": [
    "from s7.infix import Infix\n",
    "\n",
    "g.clear()\n",
    "\n",
    "def maps_to(g, s, o):\n",
    "    g.append((s,'mapsTo',o))\n",
    "    g.append((o,'mappedFrom,',s))\n",
    "\n",
    "\n",
    "mapsTo = Infix(lambda s, o: maps_to(g, s, o))\n",
    "has    = Infix(lambda s, o: has(g, s, o))\n",
    "\n",
    "entity_sample_type = (lambda : d.sampleType)\n",
    "entity_inhibitor_efficiency = (lambda : d.inhibitorEfficiency)\n",
    "entity_cas_number = (lambda : d.casNumber)\n",
    "\n",
    "g.append(('myEntity', ':has', entity_sample_type))\n",
    "g.append((entity_sample_type, ':has', 'myEntity'))\n",
    "g.append(('myEntity', ':has', entity_inhibitor_efficiency))\n",
    "g.append((entity_sample_type, ':has', 'myEntity'))\n",
    "g.append(('myEntity', ':has', entity_cas_number))\n",
    "g.append((entity_sample_type, ':has', 'myEntity'))\n",
    "\n",
    "entity_sample_type          |mapsTo| 'x:sampleType'\n",
    "entity_inhibitor_efficiency |mapsTo| 'x:effiency'\n",
    "entity_cas_number           |mapsTo| 'x:casNo'"
   ]
  },
  {
   "cell_type": "code",
   "execution_count": 5,
   "id": "d6ac29f4-0fb7-4d82-ad2d-a4182dfb4745",
   "metadata": {},
   "outputs": [
    {
     "name": "stdout",
     "output_type": "stream",
     "text": [
      "myEntity :has <function <lambda> at 0x7ffae628d040>\n",
      "<function <lambda> at 0x7ffae628d040> :has myEntity\n",
      "myEntity :has <function <lambda> at 0x7ffae628d280>\n",
      "myEntity :has <function <lambda> at 0x7ffae628d1f0>\n",
      "<function <lambda> at 0x7ffae628d040> mapsTo x:sampleType\n",
      "x:sampleType mappedFrom, <function <lambda> at 0x7ffae628d040>\n",
      "<function <lambda> at 0x7ffae628d280> mapsTo x:effiency\n",
      "x:effiency mappedFrom, <function <lambda> at 0x7ffae628d280>\n",
      "<function <lambda> at 0x7ffae628d1f0> mapsTo x:casNo\n",
      "x:casNo mappedFrom, <function <lambda> at 0x7ffae628d1f0>\n"
     ]
    }
   ],
   "source": [
    "#for s, p, o in g.match(None, 'mapsTo', 'x:sampleType'):\n",
    "for s, p, o in g.match(None, None, None):\n",
    "    print (s, p, o)"
   ]
  },
  {
   "cell_type": "markdown",
   "id": "04825b04-8967-4578-84f0-157bd809499c",
   "metadata": {},
   "source": [
    "# Receiver side"
   ]
  },
  {
   "cell_type": "code",
   "execution_count": 6,
   "id": "cadf8bd4-6b23-43f4-823a-d6f4808fcaeb",
   "metadata": {},
   "outputs": [],
   "source": [
    "class MyModel:\n",
    "    samples: str = \"\"\n",
    "    efficiency: float = 0\n",
    "\n",
    "m = MyModel()\n",
    "\n",
    "\n",
    "m.samples    | mapsTo | 'x.sampleType'\n",
    "m.efficiency | mapsTo | 'x.efficiency'\n",
    "\n",
    "# g.path(m.samples, 'myEntity')"
   ]
  },
  {
   "cell_type": "code",
   "execution_count": null,
   "id": "26404e9a-1ec7-41ea-88b0-0dff87626558",
   "metadata": {},
   "outputs": [],
   "source": []
  },
  {
   "cell_type": "code",
   "execution_count": 1,
   "id": "03c7c11d-c559-4289-b510-7c61fc00c131",
   "metadata": {},
   "outputs": [
    {
     "name": "stdout",
     "output_type": "stream",
     "text": [
      "forward\n",
      "forward\n",
      "reverse\n"
     ]
    },
    {
     "data": {
      "text/plain": [
       "['a', 'b', 'c', 'd']"
      ]
     },
     "execution_count": 1,
     "metadata": {},
     "output_type": "execute_result"
    }
   ],
   "source": [
    "from s7.graph import Graph\n",
    "g = Graph()\n",
    "g.clear()\n",
    "g.append(('a', 'to', 'b'))\n",
    "g.append(('b', 'to', 'c'))\n",
    "g.append(('d', 'to', 'c'))\n",
    "g.path('a', 'd')"
   ]
  },
  {
   "cell_type": "code",
   "execution_count": 8,
   "id": "43e3b537-88f1-4daf-b3d6-8eac22494636",
   "metadata": {},
   "outputs": [],
   "source": [
    "g.path('a', 'd', None, [])"
   ]
  },
  {
   "cell_type": "code",
   "execution_count": null,
   "id": "5fda247a-5877-43ab-b254-9c11edfa7762",
   "metadata": {},
   "outputs": [],
   "source": []
  }
 ],
 "metadata": {
  "kernelspec": {
   "display_name": "Python 3 (ipykernel)",
   "language": "python",
   "name": "python3"
  },
  "language_info": {
   "codemirror_mode": {
    "name": "ipython",
    "version": 3
   },
   "file_extension": ".py",
   "mimetype": "text/x-python",
   "name": "python",
   "nbconvert_exporter": "python",
   "pygments_lexer": "ipython3",
   "version": "3.9.7"
  }
 },
 "nbformat": 4,
 "nbformat_minor": 5
}
