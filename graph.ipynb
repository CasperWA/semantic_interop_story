{
 "cells": [
  {
   "cell_type": "code",
   "execution_count": 1,
   "id": "6896d4ef-ec80-41e7-9bf7-74161ca31346",
   "metadata": {},
   "outputs": [],
   "source": [
    "import uuid\n",
    "from typing import Tuple, List, Dict, Any, Optional\n",
    "from dataclasses import dataclass, field\n",
    "from functools import reduce\n",
    "from rdflib import Graph as RDFGraph\n",
    "\n",
    "NTuple = Tuple[Any, ...]\n",
    "\n",
    "@dataclass\n",
    "class Graph:\n",
    "    triples: List[Tuple[Any, ...]] = field(default_factory=list)\n",
    "    \n",
    "    def append(self, nt: NTuple):\n",
    "        self.triples.append(nt)\n",
    "        \n",
    "    def match(self, s = None, p = None, o = None):        \n",
    "        return [t for t in self.triples if \n",
    "                (not s or t[0] == s) \n",
    "                and (not p or t[1] == p)\n",
    "                and (not o or t[2] == o)]\n",
    "    def parse(self, uri, fmt='ttl'):\n",
    "        g = RDFGraph().parse(uri, format=fmt)\n",
    "        for s, p, o in g.triples((None, None, None)):\n",
    "            self.append((s, p, o))"
   ]
  },
  {
   "cell_type": "code",
   "execution_count": null,
   "id": "838f6a16-1f02-4fae-801c-4d627c65ac2c",
   "metadata": {},
   "outputs": [],
   "source": []
  },
  {
   "cell_type": "code",
   "execution_count": 2,
   "id": "826fe648-0b26-42db-9c88-bb8bdb62f6f8",
   "metadata": {},
   "outputs": [],
   "source": [
    "class Infix:\n",
    "    def __init__(self, function):\n",
    "        self.function = function\n",
    "    def __ror__(self, other):\n",
    "        return Infix(lambda x, self=self, other=other: self.function(other, x))\n",
    "    def __or__(self, other):\n",
    "        return self.function(other)\n",
    "    def __rlshift__(self, other):\n",
    "        return Infix(lambda x, self=self, other=other: self.function(other, x))\n",
    "    def __rshift__(self, other):\n",
    "        return self.function(other)\n",
    "    def __call__(self, value1, value2):\n",
    "        return self.function(value1, value2)\n"
   ]
  },
  {
   "cell_type": "code",
   "execution_count": 3,
   "id": "5dc94bd6-1e4e-48e5-907f-e0709399c449",
   "metadata": {},
   "outputs": [],
   "source": [
    "#rdfs\n",
    "g = Graph()\n",
    "\n",
    "a = Infix(lambda s, o: g.append((s,'http://www.w3.org/1999/02/22-rdf-syntax-ns#type',o)))\n",
    "\n",
    "enemyOf = Infix(lambda s, o: g.append((s, ':enemyOf', o)))\n",
    "\n",
    "class Foaf:\n",
    "    Person = 'http://xmlns.com/foaf/0.1/Person'\n",
    "    name = Infix(lambda s, o: g.append((s, 'http://xmlns.com/foaf/0.1/name', o)))\n",
    "    mbox = Infix(lambda s, o: g.append((s, 'http://xmlns.com/foaf/0.1/mbox', o)))\n",
    "    homepage = Infix(lambda s, o: g.append((s, 'http://xmlns.com/foaf/0.1/homepage', o)))"
   ]
  },
  {
   "cell_type": "code",
   "execution_count": 4,
   "id": "4837cea2-dca7-4c04-95be-240dfe14e29d",
   "metadata": {},
   "outputs": [],
   "source": [
    "':green-goblin' |enemyOf|   ':spiderman'\n",
    "':green-goblin' |a|         Foaf.Person\n",
    "':green-goblin' |Foaf.name| 'Green Goblin'\n",
    "':green-goblin' |Foaf.mbox| 'Norman.Osborn@marvel.com'"
   ]
  },
  {
   "cell_type": "code",
   "execution_count": 5,
   "id": "09a9053a-21ef-420d-8436-c6bdaf025ba3",
   "metadata": {},
   "outputs": [
    {
     "name": "stdout",
     "output_type": "stream",
     "text": [
      ":green-goblin :enemyOf :spiderman\n",
      ":green-goblin http://www.w3.org/1999/02/22-rdf-syntax-ns#type http://xmlns.com/foaf/0.1/Person\n",
      ":green-goblin http://xmlns.com/foaf/0.1/name Green Goblin\n",
      ":green-goblin http://xmlns.com/foaf/0.1/mbox Norman.Osborn@marvel.com\n"
     ]
    }
   ],
   "source": [
    "for s, p, o in g.match(':green-goblin'):\n",
    "    print (s, p, o)"
   ]
  },
  {
   "cell_type": "code",
   "execution_count": 6,
   "id": "2e42197d-1bb5-4a7b-9c44-e24a60793a9e",
   "metadata": {},
   "outputs": [],
   "source": [
    "g.parse('https://raw.githubusercontent.com/emmo-repo/domain-mappings/master/mappings.ttl')"
   ]
  },
  {
   "cell_type": "code",
   "execution_count": 7,
   "id": "c6dd7d7d-010c-4324-acab-ab437406249f",
   "metadata": {},
   "outputs": [
    {
     "name": "stdout",
     "output_type": "stream",
     "text": [
      ":green-goblin :enemyOf :spiderman\n",
      ":green-goblin http://www.w3.org/1999/02/22-rdf-syntax-ns#type http://xmlns.com/foaf/0.1/Person\n",
      ":green-goblin http://xmlns.com/foaf/0.1/name Green Goblin\n",
      ":green-goblin http://xmlns.com/foaf/0.1/mbox Norman.Osborn@marvel.com\n",
      "http://emmo.info/domain-mappings#Domain http://www.w3.org/2000/01/rdf-schema#subClassOf n2cbae0674ee04d7899048259ddccc214b1\n",
      "http://emmo.info/domain-mappings#hasIRI http://www.w3.org/2000/01/rdf-schema#domain http://emmo.info/domain-mappings#OntologicalConcept\n",
      "http://emmo.info/domain-mappings#OntologicalConcept http://emmo.info/emmo#EMMO_967080e5_2f42_4eb2_a3a9_c58143e835f9 An entity (class, individual or property) in an ontology.\n",
      "http://emmo.info/domain-mappings#PROMO_0293b6d0_344d_430a_a572_f196ae5bc051 http://www.w3.org/2000/01/rdf-schema#label crystallography_ontology\n",
      "http://emmo.info/domain-mappings#hasIRI http://emmo.info/emmo#EMMO_967080e5_2f42_4eb2_a3a9_c58143e835f9 The IRI of an ontological concept.\n",
      "http://emmo.info/domain-mappings#PROMO_01418e9f_444a_4056_8aa2_0a96fdca24e3 http://www.w3.org/1999/02/22-rdf-syntax-ns#type http://www.w3.org/2002/07/owl#NamedIndividual\n",
      "http://emmo.info/domain-mappings http://purl.org/dc/terms/creator Thomas Hagelien\n",
      "n2cbae0674ee04d7899048259ddccc214b3 http://www.w3.org/1999/02/22-rdf-syntax-ns#type http://www.w3.org/2002/07/owl#Restriction\n",
      "http://emmo.info/domain-mappings#DomainOntology http://www.w3.org/1999/02/22-rdf-syntax-ns#type http://www.w3.org/2002/07/owl#Class\n",
      "http://emmo.info/domain-mappings#PROMO_e438b2c9_929c_49a3_b527_651ca43ebaa0 http://www.w3.org/1999/02/22-rdf-syntax-ns#type http://emmo.info/domain-mappings#Domain\n",
      "n2cbae0674ee04d7899048259ddccc214b2 http://www.w3.org/2002/07/owl#onDataRange http://www.w3.org/2001/XMLSchema#anyURI\n",
      "http://emmo.info/domain-mappings#OntologicalConcept http://www.w3.org/2000/01/rdf-schema#subClassOf http://emmo.info/domain-mappings#KnowledgeModel\n",
      "http://emmo.info/domain-mappings#relateToDomain http://www.w3.org/2000/01/rdf-schema#domain http://www.w3.org/2002/07/owl#Thing\n",
      "http://emmo.info/domain-mappings#KnowledgeModel http://www.w3.org/2004/02/skos/core#prefLabel KnowledgeModel\n",
      "http://emmo.info/domain-mappings#Domain http://www.w3.org/1999/02/22-rdf-syntax-ns#type http://www.w3.org/2002/07/owl#Class\n",
      "http://emmo.info/domain-mappings#PROMO_e438b2c9_929c_49a3_b527_651ca43ebaa0 http://www.w3.org/2000/01/rdf-schema#label atomistic_domain\n",
      "http://emmo.info/domain-mappings http://purl.org/dc/terms/publisher European Materials Modelling Council (EMMC-ASBL)\n",
      "http://emmo.info/domain-mappings http://purl.org/dc/terms/license https://creativecommons.org/licenses/by/4.0/legalcode\n",
      "http://emmo.info/domain-mappings#isSpecifiedBy http://www.w3.org/2000/01/rdf-schema#subPropertyOf http://emmo.info/emmo#EMMO_39c3815d_8cae_4c8f_b2ff_eeba24bec455\n",
      "http://emmo.info/domain-mappings http://purl.org/dc/terms/creator Treesa Rose Joseph\n",
      "http://emmo.info/domain-mappings#OntologicalConcept http://www.w3.org/2000/01/rdf-schema#subClassOf n2cbae0674ee04d7899048259ddccc214b2\n",
      "http://emmo.info/domain-mappings#PROMO_0293b6d0_344d_430a_a572_f196ae5bc051 http://www.w3.org/1999/02/22-rdf-syntax-ns#type http://www.w3.org/2002/07/owl#NamedIndividual\n",
      "http://emmo.info/domain-mappings#Ontology http://www.w3.org/2000/01/rdf-schema#subClassOf http://emmo.info/domain-mappings#KnowledgeModel\n",
      "n2cbae0674ee04d7899048259ddccc214b2 http://www.w3.org/2002/07/owl#qualifiedCardinality 1\n",
      "http://emmo.info/domain-mappings#DomainOntology http://www.w3.org/2000/01/rdf-schema#subClassOf http://emmo.info/domain-mappings#Ontology\n",
      "http://emmo.info/domain-mappings#relateToDomain http://www.w3.org/1999/02/22-rdf-syntax-ns#type http://www.w3.org/2002/07/owl#ObjectProperty\n",
      "n2cbae0674ee04d7899048259ddccc214b3 http://www.w3.org/2002/07/owl#someValuesFrom http://emmo.info/domain-mappings#OntologicalConcept\n",
      "http://emmo.info/domain-mappings#OntologicalConcept http://www.w3.org/2004/02/skos/core#prefLabel OntologicalConcept\n",
      "http://emmo.info/domain-mappings#hasIRI http://www.w3.org/2000/01/rdf-schema#subPropertyOf http://www.w3.org/2002/07/owl#topDataProperty\n",
      "http://emmo.info/domain-mappings#Domain http://www.w3.org/2000/01/rdf-schema#subClassOf http://emmo.info/emmo#EMMO_d7788d1a_020d_4c78_85a1_13563fcec168\n",
      "http://emmo.info/domain-mappings#PROMO_3d6a0275_344f_4fd8_aeec_d16377d4f01b http://www.w3.org/1999/02/22-rdf-syntax-ns#type http://www.w3.org/2002/07/owl#NamedIndividual\n",
      "n2cbae0674ee04d7899048259ddccc214b1 http://www.w3.org/2002/07/owl#onProperty http://emmo.info/domain-mappings#isSpecifiedBy\n",
      "http://emmo.info/domain-mappings#mapsTo http://www.w3.org/2000/01/rdf-schema#label mapsTo\n",
      "http://emmo.info/domain-mappings#PROMO_0293b6d0_344d_430a_a572_f196ae5bc051 http://www.w3.org/1999/02/22-rdf-syntax-ns#type http://emmo.info/domain-mappings#DomainOntology\n",
      "http://emmo.info/domain-mappings#relateToDomain http://emmo.info/emmo#EMMO_967080e5_2f42_4eb2_a3a9_c58143e835f9 Relates a concept, owlThing, to a specific domain.\n",
      "http://emmo.info/domain-mappings http://purl.org/dc/terms/title Mappings ontology\n",
      "http://emmo.info/domain-mappings#PROMO_e438b2c9_929c_49a3_b527_651ca43ebaa0 http://www.w3.org/1999/02/22-rdf-syntax-ns#type http://www.w3.org/2002/07/owl#NamedIndividual\n",
      "http://emmo.info/domain-mappings#OntologicalConcept http://www.w3.org/1999/02/22-rdf-syntax-ns#type http://www.w3.org/2002/07/owl#Class\n",
      "http://emmo.info/domain-mappings http://purl.org/dc/terms/abstract A small EMMO-based ontology focusing mappings data to domains and ontological concepts.\n",
      "http://emmo.info/domain-mappings#KnowledgeModel http://www.w3.org/2000/01/rdf-schema#subClassOf http://emmo.info/emmo#EMMO_939483b1_0148_43d1_8b35_851d2cd5d939\n",
      "http://emmo.info/domain-mappings http://purl.org/dc/terms/contributor SINTEF\n",
      "http://emmo.info/domain-mappings#Ontology http://emmo.info/emmo#EMMO_967080e5_2f42_4eb2_a3a9_c58143e835f9 An ontology is a formal description of a field, defining the concepts and relations between them.\n",
      "http://emmo.info/domain-mappings#KnowledgeModel http://www.w3.org/1999/02/22-rdf-syntax-ns#type http://www.w3.org/2002/07/owl#Class\n",
      "http://emmo.info/domain-mappings#hasIRI http://www.w3.org/2000/01/rdf-schema#range http://www.w3.org/2001/XMLSchema#anyURI\n",
      "http://emmo.info/domain-mappings#mapsTo http://www.w3.org/2000/01/rdf-schema#comment Maps a resource to a class in an ontology.\n",
      "n2cbae0674ee04d7899048259ddccc214b2 http://www.w3.org/2002/07/owl#onProperty http://emmo.info/domain-mappings#hasIRI\n",
      "http://emmo.info/domain-mappings#DomainOntology http://www.w3.org/2004/02/skos/core#prefLabel DomainOntology\n",
      "http://emmo.info/domain-mappings#PROMO_e438b2c9_929c_49a3_b527_651ca43ebaa0 http://emmo.info/domain-mappings#isSpecifiedBy http://emmo.info/domain-mappings#PROMO_3d6a0275_344f_4fd8_aeec_d16377d4f01b\n",
      "http://emmo.info/domain-mappings#belongToDomain http://emmo.info/emmo#EMMO_967080e5_2f42_4eb2_a3a9_c58143e835f9 States that a concept belongs to a domain.\n",
      "http://emmo.info/domain-mappings#PROMO_3d6a0275_344f_4fd8_aeec_d16377d4f01b http://www.w3.org/1999/02/22-rdf-syntax-ns#type http://emmo.info/domain-mappings#DomainOntology\n",
      "http://emmo.info/domain-mappings#belongToDomain http://www.w3.org/1999/02/22-rdf-syntax-ns#type http://www.w3.org/2002/07/owl#ObjectProperty\n",
      "http://emmo.info/domain-mappings#isSpecifiedBy http://www.w3.org/1999/02/22-rdf-syntax-ns#type http://www.w3.org/2002/07/owl#ObjectProperty\n",
      "http://emmo.info/domain-mappings#hasSymbolicData http://www.w3.org/1999/02/22-rdf-syntax-ns#type http://www.w3.org/2002/07/owl#DatatypeProperty\n",
      "http://emmo.info/domain-mappings#PROMO_01418e9f_444a_4056_8aa2_0a96fdca24e3 http://emmo.info/domain-mappings#isSpecifiedBy http://emmo.info/domain-mappings#PROMO_0293b6d0_344d_430a_a572_f196ae5bc051\n",
      "http://emmo.info/domain-mappings#relateToDomain http://www.w3.org/2000/01/rdf-schema#range http://emmo.info/domain-mappings#Domain\n",
      "http://emmo.info/domain-mappings#hasSymbolicData http://www.w3.org/2000/01/rdf-schema#range http://www.w3.org/2001/XMLSchema#string\n",
      "n2cbae0674ee04d7899048259ddccc214b1 http://www.w3.org/2002/07/owl#someValuesFrom http://emmo.info/domain-mappings#DomainOntology\n",
      "http://emmo.info/domain-mappings#PROMO_3d6a0275_344f_4fd8_aeec_d16377d4f01b http://www.w3.org/2000/01/rdf-schema#label atomistic_simulation_ontology\n",
      "http://emmo.info/domain-mappings#Ontology http://www.w3.org/2004/02/skos/core#prefLabel Ontology\n",
      "http://emmo.info/domain-mappings#mapsTo http://www.w3.org/2000/01/rdf-schema#domain http://www.w3.org/2000/01/rdf-schema#Resource\n",
      "http://emmo.info/domain-mappings#mapsTo http://www.w3.org/1999/02/22-rdf-syntax-ns#type http://www.w3.org/2002/07/owl#AnnotationProperty\n",
      "http://emmo.info/domain-mappings#Ontology http://www.w3.org/2000/01/rdf-schema#subClassOf n2cbae0674ee04d7899048259ddccc214b3\n",
      "http://emmo.info/domain-mappings#relateToDomain http://www.w3.org/2000/01/rdf-schema#subPropertyOf http://emmo.info/emmo#EMMO_39c3815d_8cae_4c8f_b2ff_eeba24bec455\n",
      "n2cbae0674ee04d7899048259ddccc214b2 http://www.w3.org/1999/02/22-rdf-syntax-ns#type http://www.w3.org/2002/07/owl#Restriction\n",
      "http://emmo.info/domain-mappings#relateToDomain http://emmo.info/emmo#EMMO_b432d2d5_25f4_4165_99c5_5935a7763c1a An expert may relate to a domain.\n",
      "http://emmo.info/domain-mappings#DomainOntology http://emmo.info/emmo#EMMO_967080e5_2f42_4eb2_a3a9_c58143e835f9 An ontology for a given domain. It is typically based on a top-level and mid-level ontology.\n",
      "http://emmo.info/domain-mappings#hasSymbolicData http://www.w3.org/2000/01/rdf-schema#subPropertyOf http://www.w3.org/2002/07/owl#topDataProperty\n",
      "http://emmo.info/domain-mappings#PROMO_01418e9f_444a_4056_8aa2_0a96fdca24e3 http://www.w3.org/2000/01/rdf-schema#label crystallography_domain\n",
      "http://emmo.info/domain-mappings http://www.w3.org/1999/02/22-rdf-syntax-ns#type http://www.w3.org/2002/07/owl#Ontology\n",
      "http://emmo.info/domain-mappings#mapsTo http://www.w3.org/2000/01/rdf-schema#range http://www.w3.org/2000/01/rdf-schema#Class\n",
      "http://emmo.info/domain-mappings#Domain http://www.w3.org/2004/02/skos/core#prefLabel Domain\n",
      "http://emmo.info/domain-mappings#relateToDomain http://www.w3.org/2004/02/skos/core#prefLabel relatedToDomain\n",
      "http://emmo.info/domain-mappings#hasSymbolicData http://www.w3.org/2000/01/rdf-schema#domain http://emmo.info/emmo#EMMO_057e7d57_aff0_49de_911a_8861d85cef40\n",
      "http://emmo.info/domain-mappings#isSpecifiedBy http://www.w3.org/2004/02/skos/core#prefLabel isSpecifiedBy\n",
      "http://emmo.info/domain-mappings#Domain http://emmo.info/emmo#EMMO_b432d2d5_25f4_4165_99c5_5935a7763c1a Manufacturing domain\n",
      "http://emmo.info/domain-mappings#belongToDomain http://www.w3.org/2000/01/rdf-schema#range http://emmo.info/domain-mappings#Domain\n",
      "http://emmo.info/domain-mappings http://www.w3.org/2002/07/owl#versionIRI http://emmo.info/domain-mappings/0.0.1\n",
      "http://emmo.info/domain-mappings#belongToDomain http://www.w3.org/2000/01/rdf-schema#subPropertyOf http://emmo.info/emmo#EMMO_39c3815d_8cae_4c8f_b2ff_eeba24bec455\n",
      "http://emmo.info/domain-mappings#belongToDomain http://emmo.info/emmo#EMMO_b432d2d5_25f4_4165_99c5_5935a7763c1a The concept CIF data set belongs to the domain of crystallography.\n",
      "n2cbae0674ee04d7899048259ddccc214b1 http://www.w3.org/1999/02/22-rdf-syntax-ns#type http://www.w3.org/2002/07/owl#Restriction\n",
      "http://emmo.info/domain-mappings#hasIRI http://www.w3.org/1999/02/22-rdf-syntax-ns#type http://www.w3.org/2002/07/owl#DatatypeProperty\n",
      "http://emmo.info/domain-mappings http://www.w3.org/2002/07/owl#imports https://emmo-repo.github.io/versions/1.0.0-beta/emmo-inferred-chemistry2.ttl\n",
      "http://emmo.info/domain-mappings#belongToDomain http://www.w3.org/2004/02/skos/core#prefLabel belongsToDomain\n",
      "http://emmo.info/domain-mappings#hasSymbolicData http://www.w3.org/2004/02/skos/core#prefLabel hasSymbolicData\n",
      "http://emmo.info/domain-mappings#mapsTo http://www.w3.org/2000/01/rdf-schema#subPropertyOf http://www.w3.org/2000/01/rdf-schema#seeAlso\n",
      "http://emmo.info/domain-mappings#belongToDomain http://www.w3.org/2000/01/rdf-schema#domain http://www.w3.org/2002/07/owl#Thing\n",
      "http://emmo.info/domain-mappings#KnowledgeModel http://emmo.info/emmo#EMMO_967080e5_2f42_4eb2_a3a9_c58143e835f9 Set of knowledge of various types, facts, concepts, procedures, principles, skills, structured by the type of links representing the relationship among them.\n",
      "http://emmo.info/domain-mappings#Domain http://www.w3.org/2000/01/rdf-schema#comment A domain can be specified by a domain ontology. But there might several domain ontologies describing the same domain.\n",
      "http://emmo.info/domain-mappings#hasIRI http://www.w3.org/2004/02/skos/core#prefLabel hasIRI\n",
      "http://emmo.info/domain-mappings#PROMO_01418e9f_444a_4056_8aa2_0a96fdca24e3 http://www.w3.org/1999/02/22-rdf-syntax-ns#type http://emmo.info/domain-mappings#Domain\n",
      "http://emmo.info/domain-mappings http://purl.org/dc/terms/creator Jesper Friis\n",
      "http://emmo.info/domain-mappings http://www.w3.org/2002/07/owl#versionInfo 0.0.1\n",
      "http://emmo.info/domain-mappings#Domain http://emmo.info/emmo#EMMO_967080e5_2f42_4eb2_a3a9_c58143e835f9 An icon that stands for community with a common ground, like a common language and/or a common ontology.\n",
      "n2cbae0674ee04d7899048259ddccc214b3 http://www.w3.org/2002/07/owl#onProperty http://emmo.info/emmo#EMMO_17e27c22_37e1_468c_9dd7_95e137f73e7f\n",
      "http://emmo.info/domain-mappings#Ontology http://www.w3.org/1999/02/22-rdf-syntax-ns#type http://www.w3.org/2002/07/owl#Class\n"
     ]
    }
   ],
   "source": [
    "for s, p, o in g.match():\n",
    "    print (s, p, o)"
   ]
  },
  {
   "cell_type": "code",
   "execution_count": null,
   "id": "a9cae6d8-596a-467d-a067-2fc4987a9bbf",
   "metadata": {},
   "outputs": [],
   "source": []
  }
 ],
 "metadata": {
  "kernelspec": {
   "display_name": "Python 3 (ipykernel)",
   "language": "python",
   "name": "python3"
  },
  "language_info": {
   "codemirror_mode": {
    "name": "ipython",
    "version": 3
   },
   "file_extension": ".py",
   "mimetype": "text/x-python",
   "name": "python",
   "nbconvert_exporter": "python",
   "pygments_lexer": "ipython3",
   "version": "3.9.7"
  }
 },
 "nbformat": 4,
 "nbformat_minor": 5
}
