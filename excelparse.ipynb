{
 "cells": [
  {
   "cell_type": "code",
   "execution_count": null,
   "id": "18f833b5-b4f6-4d3c-b5b0-935c23d2c7d1",
   "metadata": {},
   "outputs": [
    {
     "name": "stdout",
     "output_type": "stream",
     "text": [
      "added  14.524765034960973\n",
      "added  -37.99410269483139\n",
      "added  18.93336717585228\n",
      "added  -14.694927736011554\n",
      "added  82.84807910472972\n",
      "added  82.70578220798093\n",
      "added  -32.10177835991128\n",
      "added  0.7790838781530862\n",
      "added  31.69712512083033\n",
      "added  4.30561377998236\n",
      "added  4.0975935564729\n",
      "added  4.32861194871761\n",
      "added  4.17790987119194\n",
      "added  5.00314131824638\n",
      "added  4.99955315940226\n",
      "added  4.11654541915057\n",
      "added  4.24085085066989\n",
      "added  4.40301509970376\n"
     ]
    }
   ],
   "source": [
    "from __future__ import annotations\n",
    "from typing import List\n",
    "from itertools import product\n",
    "from s7.models import create_config\n",
    "from s7.xlsparser import XLSParser\n",
    "from s7.classgen import class_factory\n",
    "import numpy as np\n",
    "\n",
    "# Import Configuration\n",
    "xls_config = create_config('/home/jovyan/work/semantic_interop_story/inhibitor_conf.yml')                                         \n",
    "\n",
    "# Generate Specific Parser from config\n",
    "parser = XLSParser(xls_config)\n",
    "v = parser.get()\n",
    "print (v)\n",
    "\n",
    "# Generate entity (not a S7-model yet...)\n",
    "XLSData = class_factory(\"XLSData\", parser.get())\n",
    "\n",
    "x = XLSData()\n",
    "x.inhibitorEfficiency\n"
   ]
  },
  {
   "cell_type": "code",
   "execution_count": 2,
   "id": "f24ea63b-25f3-49cc-8e37-191c7316812d",
   "metadata": {},
   "outputs": [
    {
     "ename": "NameError",
     "evalue": "name 'XLSData' is not defined",
     "output_type": "error",
     "traceback": [
      "\u001b[0;31m---------------------------------------------------------------------------\u001b[0m",
      "\u001b[0;31mNameError\u001b[0m                                 Traceback (most recent call last)",
      "\u001b[0;32m/tmp/ipykernel_1760/3184119287.py\u001b[0m in \u001b[0;36m<module>\u001b[0;34m\u001b[0m\n\u001b[1;32m      1\u001b[0m \u001b[0;32mfrom\u001b[0m \u001b[0ms7\u001b[0m\u001b[0;34m.\u001b[0m\u001b[0mgraph\u001b[0m \u001b[0;32mimport\u001b[0m \u001b[0mGraph\u001b[0m\u001b[0;34m\u001b[0m\u001b[0;34m\u001b[0m\u001b[0m\n\u001b[1;32m      2\u001b[0m \u001b[0mg\u001b[0m \u001b[0;34m=\u001b[0m \u001b[0mGraph\u001b[0m\u001b[0;34m(\u001b[0m\u001b[0;34m)\u001b[0m\u001b[0;34m\u001b[0m\u001b[0;34m\u001b[0m\u001b[0m\n\u001b[0;32m----> 3\u001b[0;31m \u001b[0md\u001b[0m \u001b[0;34m=\u001b[0m \u001b[0mXLSData\u001b[0m\u001b[0;34m(\u001b[0m\u001b[0;34m)\u001b[0m\u001b[0;34m\u001b[0m\u001b[0;34m\u001b[0m\u001b[0m\n\u001b[0m\u001b[1;32m      4\u001b[0m \u001b[0;34m\u001b[0m\u001b[0m\n\u001b[1;32m      5\u001b[0m \u001b[0mprint\u001b[0m \u001b[0;34m(\u001b[0m\u001b[0md\u001b[0m\u001b[0;34m.\u001b[0m\u001b[0msampleType\u001b[0m\u001b[0;34m)\u001b[0m\u001b[0;34m\u001b[0m\u001b[0;34m\u001b[0m\u001b[0m\n",
      "\u001b[0;31mNameError\u001b[0m: name 'XLSData' is not defined"
     ]
    }
   ],
   "source": [
    "from s7.graph import Graph\n",
    "g = Graph()\n",
    "d = XLSData()\n",
    "\n",
    "print (d.sampleType)\n",
    "\n",
    "g.append(('entity', 'hasProperty', 'entity:sampleType'))\n",
    "g.append(('entity:sampleType', 'propertyOf', 'entity'))\n",
    "\n",
    "g.append(('entity', 'hasProperty', 'entity:casNumber'))\n",
    "g.append(('entity:casNumber', 'propertyOf', 'entity'))\n",
    "\n",
    "g.append(('entity:sampleType', 'mapsTo', 'ontology:sampleType'))\n",
    "g.append(('entity:sampleType', 'propertyOf', 'entity'))\n",
    "\n",
    "g.append(('ontology:sampleType', 'mapsfrom', 'entity:sampleType'))\n",
    "g.append(('entity:casNumber', 'mapsTo', 'ontology:casNumber'))\n",
    "g.append(('ontology:casNumber', 'mapsFrom', 'entity:casNumber'))\n",
    "g.append(('entity:inhibitorEfficiency', 'mapsTo', 'ontology:inhibitorEfficiency'))\n",
    "g.append(('ontology:inhibitorEfficiency', 'mapsTo', 'entity:inhibitorEfficiency'))\n",
    "\n",
    "g.append(((lambda : d.sampleType), 'executes', 'entity:sampleType'))\n",
    "g.append(((lambda : d.casNumber), 'executes', 'entity:casNumber'))\n",
    "g.append(((lambda : d.inhibitorEfficiency), 'executes', 'entity:inhibitorEfficiency'))\n",
    "\n",
    "# consumer mapping\n",
    "g.append(('consumer:eff', 'mapsTo', 'ontology:inhibitorEfficiency'))\n",
    "g.append(('consumer:cas', 'mapsTo', 'ontology:casNumber'))\n"
   ]
  },
  {
   "cell_type": "code",
   "execution_count": 4,
   "id": "0291097e-9c1d-4a1c-bc01-a936a31b09dc",
   "metadata": {},
   "outputs": [
    {
     "name": "stdout",
     "output_type": "stream",
     "text": [
      "['consumer:cas', 'ontology:casNumber', 'entity:casNumber', 'entity:casNumber']\n"
     ]
    }
   ],
   "source": [
    "\n",
    "\n",
    "def path(origin, destination, link=None, visited=[]):\n",
    "    if not link:\n",
    "        link = [origin]    \n",
    "    visited.append(origin)\n",
    "    for _, r, o in g.match(origin, None, None):\n",
    "        if not o in visited:\n",
    "            if o == destination:                \n",
    "                return link\n",
    "            else:\n",
    "                link.append(o)            \n",
    "                return path(o, destination, visited)\n",
    "    \n",
    "link = path('consumer:cas', 'entity')\n",
    "print (link)"
   ]
  },
  {
   "cell_type": "code",
   "execution_count": 5,
   "id": "7c620eb4-c74d-418c-90f9-ce9b5838a86a",
   "metadata": {},
   "outputs": [
    {
     "data": {
      "text/plain": [
       "['5.00314131824638',\n",
       " '4.99955315940226',\n",
       " '4.11654541915057',\n",
       " '4.24085085066989',\n",
       " '4.40301509970376']"
      ]
     },
     "execution_count": 5,
     "metadata": {},
     "output_type": "execute_result"
    }
   ],
   "source": [
    "x.impedance"
   ]
  },
  {
   "cell_type": "code",
   "execution_count": 8,
   "id": "39987f11-6c9e-442b-960d-5b0b1cf2baa7",
   "metadata": {},
   "outputs": [
    {
     "ename": "TypeError",
     "evalue": "must be real number, not numpy.str_",
     "output_type": "error",
     "traceback": [
      "\u001b[0;31m---------------------------------------------------------------------------\u001b[0m",
      "\u001b[0;31mTypeError\u001b[0m                                 Traceback (most recent call last)",
      "\u001b[0;32m/tmp/ipykernel_1706/3924555011.py\u001b[0m in \u001b[0;36m<module>\u001b[0;34m\u001b[0m\n\u001b[1;32m      1\u001b[0m \u001b[0;32mimport\u001b[0m \u001b[0mmath\u001b[0m\u001b[0;34m\u001b[0m\u001b[0;34m\u001b[0m\u001b[0m\n\u001b[0;32m----> 2\u001b[0;31m \u001b[0mmath\u001b[0m\u001b[0;34m.\u001b[0m\u001b[0mpow\u001b[0m\u001b[0;34m(\u001b[0m\u001b[0;36m10\u001b[0m\u001b[0;34m,\u001b[0m \u001b[0mx\u001b[0m\u001b[0;34m.\u001b[0m\u001b[0mimpedance\u001b[0m\u001b[0;34m[\u001b[0m\u001b[0;36m0\u001b[0m\u001b[0;34m]\u001b[0m\u001b[0;34m)\u001b[0m\u001b[0;34m\u001b[0m\u001b[0;34m\u001b[0m\u001b[0m\n\u001b[0m",
      "\u001b[0;31mTypeError\u001b[0m: must be real number, not numpy.str_"
     ]
    }
   ],
   "source": [
    "import math\n",
    "math.pow(10, x.impedance[0])"
   ]
  },
  {
   "cell_type": "code",
   "execution_count": null,
   "id": "b742ee3a-ce2c-4132-b70e-452e488e4aa5",
   "metadata": {},
   "outputs": [],
   "source": []
  }
 ],
 "metadata": {
  "kernelspec": {
   "display_name": "Python 3 (ipykernel)",
   "language": "python",
   "name": "python3"
  },
  "language_info": {
   "codemirror_mode": {
    "name": "ipython",
    "version": 3
   },
   "file_extension": ".py",
   "mimetype": "text/x-python",
   "name": "python",
   "nbconvert_exporter": "python",
   "pygments_lexer": "ipython3",
   "version": "3.9.7"
  }
 },
 "nbformat": 4,
 "nbformat_minor": 5
}
