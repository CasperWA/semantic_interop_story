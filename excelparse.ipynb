{
 "cells": [
  {
   "cell_type": "code",
   "execution_count": 2,
   "id": "18f833b5-b4f6-4d3c-b5b0-935c23d2c7d1",
   "metadata": {},
   "outputs": [
    {
     "name": "stdout",
     "output_type": "stream",
     "text": [
      "{'sampleType': ['LiCO3', 'LiCO3', 'LiCl', 'LiCl', 'LiCl'], 'casNumber': ['554-13-2', '554-13-2', '7447-41-8', '7447-41-8', '7447-41-8'], 'runID': ['27082021_1mMLiCO3_0.1MNaCl_AA2024_run4', '27082021_1mMLiCO3_0.1MNaCl_AA2024_run5', '11082021_1mMLiCl_0.1MNaCl_AA2024_run1', '11082021_1mMLiCl_0.1MNaCl_AA2024_run2', '11082021_1mMLiCl_0.1MNaCl_AA2024_run3'], 'inhibitorEfficiency': [82.84807910472972, 82.70578220798093, -32.10177835991128, 0.7790838781530862, 31.69712512083033], 'impedance_log_24h': [5.00314131824638, 4.99955315940226, 4.11654541915057, 4.24085085066989, 4.40301509970376], 'impedance_ohm_24h': [100725.93749999841, 99897.1640624986, 13078.123046874862, 17412.08789062481, 25293.859374999603], 'impedance_kohm_24h': [79.06986093749876, 78.4192737890614, 10.266326591796767, 13.668488994140477, 19.85567960937469]}\n"
     ]
    },
    {
     "data": {
      "text/plain": [
       "[82.84807910472972,\n",
       " 82.70578220798093,\n",
       " -32.10177835991128,\n",
       " 0.7790838781530862,\n",
       " 31.69712512083033]"
      ]
     },
     "execution_count": 2,
     "metadata": {},
     "output_type": "execute_result"
    }
   ],
   "source": [
    "from __future__ import annotations\n",
    "from pathlib import Path\n",
    "from s7.models import create_config\n",
    "from s7.xlsparser import XLSParser\n",
    "from s7.classgen import class_factory\n",
    "\n",
    "# Import Configuration\n",
    "xls_config = create_config(Path(\".\").resolve() / 'inhibitor_conf.yml')\n",
    "\n",
    "# Generate Specific Parser from config\n",
    "parser = XLSParser(xls_config)\n",
    "v = parser.get()\n",
    "print(v)\n",
    "\n",
    "# Generate entity (not a S7-model yet...)\n",
    "XLSData = class_factory(\"XLSData\", v)\n",
    "\n",
    "x = XLSData()\n",
    "x.inhibitorEfficiency\n"
   ]
  },
  {
   "cell_type": "code",
   "execution_count": 3,
   "id": "6ce166df",
   "metadata": {},
   "outputs": [
    {
     "name": "stdout",
     "output_type": "stream",
     "text": [
      "['554-13-2', '554-13-2', '7447-41-8', '7447-41-8', '7447-41-8']\n"
     ]
    },
    {
     "data": {
      "text/plain": [
       "{'title': 'DataSourceEntity',\n",
       " 'description': 'Generic Data source entity',\n",
       " 'type': 'object',\n",
       " 'properties': {'sampleType': {'title': 'sampleType',\n",
       "   'description': 'Molecule name',\n",
       "   'type': 'string'},\n",
       "  'casNumber': {'title': 'casNumber',\n",
       "   'description': 'CAS number',\n",
       "   'type': 'string'},\n",
       "  'runID': {'title': 'runID',\n",
       "   'description': 'Experiment identification',\n",
       "   'type': 'string'},\n",
       "  'inhibitorEfficiency': {'title': 'inhibitorEfficiency',\n",
       "   'description': 'EIS 24h',\n",
       "   'type': 'number'},\n",
       "  'impedance_log_24h': {'title': 'impedance_log_24h',\n",
       "   'description': 'Impedance Log (24h)',\n",
       "   'type': 'number'},\n",
       "  'impedance_ohm_24h': {'title': 'impedance_ohm_24h',\n",
       "   'description': 'Impedance Ohm (24h)',\n",
       "   'type': 'number'},\n",
       "  'impedance_kohm_24h': {'title': 'impedance_kohm_24h',\n",
       "   'description': 'Impedance kOhm (24h)',\n",
       "   'type': 'number'}},\n",
       " 'additionalProperties': False}"
      ]
     },
     "execution_count": 3,
     "metadata": {},
     "output_type": "execute_result"
    }
   ],
   "source": [
    "from pathlib import Path\n",
    "# from s7.entitygen import create_entity\n",
    "from s7.entitygen_simple import create_entity\n",
    "from s7.models import create_config\n",
    "\n",
    "xls_config = create_config(Path(\".\").resolve() / 'inhibitor_conf.yml')\n",
    "\n",
    "DataSourceEntity = create_entity(\n",
    "    data_model=Path(\".\").resolve() / \"efficiency.yaml\",\n",
    "    resource_config={\n",
    "        \"downloadUrl\": (Path(\".\").resolve() / \"Inhibitor_Data_Analysis_summary.xlsx\").as_uri(),\n",
    "        \"mediaType\": \"application/vnd.openxmlformats-officedocument.spreadsheetml.sheet\",\n",
    "        \"configuration\": xls_config,\n",
    "    },\n",
    ")\n",
    "entity = DataSourceEntity()\n",
    "print(entity.casNumber)\n",
    "entity.schema()\n",
    "\n",
    "# function_mapping = {\n",
    "#     # Specific doubles, based on graph traversal back to inner entity's inhibitorEfficiency - through a generic \"doubles\" function: f(x)=2*x\n",
    "#     \"doubles\": lambda: [_ * 2 for _ in entity.inhibitorEfficiency],\n",
    "# }\n",
    "\n",
    "# lambda prop: getattr(entity, prop, None)"
   ]
  },
  {
   "cell_type": "code",
   "execution_count": 6,
   "id": "03da3b56",
   "metadata": {},
   "outputs": [
    {
     "data": {
      "image/svg+xml": "<?xml version=\"1.0\" encoding=\"UTF-8\" standalone=\"no\"?>\n<!DOCTYPE svg PUBLIC \"-//W3C//DTD SVG 1.1//EN\"\n \"http://www.w3.org/Graphics/SVG/1.1/DTD/svg11.dtd\">\n<!-- Generated by graphviz version 2.43.0 (0)\n -->\n<!-- Title: %3 Pages: 1 -->\n<svg width=\"1052pt\" height=\"305pt\"\n viewBox=\"0.00 0.00 1051.94 305.00\" xmlns=\"http://www.w3.org/2000/svg\" xmlns:xlink=\"http://www.w3.org/1999/xlink\">\n<g id=\"graph0\" class=\"graph\" transform=\"scale(1 1) rotate(0) translate(4 301)\">\n<title>%3</title>\n<polygon fill=\"white\" stroke=\"transparent\" points=\"-4,4 -4,-301 1047.94,-301 1047.94,4 -4,4\"/>\n<!-- imp_to_flux -->\n<g id=\"node1\" class=\"node\">\n<title>imp_to_flux</title>\n<ellipse fill=\"none\" stroke=\"black\" cx=\"477.19\" cy=\"-279\" rx=\"63.89\" ry=\"18\"/>\n<text text-anchor=\"middle\" x=\"477.19\" y=\"-275.3\" font-family=\"Times,serif\" font-size=\"14.00\">imp_to_flux</text>\n</g>\n<!-- ImpedanceOhm -->\n<g id=\"node2\" class=\"node\">\n<title>ImpedanceOhm</title>\n<ellipse fill=\"none\" stroke=\"black\" cx=\"83.19\" cy=\"-192\" rx=\"83.39\" ry=\"18\"/>\n<text text-anchor=\"middle\" x=\"83.19\" y=\"-188.3\" font-family=\"Times,serif\" font-size=\"14.00\">ImpedanceOhm</text>\n</g>\n<!-- imp_to_flux&#45;&gt;ImpedanceOhm -->\n<g id=\"edge1\" class=\"edge\">\n<title>imp_to_flux&#45;&gt;ImpedanceOhm</title>\n<path fill=\"none\" stroke=\"black\" d=\"M428.09,-267.41C357.86,-252.26 228.54,-224.36 149.76,-207.36\"/>\n<polygon fill=\"black\" stroke=\"black\" points=\"150.45,-203.93 139.94,-205.24 148.97,-210.77 150.45,-203.93\"/>\n<text text-anchor=\"middle\" x=\"331.69\" y=\"-231.8\" font-family=\"Times,serif\" font-size=\"14.00\">expects</text>\n</g>\n<!-- EISEfficiency -->\n<g id=\"node3\" class=\"node\">\n<title>EISEfficiency</title>\n<ellipse fill=\"none\" stroke=\"black\" cx=\"477.19\" cy=\"-192\" rx=\"72.59\" ry=\"18\"/>\n<text text-anchor=\"middle\" x=\"477.19\" y=\"-188.3\" font-family=\"Times,serif\" font-size=\"14.00\">EISEfficiency</text>\n</g>\n<!-- imp_to_flux&#45;&gt;EISEfficiency -->\n<g id=\"edge2\" class=\"edge\">\n<title>imp_to_flux&#45;&gt;EISEfficiency</title>\n<path fill=\"none\" stroke=\"black\" d=\"M477.19,-260.8C477.19,-249.16 477.19,-233.55 477.19,-220.24\"/>\n<polygon fill=\"black\" stroke=\"black\" points=\"480.69,-220.18 477.19,-210.18 473.69,-220.18 480.69,-220.18\"/>\n<text text-anchor=\"middle\" x=\"504.69\" y=\"-231.8\" font-family=\"Times,serif\" font-size=\"14.00\">outputs</text>\n</g>\n<!-- function -->\n<g id=\"node4\" class=\"node\">\n<title>function</title>\n<ellipse fill=\"none\" stroke=\"black\" cx=\"785.19\" cy=\"-192\" rx=\"48.99\" ry=\"18\"/>\n<text text-anchor=\"middle\" x=\"785.19\" y=\"-188.3\" font-family=\"Times,serif\" font-size=\"14.00\">function</text>\n</g>\n<!-- imp_to_flux&#45;&gt;function -->\n<g id=\"edge3\" class=\"edge\">\n<title>imp_to_flux&#45;&gt;function</title>\n<path fill=\"none\" stroke=\"black\" d=\"M521.97,-266.1C572.06,-252.73 655.56,-230.24 727.19,-210 730.95,-208.94 734.84,-207.83 738.74,-206.7\"/>\n<polygon fill=\"black\" stroke=\"black\" points=\"739.78,-210.05 748.4,-203.9 737.83,-203.32 739.78,-210.05\"/>\n<text text-anchor=\"middle\" x=\"670.19\" y=\"-231.8\" font-family=\"Times,serif\" font-size=\"14.00\">isA</text>\n</g>\n<!-- Resistance -->\n<g id=\"node5\" class=\"node\">\n<title>Resistance</title>\n<ellipse fill=\"none\" stroke=\"black\" cx=\"223.19\" cy=\"-105\" rx=\"61.19\" ry=\"18\"/>\n<text text-anchor=\"middle\" x=\"223.19\" y=\"-101.3\" font-family=\"Times,serif\" font-size=\"14.00\">Resistance</text>\n</g>\n<!-- ImpedanceOhm&#45;&gt;Resistance -->\n<g id=\"edge4\" class=\"edge\">\n<title>ImpedanceOhm&#45;&gt;Resistance</title>\n<path fill=\"none\" stroke=\"black\" d=\"M109.86,-174.81C132.32,-161.17 164.62,-141.56 188.99,-126.77\"/>\n<polygon fill=\"black\" stroke=\"black\" points=\"190.84,-129.74 197.57,-121.55 187.21,-123.75 190.84,-129.74\"/>\n<text text-anchor=\"middle\" x=\"173.19\" y=\"-144.8\" font-family=\"Times,serif\" font-size=\"14.00\">isA</text>\n</g>\n<!-- InhibitorEfficiency -->\n<g id=\"node7\" class=\"node\">\n<title>InhibitorEfficiency</title>\n<ellipse fill=\"none\" stroke=\"black\" cx=\"590.19\" cy=\"-105\" rx=\"96.68\" ry=\"18\"/>\n<text text-anchor=\"middle\" x=\"590.19\" y=\"-101.3\" font-family=\"Times,serif\" font-size=\"14.00\">InhibitorEfficiency</text>\n</g>\n<!-- EISEfficiency&#45;&gt;InhibitorEfficiency -->\n<g id=\"edge6\" class=\"edge\">\n<title>EISEfficiency&#45;&gt;InhibitorEfficiency</title>\n<path fill=\"none\" stroke=\"black\" d=\"M498.98,-174.61C516.3,-161.58 540.72,-143.21 559.94,-128.76\"/>\n<polygon fill=\"black\" stroke=\"black\" points=\"562.2,-131.44 568.09,-122.63 557.99,-125.84 562.2,-131.44\"/>\n<text text-anchor=\"middle\" x=\"552.19\" y=\"-144.8\" font-family=\"Times,serif\" font-size=\"14.00\">isA</text>\n</g>\n<!-- Parameter -->\n<g id=\"node9\" class=\"node\">\n<title>Parameter</title>\n<ellipse fill=\"none\" stroke=\"black\" cx=\"223.19\" cy=\"-18\" rx=\"59.59\" ry=\"18\"/>\n<text text-anchor=\"middle\" x=\"223.19\" y=\"-14.3\" font-family=\"Times,serif\" font-size=\"14.00\">Parameter</text>\n</g>\n<!-- Resistance&#45;&gt;Parameter -->\n<g id=\"edge8\" class=\"edge\">\n<title>Resistance&#45;&gt;Parameter</title>\n<path fill=\"none\" stroke=\"black\" d=\"M223.19,-86.8C223.19,-75.16 223.19,-59.55 223.19,-46.24\"/>\n<polygon fill=\"black\" stroke=\"black\" points=\"226.69,-46.18 223.19,-36.18 219.69,-46.18 226.69,-46.18\"/>\n<text text-anchor=\"middle\" x=\"234.19\" y=\"-57.8\" font-family=\"Times,serif\" font-size=\"14.00\">isA</text>\n</g>\n<!-- ImpedanceLogOhm -->\n<g id=\"node6\" class=\"node\">\n<title>ImpedanceLogOhm</title>\n<ellipse fill=\"none\" stroke=\"black\" cx=\"285.19\" cy=\"-192\" rx=\"100.98\" ry=\"18\"/>\n<text text-anchor=\"middle\" x=\"285.19\" y=\"-188.3\" font-family=\"Times,serif\" font-size=\"14.00\">ImpedanceLogOhm</text>\n</g>\n<!-- ImpedanceLogOhm&#45;&gt;Resistance -->\n<g id=\"edge5\" class=\"edge\">\n<title>ImpedanceLogOhm&#45;&gt;Resistance</title>\n<path fill=\"none\" stroke=\"black\" d=\"M272.65,-173.8C263.68,-161.51 251.47,-144.77 241.43,-131.01\"/>\n<polygon fill=\"black\" stroke=\"black\" points=\"244.23,-128.9 235.51,-122.89 238.57,-133.03 244.23,-128.9\"/>\n<text text-anchor=\"middle\" x=\"269.19\" y=\"-144.8\" font-family=\"Times,serif\" font-size=\"14.00\">isA</text>\n</g>\n<!-- Output -->\n<g id=\"node10\" class=\"node\">\n<title>Output</title>\n<ellipse fill=\"none\" stroke=\"black\" cx=\"590.19\" cy=\"-18\" rx=\"43.59\" ry=\"18\"/>\n<text text-anchor=\"middle\" x=\"590.19\" y=\"-14.3\" font-family=\"Times,serif\" font-size=\"14.00\">Output</text>\n</g>\n<!-- InhibitorEfficiency&#45;&gt;Output -->\n<g id=\"edge9\" class=\"edge\">\n<title>InhibitorEfficiency&#45;&gt;Output</title>\n<path fill=\"none\" stroke=\"black\" d=\"M590.19,-86.8C590.19,-75.16 590.19,-59.55 590.19,-46.24\"/>\n<polygon fill=\"black\" stroke=\"black\" points=\"593.69,-46.18 590.19,-36.18 586.69,-46.18 593.69,-46.18\"/>\n<text text-anchor=\"middle\" x=\"601.19\" y=\"-57.8\" font-family=\"Times,serif\" font-size=\"14.00\">isA</text>\n</g>\n<!-- LPREfficiency -->\n<g id=\"node8\" class=\"node\">\n<title>LPREfficiency</title>\n<ellipse fill=\"none\" stroke=\"black\" cx=\"643.19\" cy=\"-192\" rx=\"75.29\" ry=\"18\"/>\n<text text-anchor=\"middle\" x=\"643.19\" y=\"-188.3\" font-family=\"Times,serif\" font-size=\"14.00\">LPREfficiency</text>\n</g>\n<!-- LPREfficiency&#45;&gt;InhibitorEfficiency -->\n<g id=\"edge7\" class=\"edge\">\n<title>LPREfficiency&#45;&gt;InhibitorEfficiency</title>\n<path fill=\"none\" stroke=\"black\" d=\"M632.47,-173.8C624.92,-161.7 614.7,-145.3 606.2,-131.67\"/>\n<polygon fill=\"black\" stroke=\"black\" points=\"609.16,-129.81 600.9,-123.18 603.22,-133.51 609.16,-129.81\"/>\n<text text-anchor=\"middle\" x=\"631.19\" y=\"-144.8\" font-family=\"Times,serif\" font-size=\"14.00\">isA</text>\n</g>\n<!-- cas_to_smiles -->\n<g id=\"node11\" class=\"node\">\n<title>cas_to_smiles</title>\n<ellipse fill=\"none\" stroke=\"black\" cx=\"890.19\" cy=\"-279\" rx=\"73.39\" ry=\"18\"/>\n<text text-anchor=\"middle\" x=\"890.19\" y=\"-275.3\" font-family=\"Times,serif\" font-size=\"14.00\">cas_to_smiles</text>\n</g>\n<!-- cas_to_smiles&#45;&gt;function -->\n<g id=\"edge10\" class=\"edge\">\n<title>cas_to_smiles&#45;&gt;function</title>\n<path fill=\"none\" stroke=\"black\" d=\"M869.95,-261.61C853.62,-248.39 830.49,-229.67 812.52,-215.12\"/>\n<polygon fill=\"black\" stroke=\"black\" points=\"814.64,-212.34 804.67,-208.76 810.24,-217.78 814.64,-212.34\"/>\n<text text-anchor=\"middle\" x=\"855.19\" y=\"-231.8\" font-family=\"Times,serif\" font-size=\"14.00\">isA</text>\n</g>\n<!-- CAS# -->\n<g id=\"node12\" class=\"node\">\n<title>CAS#</title>\n<ellipse fill=\"none\" stroke=\"black\" cx=\"890.19\" cy=\"-192\" rx=\"38.19\" ry=\"18\"/>\n<text text-anchor=\"middle\" x=\"890.19\" y=\"-188.3\" font-family=\"Times,serif\" font-size=\"14.00\">CAS#</text>\n</g>\n<!-- cas_to_smiles&#45;&gt;CAS# -->\n<g id=\"edge11\" class=\"edge\">\n<title>cas_to_smiles&#45;&gt;CAS#</title>\n<path fill=\"none\" stroke=\"black\" d=\"M890.19,-260.8C890.19,-249.16 890.19,-233.55 890.19,-220.24\"/>\n<polygon fill=\"black\" stroke=\"black\" points=\"893.69,-220.18 890.19,-210.18 886.69,-220.18 893.69,-220.18\"/>\n<text text-anchor=\"middle\" x=\"917.69\" y=\"-231.8\" font-family=\"Times,serif\" font-size=\"14.00\">expects</text>\n</g>\n<!-- SMILES -->\n<g id=\"node13\" class=\"node\">\n<title>SMILES</title>\n<ellipse fill=\"none\" stroke=\"black\" cx=\"995.19\" cy=\"-192\" rx=\"48.99\" ry=\"18\"/>\n<text text-anchor=\"middle\" x=\"995.19\" y=\"-188.3\" font-family=\"Times,serif\" font-size=\"14.00\">SMILES</text>\n</g>\n<!-- cas_to_smiles&#45;&gt;SMILES -->\n<g id=\"edge12\" class=\"edge\">\n<title>cas_to_smiles&#45;&gt;SMILES</title>\n<path fill=\"none\" stroke=\"black\" d=\"M920.12,-262.51C929.79,-256.92 940.31,-250.2 949.19,-243 958.59,-235.38 967.85,-225.84 975.56,-217.14\"/>\n<polygon fill=\"black\" stroke=\"black\" points=\"978.3,-219.32 982.17,-209.46 972.99,-214.75 978.3,-219.32\"/>\n<text text-anchor=\"middle\" x=\"991.69\" y=\"-231.8\" font-family=\"Times,serif\" font-size=\"14.00\">outputs</text>\n</g>\n</g>\n</svg>\n",
      "text/plain": [
       "<graphviz.graphs.Digraph at 0x7f850cc550a0>"
      ]
     },
     "execution_count": 6,
     "metadata": {},
     "output_type": "execute_result"
    }
   ],
   "source": [
    "from s7.graph import Graph\n",
    "\n",
    "graph_mapping = [\n",
    "    # (\"properties.SMILES\", \"mapsTo\", \"SMILES\"),\n",
    "    # (\"properties.inhibitorEfficiency\", \"mapsTo\", \"EISEfficiency\"),\n",
    "    # (\"data.casNumber\", \"mapsTo\", \"CAS#\"),\n",
    "    # (\"data.inhibitorEfficiency\", \"mapsTo\", \"ImpedanceOhm\"),\n",
    "    (\"imp_to_flux\", \"expects\", \"ImpedanceOhm\"),\n",
    "    (\"imp_to_flux\", \"outputs\", \"EISEfficiency\"),\n",
    "    (\"imp_to_flux\", \"isA\", \"function\"),\n",
    "    (\"ImpedanceOhm\", \"isA\", \"Resistance\"),\n",
    "    (\"ImpedanceLogOhm\", \"isA\", \"Resistance\"),\n",
    "    (\"EISEfficiency\", \"isA\", \"InhibitorEfficiency\"),\n",
    "    (\"LPREfficiency\", \"isA\", \"InhibitorEfficiency\"),\n",
    "    (\"Resistance\", \"isA\", \"Parameter\"),\n",
    "    (\"InhibitorEfficiency\", \"isA\", \"Output\"),\n",
    "    # (\"function\", \"hasMethod\", \"execute\"),\n",
    "    (\"cas_to_smiles\", \"isA\", \"function\"),\n",
    "    (\"cas_to_smiles\", \"expects\", \"CAS#\"),\n",
    "    (\"cas_to_smiles\", \"outputs\", \"SMILES\"),\n",
    "\n",
    "    # Generated in `create_outer_entity()`:\n",
    "    # (\"imp_to_flux\", \"executes\", lambda: ...)\n",
    "    # (\"cas_to_smiles\", \"executes\", lambda: ...)\n",
    "]\n",
    "graph = Graph(graph_mapping)\n",
    "graph.plot()\n"
   ]
  },
  {
   "cell_type": "code",
   "execution_count": 4,
   "id": "23116d44",
   "metadata": {},
   "outputs": [
    {
     "name": "stdout",
     "output_type": "stream",
     "text": [
      "[201451.87499999683, 199794.3281249972, 26156.246093749724, 34824.17578124962, 50587.71874999921]\n",
      "[201451.87499999683, 199794.3281249972, 26156.246093749724, 34824.17578124962, 50587.71874999921]\n",
      "['554-13-2-SMILES_NOW', '554-13-2-SMILES_NOW', '7447-41-8-SMILES_NOW', '7447-41-8-SMILES_NOW', '7447-41-8-SMILES_NOW']\n",
      "['554-13-2', '554-13-2', '7447-41-8', '7447-41-8', '7447-41-8']\n"
     ]
    },
    {
     "data": {
      "text/plain": [
       "{'title': 'OuterEntity',\n",
       " 'description': 'Generic Data source entity',\n",
       " 'type': 'object',\n",
       " 'properties': {'SMILES': {'title': 'SMILES',\n",
       "   'description': 'SMILES',\n",
       "   'type': 'string'},\n",
       "  'inhibitorEfficiency': {'title': 'inhibitorEfficiency',\n",
       "   'description': 'EIS 24h',\n",
       "   'type': 'number'}},\n",
       " 'additionalProperties': False}"
      ]
     },
     "execution_count": 4,
     "metadata": {},
     "output_type": "execute_result"
    }
   ],
   "source": [
    "from s7.outer_entitygen_simple import create_outer_entity\n",
    "\n",
    "GetEfficiency = create_outer_entity(\n",
    "    data_model=Path(\".\").resolve() / \"ai_model.yaml\",\n",
    "    inner_entity=entity,\n",
    "    mapping=[\n",
    "        (\"outer.SMILES\", \"mapsTo\", \"SMILES\"),\n",
    "        (\"outer.inhibitorEfficiency\", \"mapsTo\", \"EISEfficiency\"),\n",
    "        (\"inner.casNumber\", \"mapsTo\", \"CAS#\"),\n",
    "        (\"inner.impedance_ohm_24h\", \"mapsTo\", \"ImpedanceOhm\"),\n",
    "        (\"inner.impedance_log_24h\", \"mapsTo\", \"ImpedanceLogOhm\"),\n",
    "    ],\n",
    ")\n",
    "outer_entity = GetEfficiency()\n",
    "print(outer_entity.inhibitorEfficiency)\n",
    "print([_ * 2 for _ in entity.impedance_ohm_24h])\n",
    "print(outer_entity.SMILES)\n",
    "print(entity.casNumber)\n",
    "outer_entity.schema()\n"
   ]
  },
  {
   "cell_type": "code",
   "execution_count": 4,
   "id": "f24ea63b-25f3-49cc-8e37-191c7316812d",
   "metadata": {},
   "outputs": [
    {
     "ename": "NameError",
     "evalue": "name 'XLSData' is not defined",
     "output_type": "error",
     "traceback": [
      "\u001b[0;31m---------------------------------------------------------------------------\u001b[0m",
      "\u001b[0;31mNameError\u001b[0m                                 Traceback (most recent call last)",
      "\u001b[1;32m/home/cwa/venvs/vipcoat_m12/semantic_interop_story/excelparse.ipynb Cell 3'\u001b[0m in \u001b[0;36m<cell line: 3>\u001b[0;34m()\u001b[0m\n\u001b[1;32m      <a href='vscode-notebook-cell://wsl%2Bubuntu-20.04/home/cwa/venvs/vipcoat_m12/semantic_interop_story/excelparse.ipynb#ch0000002vscode-remote?line=0'>1</a>\u001b[0m \u001b[39mfrom\u001b[39;00m \u001b[39ms7\u001b[39;00m\u001b[39m.\u001b[39;00m\u001b[39mgraph\u001b[39;00m \u001b[39mimport\u001b[39;00m Graph\n\u001b[1;32m      <a href='vscode-notebook-cell://wsl%2Bubuntu-20.04/home/cwa/venvs/vipcoat_m12/semantic_interop_story/excelparse.ipynb#ch0000002vscode-remote?line=1'>2</a>\u001b[0m g \u001b[39m=\u001b[39m Graph()\n\u001b[0;32m----> <a href='vscode-notebook-cell://wsl%2Bubuntu-20.04/home/cwa/venvs/vipcoat_m12/semantic_interop_story/excelparse.ipynb#ch0000002vscode-remote?line=2'>3</a>\u001b[0m d \u001b[39m=\u001b[39m XLSData()\n\u001b[1;32m      <a href='vscode-notebook-cell://wsl%2Bubuntu-20.04/home/cwa/venvs/vipcoat_m12/semantic_interop_story/excelparse.ipynb#ch0000002vscode-remote?line=4'>5</a>\u001b[0m \u001b[39mprint\u001b[39m (d\u001b[39m.\u001b[39msampleType)\n\u001b[1;32m      <a href='vscode-notebook-cell://wsl%2Bubuntu-20.04/home/cwa/venvs/vipcoat_m12/semantic_interop_story/excelparse.ipynb#ch0000002vscode-remote?line=6'>7</a>\u001b[0m g\u001b[39m.\u001b[39mappend((\u001b[39m'\u001b[39m\u001b[39mentity\u001b[39m\u001b[39m'\u001b[39m, \u001b[39m'\u001b[39m\u001b[39mhasProperty\u001b[39m\u001b[39m'\u001b[39m, \u001b[39m'\u001b[39m\u001b[39mentity:sampleType\u001b[39m\u001b[39m'\u001b[39m))\n",
      "\u001b[0;31mNameError\u001b[0m: name 'XLSData' is not defined"
     ]
    }
   ],
   "source": [
    "from s7.graph import Graph\n",
    "g = Graph()\n",
    "d = XLSData()\n",
    "\n",
    "print (d.sampleType)\n",
    "\n",
    "g.append(('entity', 'hasProperty', 'entity:sampleType'))\n",
    "g.append(('entity:sampleType', 'propertyOf', 'entity'))\n",
    "\n",
    "g.append(('entity', 'hasProperty', 'entity:casNumber'))\n",
    "g.append(('entity:casNumber', 'propertyOf', 'entity'))\n",
    "\n",
    "g.append(('entity:sampleType', 'mapsTo', 'ontology:sampleType'))\n",
    "g.append(('entity:sampleType', 'propertyOf', 'entity'))\n",
    "\n",
    "g.append(('ontology:sampleType', 'mapsfrom', 'entity:sampleType'))\n",
    "g.append(('entity:casNumber', 'mapsTo', 'ontology:casNumber'))\n",
    "g.append(('ontology:casNumber', 'mapsFrom', 'entity:casNumber'))\n",
    "g.append(('entity:inhibitorEfficiency', 'mapsTo', 'ontology:inhibitorEfficiency'))\n",
    "g.append(('ontology:inhibitorEfficiency', 'mapsTo', 'entity:inhibitorEfficiency'))\n",
    "\n",
    "g.append(((lambda : d.sampleType), 'executes', 'entity:sampleType'))\n",
    "g.append(((lambda : d.casNumber), 'executes', 'entity:casNumber'))\n",
    "g.append(((lambda : d.inhibitorEfficiency), 'executes', 'entity:inhibitorEfficiency'))\n",
    "\n",
    "# consumer mapping\n",
    "g.append(('consumer:eff', 'mapsTo', 'ontology:inhibitorEfficiency'))\n",
    "g.append(('consumer:cas', 'mapsTo', 'ontology:casNumber'))\n"
   ]
  },
  {
   "cell_type": "code",
   "execution_count": null,
   "id": "0291097e-9c1d-4a1c-bc01-a936a31b09dc",
   "metadata": {},
   "outputs": [],
   "source": []
  },
  {
   "cell_type": "code",
   "execution_count": null,
   "id": "7c620eb4-c74d-418c-90f9-ce9b5838a86a",
   "metadata": {},
   "outputs": [],
   "source": []
  },
  {
   "cell_type": "code",
   "execution_count": null,
   "id": "39987f11-6c9e-442b-960d-5b0b1cf2baa7",
   "metadata": {},
   "outputs": [],
   "source": [
    "import math\n",
    "math.pow(10, x.impedance[0])"
   ]
  },
  {
   "cell_type": "code",
   "execution_count": null,
   "id": "b742ee3a-ce2c-4132-b70e-452e488e4aa5",
   "metadata": {},
   "outputs": [],
   "source": []
  }
 ],
 "metadata": {
  "kernelspec": {
   "display_name": "Python 3 (ipykernel)",
   "language": "python",
   "name": "python3"
  },
  "language_info": {
   "codemirror_mode": {
    "name": "ipython",
    "version": 3
   },
   "file_extension": ".py",
   "mimetype": "text/x-python",
   "name": "python",
   "nbconvert_exporter": "python",
   "pygments_lexer": "ipython3",
   "version": "3.9.12"
  }
 },
 "nbformat": 4,
 "nbformat_minor": 5
}
