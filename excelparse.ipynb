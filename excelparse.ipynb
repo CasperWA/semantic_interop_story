{
 "cells": [
  {
   "cell_type": "code",
   "execution_count": 2,
   "id": "18f833b5-b4f6-4d3c-b5b0-935c23d2c7d1",
   "metadata": {},
   "outputs": [
    {
     "name": "stdout",
     "output_type": "stream",
     "text": [
      "{'sampleType': ['LiCO3', 'LiCO3', 'LiCl', 'LiCl', 'LiCl'], 'casNumber': ['554-13-2', '554-13-2', '7447-41-8', '7447-41-8', '7447-41-8'], 'runID': ['27082021_1mMLiCO3_0.1MNaCl_AA2024_run4', '27082021_1mMLiCO3_0.1MNaCl_AA2024_run5', '11082021_1mMLiCl_0.1MNaCl_AA2024_run1', '11082021_1mMLiCl_0.1MNaCl_AA2024_run2', '11082021_1mMLiCl_0.1MNaCl_AA2024_run3'], 'inhibitorEfficiency': ['82.84807910472972', '82.70578220798093', '-32.10177835991128', '0.7790838781530862', '31.69712512083033'], 'impedance_log_24h': ['5.00314131824638', '4.99955315940226', '4.11654541915057', '4.24085085066989', '4.40301509970376'], 'impedance_ohm_24h': ['100725.93749999841', '99897.1640624986', '13078.123046874862', '17412.08789062481', '25293.859374999603'], 'impedance_kohm_24h': ['79.06986093749876', '78.4192737890614', '10.266326591796767', '13.668488994140477', '19.85567960937469']}\n"
     ]
    },
    {
     "data": {
      "text/plain": [
       "['82.84807910472972',\n",
       " '82.70578220798093',\n",
       " '-32.10177835991128',\n",
       " '0.7790838781530862',\n",
       " '31.69712512083033']"
      ]
     },
     "execution_count": 2,
     "metadata": {},
     "output_type": "execute_result"
    }
   ],
   "source": [
    "from __future__ import annotations\n",
    "from pathlib import Path\n",
    "from s7.models import create_config\n",
    "from s7.xlsparser import XLSParser\n",
    "from s7.classgen import class_factory\n",
    "\n",
    "# Import Configuration\n",
    "xls_config = create_config(Path(\".\").resolve() / 'inhibitor_conf.yml')\n",
    "\n",
    "# Generate Specific Parser from config\n",
    "parser = XLSParser(xls_config)\n",
    "v = parser.get()\n",
    "print (v)\n",
    "\n",
    "# Generate entity (not a S7-model yet...)\n",
    "XLSData = class_factory(\"XLSData\", parser.get())\n",
    "\n",
    "x = XLSData()\n",
    "x.inhibitorEfficiency\n"
   ]
  },
  {
   "cell_type": "code",
   "execution_count": 6,
   "id": "6ce166df",
   "metadata": {},
   "outputs": [
    {
     "name": "stdout",
     "output_type": "stream",
     "text": [
      "False\n"
     ]
    },
    {
     "ename": "ApiError",
     "evalue": "APIError: status=500 Cannot initialize data resource: session_id='session-97854d2e-ec99-4e82-9e82-677185d4e50f' resource_id='dataresource-e4d5c4b7-431e-41b5-bf48-bc3860c8d093'",
     "output_type": "error",
     "traceback": [
      "\u001b[0;31m---------------------------------------------------------------------------\u001b[0m",
      "\u001b[0;31mApiError\u001b[0m                                  Traceback (most recent call last)",
      "\u001b[1;32m/home/cwa/venv/soft7/semantic_interop_story/excelparse.ipynb Cell 2'\u001b[0m in \u001b[0;36m<cell line: 19>\u001b[0;34m()\u001b[0m\n\u001b[1;32m     <a href='vscode-notebook-cell://wsl%2Bubuntu/home/cwa/venv/soft7/semantic_interop_story/excelparse.ipynb#ch0000006vscode-remote?line=15'>16</a>\u001b[0m entity \u001b[39m=\u001b[39m DataSourceEntity()\n\u001b[1;32m     <a href='vscode-notebook-cell://wsl%2Bubuntu/home/cwa/venv/soft7/semantic_interop_story/excelparse.ipynb#ch0000006vscode-remote?line=16'>17</a>\u001b[0m \u001b[39m# entity.schema()\u001b[39;00m\n\u001b[1;32m     <a href='vscode-notebook-cell://wsl%2Bubuntu/home/cwa/venv/soft7/semantic_interop_story/excelparse.ipynb#ch0000006vscode-remote?line=17'>18</a>\u001b[0m \u001b[39m# help(entity)\u001b[39;00m\n\u001b[0;32m---> <a href='vscode-notebook-cell://wsl%2Bubuntu/home/cwa/venv/soft7/semantic_interop_story/excelparse.ipynb#ch0000006vscode-remote?line=18'>19</a>\u001b[0m entity\u001b[39m.\u001b[39;49mcasNumber\n",
      "File \u001b[0;32m~/venv/soft7/semantic_interop_story/s7/entitygen.py:144\u001b[0m, in \u001b[0;36m__getattribute\u001b[0;34m(self, name)\u001b[0m\n\u001b[1;32m    <a href='file:///home/cwa/venv/soft7/semantic_interop_story/s7/entitygen.py?line=141'>142</a>\u001b[0m     res \u001b[39m=\u001b[39m \u001b[39mobject\u001b[39m\u001b[39m.\u001b[39m\u001b[39m__getattribute__\u001b[39m(\u001b[39mself\u001b[39m, name)\n\u001b[1;32m    <a href='file:///home/cwa/venv/soft7/semantic_interop_story/s7/entitygen.py?line=142'>143</a>\u001b[0m     \u001b[39mif\u001b[39;00m \u001b[39mnot\u001b[39;00m name\u001b[39m.\u001b[39mstartswith(\u001b[39m\"\u001b[39m\u001b[39m_\u001b[39m\u001b[39m\"\u001b[39m) \u001b[39mand\u001b[39;00m \u001b[39misinstance\u001b[39m(res, FunctionType):\n\u001b[0;32m--> <a href='file:///home/cwa/venv/soft7/semantic_interop_story/s7/entitygen.py?line=143'>144</a>\u001b[0m         \u001b[39mreturn\u001b[39;00m res()\n\u001b[1;32m    <a href='file:///home/cwa/venv/soft7/semantic_interop_story/s7/entitygen.py?line=144'>145</a>\u001b[0m     \u001b[39mreturn\u001b[39;00m res\n\u001b[1;32m    <a href='file:///home/cwa/venv/soft7/semantic_interop_story/s7/entitygen.py?line=145'>146</a>\u001b[0m \u001b[39mexcept\u001b[39;00m \u001b[39mRecursionError\u001b[39;00m:\n",
      "File \u001b[0;32m~/venv/soft7/semantic_interop_story/s7/entitygen.py:197\u001b[0m, in \u001b[0;36mcreate_entity.<locals>.<lambda>\u001b[0;34m()\u001b[0m\n\u001b[1;32m    <a href='file:///home/cwa/venv/soft7/semantic_interop_story/s7/entitygen.py?line=185'>186</a>\u001b[0m \u001b[39mif\u001b[39;00m \u001b[39many\u001b[39m(property_name\u001b[39m.\u001b[39mstartswith(\u001b[39m\"\u001b[39m\u001b[39m_\u001b[39m\u001b[39m\"\u001b[39m) \u001b[39mfor\u001b[39;00m property_name \u001b[39min\u001b[39;00m data_model\u001b[39m.\u001b[39mproperties):\n\u001b[1;32m    <a href='file:///home/cwa/venv/soft7/semantic_interop_story/s7/entitygen.py?line=186'>187</a>\u001b[0m     \u001b[39mraise\u001b[39;00m \u001b[39mValueError\u001b[39;00m(\u001b[39m\"\u001b[39m\u001b[39mdata model property names may not start with an underscore (_)\u001b[39m\u001b[39m\"\u001b[39m)\n\u001b[1;32m    <a href='file:///home/cwa/venv/soft7/semantic_interop_story/s7/entitygen.py?line=188'>189</a>\u001b[0m DataSourceEntity \u001b[39m=\u001b[39m create_model(\n\u001b[1;32m    <a href='file:///home/cwa/venv/soft7/semantic_interop_story/s7/entitygen.py?line=189'>190</a>\u001b[0m     \u001b[39m\"\u001b[39m\u001b[39mDataSourceEntity\u001b[39m\u001b[39m\"\u001b[39m,\n\u001b[1;32m    <a href='file:///home/cwa/venv/soft7/semantic_interop_story/s7/entitygen.py?line=190'>191</a>\u001b[0m     \u001b[39m*\u001b[39m\u001b[39m*\u001b[39m{\n\u001b[1;32m    <a href='file:///home/cwa/venv/soft7/semantic_interop_story/s7/entitygen.py?line=191'>192</a>\u001b[0m         property_name: (\n\u001b[1;32m    <a href='file:///home/cwa/venv/soft7/semantic_interop_story/s7/entitygen.py?line=192'>193</a>\u001b[0m             \u001b[39m# Callable[[], property_value.type_.py_cls],\u001b[39;00m\n\u001b[1;32m    <a href='file:///home/cwa/venv/soft7/semantic_interop_story/s7/entitygen.py?line=193'>194</a>\u001b[0m             property_value\u001b[39m.\u001b[39mtype_\u001b[39m.\u001b[39mpy_cls,\n\u001b[1;32m    <a href='file:///home/cwa/venv/soft7/semantic_interop_story/s7/entitygen.py?line=194'>195</a>\u001b[0m             Field(\n\u001b[1;32m    <a href='file:///home/cwa/venv/soft7/semantic_interop_story/s7/entitygen.py?line=195'>196</a>\u001b[0m                 \u001b[39m# lambda: _get_property(property_name, resource_config),\u001b[39;00m\n\u001b[0;32m--> <a href='file:///home/cwa/venv/soft7/semantic_interop_story/s7/entitygen.py?line=196'>197</a>\u001b[0m                 default_factory\u001b[39m=\u001b[39m\u001b[39mlambda\u001b[39;00m: \u001b[39mlambda\u001b[39;00m: _get_property(property_name, resource_config),\n\u001b[1;32m    <a href='file:///home/cwa/venv/soft7/semantic_interop_story/s7/entitygen.py?line=197'>198</a>\u001b[0m                 description\u001b[39m=\u001b[39mproperty_value\u001b[39m.\u001b[39mdescription \u001b[39mor\u001b[39;00m \u001b[39m\"\u001b[39m\u001b[39m\"\u001b[39m,\n\u001b[1;32m    <a href='file:///home/cwa/venv/soft7/semantic_interop_story/s7/entitygen.py?line=198'>199</a>\u001b[0m                 title\u001b[39m=\u001b[39mproperty_name\u001b[39m.\u001b[39mreplace(\u001b[39m\"\u001b[39m\u001b[39m \u001b[39m\u001b[39m\"\u001b[39m, \u001b[39m\"\u001b[39m\u001b[39m_\u001b[39m\u001b[39m\"\u001b[39m),\n\u001b[1;32m    <a href='file:///home/cwa/venv/soft7/semantic_interop_story/s7/entitygen.py?line=199'>200</a>\u001b[0m                 \u001b[39mtype\u001b[39m\u001b[39m=\u001b[39mproperty_value\u001b[39m.\u001b[39mtype_\u001b[39m.\u001b[39mpy_cls,\n\u001b[1;32m    <a href='file:///home/cwa/venv/soft7/semantic_interop_story/s7/entitygen.py?line=200'>201</a>\u001b[0m             )\n\u001b[1;32m    <a href='file:///home/cwa/venv/soft7/semantic_interop_story/s7/entitygen.py?line=201'>202</a>\u001b[0m         ) \u001b[39mfor\u001b[39;00m property_name, property_value \u001b[39min\u001b[39;00m data_model\u001b[39m.\u001b[39mproperties\u001b[39m.\u001b[39mitems()\n\u001b[1;32m    <a href='file:///home/cwa/venv/soft7/semantic_interop_story/s7/entitygen.py?line=202'>203</a>\u001b[0m     },\n\u001b[1;32m    <a href='file:///home/cwa/venv/soft7/semantic_interop_story/s7/entitygen.py?line=203'>204</a>\u001b[0m     \u001b[39m__module__\u001b[39m \u001b[39m=\u001b[39m \u001b[39m__name__\u001b[39m,\n\u001b[1;32m    <a href='file:///home/cwa/venv/soft7/semantic_interop_story/s7/entitygen.py?line=204'>205</a>\u001b[0m     \u001b[39m# __base__ = DynamicFieldValue,\u001b[39;00m\n\u001b[1;32m    <a href='file:///home/cwa/venv/soft7/semantic_interop_story/s7/entitygen.py?line=205'>206</a>\u001b[0m     __config__ \u001b[39m=\u001b[39m DataSourceEntityConfig,\n\u001b[1;32m    <a href='file:///home/cwa/venv/soft7/semantic_interop_story/s7/entitygen.py?line=206'>207</a>\u001b[0m )\n\u001b[1;32m    <a href='file:///home/cwa/venv/soft7/semantic_interop_story/s7/entitygen.py?line=207'>208</a>\u001b[0m DataSourceEntity\u001b[39m.\u001b[39m\u001b[39m__getattribute__\u001b[39m \u001b[39m=\u001b[39m __getattribute\n\u001b[1;32m    <a href='file:///home/cwa/venv/soft7/semantic_interop_story/s7/entitygen.py?line=208'>209</a>\u001b[0m \u001b[39mreturn\u001b[39;00m DataSourceEntity\n",
      "File \u001b[0;32m~/venv/soft7/semantic_interop_story/s7/entitygen.py:134\u001b[0m, in \u001b[0;36m_get_property\u001b[0;34m(name, config, url)\u001b[0m\n\u001b[1;32m    <a href='file:///home/cwa/venv/soft7/semantic_interop_story/s7/entitygen.py?line=131'>132</a>\u001b[0m client \u001b[39m=\u001b[39m OTEClient(url \u001b[39mor\u001b[39;00m \u001b[39m\"\u001b[39m\u001b[39mhttp://localhost:8080\u001b[39m\u001b[39m\"\u001b[39m)\n\u001b[1;32m    <a href='file:///home/cwa/venv/soft7/semantic_interop_story/s7/entitygen.py?line=132'>133</a>\u001b[0m data_resource \u001b[39m=\u001b[39m client\u001b[39m.\u001b[39mcreate_dataresource(\u001b[39m*\u001b[39m\u001b[39m*\u001b[39mconfig\u001b[39m.\u001b[39mdict())\n\u001b[0;32m--> <a href='file:///home/cwa/venv/soft7/semantic_interop_story/s7/entitygen.py?line=133'>134</a>\u001b[0m result: \u001b[39mdict\u001b[39m[\u001b[39mstr\u001b[39m, Any] \u001b[39m=\u001b[39m json\u001b[39m.\u001b[39mloads(data_resource\u001b[39m.\u001b[39;49mget())\n\u001b[1;32m    <a href='file:///home/cwa/venv/soft7/semantic_interop_story/s7/entitygen.py?line=134'>135</a>\u001b[0m \u001b[39mif\u001b[39;00m name \u001b[39min\u001b[39;00m result:\n\u001b[1;32m    <a href='file:///home/cwa/venv/soft7/semantic_interop_story/s7/entitygen.py?line=135'>136</a>\u001b[0m     \u001b[39mreturn\u001b[39;00m result[name]\n",
      "File \u001b[0;32m~/.virtualenvs/soft7/lib/python3.9/site-packages/otelib/strategies/abc.py:137\u001b[0m, in \u001b[0;36mAbstractStrategy.get\u001b[0;34m(self, session_id)\u001b[0m\n\u001b[1;32m    <a href='file:///home/cwa/.virtualenvs/soft7/lib/python3.9/site-packages/otelib/strategies/abc.py?line=133'>134</a>\u001b[0m \u001b[39mif\u001b[39;00m \u001b[39mself\u001b[39m\u001b[39m.\u001b[39mdebug:\n\u001b[1;32m    <a href='file:///home/cwa/.virtualenvs/soft7/lib/python3.9/site-packages/otelib/strategies/abc.py?line=134'>135</a>\u001b[0m     \u001b[39mself\u001b[39m\u001b[39m.\u001b[39m_session_id \u001b[39m=\u001b[39m session_id\n\u001b[0;32m--> <a href='file:///home/cwa/.virtualenvs/soft7/lib/python3.9/site-packages/otelib/strategies/abc.py?line=136'>137</a>\u001b[0m \u001b[39mself\u001b[39;49m\u001b[39m.\u001b[39;49minitialize(session_id)\n\u001b[1;32m    <a href='file:///home/cwa/.virtualenvs/soft7/lib/python3.9/site-packages/otelib/strategies/abc.py?line=137'>138</a>\u001b[0m \u001b[39mif\u001b[39;00m \u001b[39mself\u001b[39m\u001b[39m.\u001b[39minput_pipe:\n\u001b[1;32m    <a href='file:///home/cwa/.virtualenvs/soft7/lib/python3.9/site-packages/otelib/strategies/abc.py?line=138'>139</a>\u001b[0m     \u001b[39mself\u001b[39m\u001b[39m.\u001b[39minput_pipe\u001b[39m.\u001b[39mget(session_id)\n",
      "File \u001b[0;32m~/.virtualenvs/soft7/lib/python3.9/site-packages/otelib/strategies/dataresource.py:54\u001b[0m, in \u001b[0;36mDataResource.initialize\u001b[0;34m(self, session_id)\u001b[0m\n\u001b[1;32m     <a href='file:///home/cwa/.virtualenvs/soft7/lib/python3.9/site-packages/otelib/strategies/dataresource.py?line=51'>52</a>\u001b[0m \u001b[39mif\u001b[39;00m response\u001b[39m.\u001b[39mok:\n\u001b[1;32m     <a href='file:///home/cwa/.virtualenvs/soft7/lib/python3.9/site-packages/otelib/strategies/dataresource.py?line=52'>53</a>\u001b[0m     \u001b[39mreturn\u001b[39;00m response\u001b[39m.\u001b[39mcontent\n\u001b[0;32m---> <a href='file:///home/cwa/.virtualenvs/soft7/lib/python3.9/site-packages/otelib/strategies/dataresource.py?line=53'>54</a>\u001b[0m \u001b[39mraise\u001b[39;00m ApiError(\n\u001b[1;32m     <a href='file:///home/cwa/.virtualenvs/soft7/lib/python3.9/site-packages/otelib/strategies/dataresource.py?line=54'>55</a>\u001b[0m     \u001b[39mf\u001b[39m\u001b[39m\"\u001b[39m\u001b[39mCannot initialize data resource: session_id=\u001b[39m\u001b[39m{\u001b[39;00msession_id\u001b[39m!r}\u001b[39;00m\u001b[39m \u001b[39m\u001b[39m\"\u001b[39m\n\u001b[1;32m     <a href='file:///home/cwa/.virtualenvs/soft7/lib/python3.9/site-packages/otelib/strategies/dataresource.py?line=55'>56</a>\u001b[0m     \u001b[39mf\u001b[39m\u001b[39m\"\u001b[39m\u001b[39mresource_id=\u001b[39m\u001b[39m{\u001b[39;00m\u001b[39mself\u001b[39m\u001b[39m.\u001b[39mid\u001b[39m!r}\u001b[39;00m\u001b[39m\"\u001b[39m\n\u001b[1;32m     <a href='file:///home/cwa/.virtualenvs/soft7/lib/python3.9/site-packages/otelib/strategies/dataresource.py?line=56'>57</a>\u001b[0m     \u001b[39mf\u001b[39m\u001b[39m\"\u001b[39m\u001b[39m{\u001b[39;00m\u001b[39m'\u001b[39m\u001b[39m content=\u001b[39m\u001b[39m'\u001b[39m \u001b[39m+\u001b[39m \u001b[39mstr\u001b[39m(response\u001b[39m.\u001b[39mcontent) \u001b[39mif\u001b[39;00m \u001b[39mself\u001b[39m\u001b[39m.\u001b[39mdebug \u001b[39melse\u001b[39;00m \u001b[39m'\u001b[39m\u001b[39m'\u001b[39m\u001b[39m}\u001b[39;00m\u001b[39m\"\u001b[39m,\n\u001b[1;32m     <a href='file:///home/cwa/.virtualenvs/soft7/lib/python3.9/site-packages/otelib/strategies/dataresource.py?line=57'>58</a>\u001b[0m     status\u001b[39m=\u001b[39mresponse\u001b[39m.\u001b[39mstatus_code,\n\u001b[1;32m     <a href='file:///home/cwa/.virtualenvs/soft7/lib/python3.9/site-packages/otelib/strategies/dataresource.py?line=58'>59</a>\u001b[0m )\n",
      "\u001b[0;31mApiError\u001b[0m: APIError: status=500 Cannot initialize data resource: session_id='session-97854d2e-ec99-4e82-9e82-677185d4e50f' resource_id='dataresource-e4d5c4b7-431e-41b5-bf48-bc3860c8d093'"
     ]
    }
   ],
   "source": [
    "from pathlib import Path\n",
    "from s7.entitygen import create_entity\n",
    "from s7.models import create_config\n",
    "\n",
    "xls_config = create_config(Path(\".\").resolve() / 'inhibitor_conf.yml')\n",
    "\n",
    "DataSourceEntity = create_entity(\n",
    "    data_model=Path(\".\").resolve() / \"efficiency.yaml\",\n",
    "    resource_config={\n",
    "        \"downloadUrl\": (Path(\".\").resolve() / \"Inhibitor_Data_Analysis_summary.xlsx\").as_uri(),\n",
    "        \"mediaType\": \"application/vnd.openxmlformats-officedocument.spreadsheetml.sheet\",\n",
    "        \"configuration\": xls_config,\n",
    "    },\n",
    ")\n",
    "entity = DataSourceEntity()\n",
    "# entity.schema()\n",
    "# help(entity)\n",
    "entity.casNumber"
   ]
  },
  {
   "cell_type": "code",
   "execution_count": null,
   "id": "f24ea63b-25f3-49cc-8e37-191c7316812d",
   "metadata": {},
   "outputs": [],
   "source": [
    "from s7.graph import Graph\n",
    "g = Graph()\n",
    "d = XLSData()\n",
    "\n",
    "print (d.sampleType)\n",
    "\n",
    "g.append(('entity', 'hasProperty', 'entity:sampleType'))\n",
    "g.append(('entity:sampleType', 'propertyOf', 'entity'))\n",
    "\n",
    "g.append(('entity', 'hasProperty', 'entity:casNumber'))\n",
    "g.append(('entity:casNumber', 'propertyOf', 'entity'))\n",
    "\n",
    "g.append(('entity:sampleType', 'mapsTo', 'ontology:sampleType'))\n",
    "g.append(('entity:sampleType', 'propertyOf', 'entity'))\n",
    "\n",
    "g.append(('ontology:sampleType', 'mapsfrom', 'entity:sampleType'))\n",
    "g.append(('entity:casNumber', 'mapsTo', 'ontology:casNumber'))\n",
    "g.append(('ontology:casNumber', 'mapsFrom', 'entity:casNumber'))\n",
    "g.append(('entity:inhibitorEfficiency', 'mapsTo', 'ontology:inhibitorEfficiency'))\n",
    "g.append(('ontology:inhibitorEfficiency', 'mapsTo', 'entity:inhibitorEfficiency'))\n",
    "\n",
    "g.append(((lambda : d.sampleType), 'executes', 'entity:sampleType'))\n",
    "g.append(((lambda : d.casNumber), 'executes', 'entity:casNumber'))\n",
    "g.append(((lambda : d.inhibitorEfficiency), 'executes', 'entity:inhibitorEfficiency'))\n",
    "\n",
    "# consumer mapping\n",
    "g.append(('consumer:eff', 'mapsTo', 'ontology:inhibitorEfficiency'))\n",
    "g.append(('consumer:cas', 'mapsTo', 'ontology:casNumber'))\n"
   ]
  },
  {
   "cell_type": "code",
   "execution_count": null,
   "id": "0291097e-9c1d-4a1c-bc01-a936a31b09dc",
   "metadata": {},
   "outputs": [],
   "source": [
    "\n",
    "\n",
    "def path(origin, destination, link=None, visited=[]):\n",
    "    if not link:\n",
    "        link = [origin]    \n",
    "    visited.append(origin)\n",
    "    for _, r, o in g.match(origin, None, None):\n",
    "        if not o in visited:\n",
    "            if o == destination:                \n",
    "                return link\n",
    "            else:\n",
    "                link.append(o)            \n",
    "                return path(o, destination, visited)\n",
    "    \n",
    "link = path('consumer:cas', 'entity')\n",
    "print (link)"
   ]
  },
  {
   "cell_type": "code",
   "execution_count": null,
   "id": "7c620eb4-c74d-418c-90f9-ce9b5838a86a",
   "metadata": {},
   "outputs": [],
   "source": [
    "x.impedance"
   ]
  },
  {
   "cell_type": "code",
   "execution_count": null,
   "id": "39987f11-6c9e-442b-960d-5b0b1cf2baa7",
   "metadata": {},
   "outputs": [],
   "source": [
    "import math\n",
    "math.pow(10, x.impedance[0])"
   ]
  },
  {
   "cell_type": "code",
   "execution_count": null,
   "id": "b742ee3a-ce2c-4132-b70e-452e488e4aa5",
   "metadata": {},
   "outputs": [],
   "source": []
  }
 ],
 "metadata": {
  "kernelspec": {
   "display_name": "Python 3 (ipykernel)",
   "language": "python",
   "name": "python3"
  },
  "language_info": {
   "codemirror_mode": {
    "name": "ipython",
    "version": 3
   },
   "file_extension": ".py",
   "mimetype": "text/x-python",
   "name": "python",
   "nbconvert_exporter": "python",
   "pygments_lexer": "ipython3",
   "version": "3.9.12"
  }
 },
 "nbformat": 4,
 "nbformat_minor": 5
}
