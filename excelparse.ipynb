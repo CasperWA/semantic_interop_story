{
 "cells": [
  {
   "cell_type": "code",
   "execution_count": 2,
   "id": "18f833b5-b4f6-4d3c-b5b0-935c23d2c7d1",
   "metadata": {},
   "outputs": [
    {
     "name": "stdout",
     "output_type": "stream",
     "text": [
      "{'sampleType': ['LiCO3', 'LiCO3', 'LiCl', 'LiCl', 'LiCl'], 'casNumber': ['554-13-2', '554-13-2', '7447-41-8', '7447-41-8', '7447-41-8'], 'runID': ['27082021_1mMLiCO3_0.1MNaCl_AA2024_run4', '27082021_1mMLiCO3_0.1MNaCl_AA2024_run5', '11082021_1mMLiCl_0.1MNaCl_AA2024_run1', '11082021_1mMLiCl_0.1MNaCl_AA2024_run2', '11082021_1mMLiCl_0.1MNaCl_AA2024_run3'], 'inhibitorEfficiency': [82.84807910472972, 82.70578220798093, -32.10177835991128, 0.7790838781530862, 31.69712512083033], 'impedance_log_24h': [5.00314131824638, 4.99955315940226, 4.11654541915057, 4.24085085066989, 4.40301509970376], 'impedance_ohm_24h': [100725.93749999841, 99897.1640624986, 13078.123046874862, 17412.08789062481, 25293.859374999603], 'impedance_kohm_24h': [79.06986093749876, 78.4192737890614, 10.266326591796767, 13.668488994140477, 19.85567960937469]}\n"
     ]
    },
    {
     "data": {
      "text/plain": [
       "[82.84807910472972,\n",
       " 82.70578220798093,\n",
       " -32.10177835991128,\n",
       " 0.7790838781530862,\n",
       " 31.69712512083033]"
      ]
     },
     "execution_count": 2,
     "metadata": {},
     "output_type": "execute_result"
    }
   ],
   "source": [
    "from __future__ import annotations\n",
    "from pathlib import Path\n",
    "from s7.models import create_config\n",
    "from s7.xlsparser import XLSParser\n",
    "from s7.classgen import class_factory\n",
    "\n",
    "# Import Configuration\n",
    "xls_config = create_config(Path(\".\").resolve() / 'inhibitor_conf.yml')\n",
    "\n",
    "# Generate Specific Parser from config\n",
    "parser = XLSParser(xls_config)\n",
    "v = parser.get()\n",
    "print(v)\n",
    "\n",
    "# Generate entity (not a S7-model yet...)\n",
    "XLSData = class_factory(\"XLSData\", v)\n",
    "\n",
    "x = XLSData()\n",
    "x.inhibitorEfficiency\n"
   ]
  },
  {
   "cell_type": "code",
   "execution_count": 1,
   "id": "6ce166df",
   "metadata": {},
   "outputs": [
    {
     "name": "stdout",
     "output_type": "stream",
     "text": [
      "['554-13-2', '554-13-2', '7447-41-8', '7447-41-8', '7447-41-8']\n"
     ]
    },
    {
     "data": {
      "text/plain": [
       "{'title': 'DataSourceEntity',\n",
       " 'description': 'Generic Data source entity',\n",
       " 'type': 'object',\n",
       " 'properties': {'sampleType': {'title': 'sampleType',\n",
       "   'description': 'Molecule name',\n",
       "   'type': 'string'},\n",
       "  'casNumber': {'title': 'casNumber',\n",
       "   'description': 'CAS number',\n",
       "   'type': 'string'},\n",
       "  'runID': {'title': 'runID',\n",
       "   'description': 'Experiment identification',\n",
       "   'type': 'string'},\n",
       "  'inhibitorEfficiency': {'title': 'inhibitorEfficiency',\n",
       "   'description': 'EIS 24h',\n",
       "   'type': 'number'},\n",
       "  'impedance_log_24h': {'title': 'impedance_log_24h',\n",
       "   'description': 'Impedance Log (24h)',\n",
       "   'type': 'number'},\n",
       "  'impedance_ohm_24h': {'title': 'impedance_ohm_24h',\n",
       "   'description': 'Impedance Ohm (24h)',\n",
       "   'type': 'number'},\n",
       "  'impedance_kohm_24h': {'title': 'impedance_kohm_24h',\n",
       "   'description': 'Impedance kOhm (24h)',\n",
       "   'type': 'number'}},\n",
       " 'additionalProperties': False}"
      ]
     },
     "execution_count": 1,
     "metadata": {},
     "output_type": "execute_result"
    }
   ],
   "source": [
    "from pathlib import Path\n",
    "# from s7.entitygen import create_entity\n",
    "from s7.entitygen_simple import create_entity\n",
    "from s7.models import create_config\n",
    "\n",
    "xls_config = create_config(Path(\".\").resolve() / 'inhibitor_conf.yml')\n",
    "\n",
    "DataSourceEntity = create_entity(\n",
    "    data_model=Path(\".\").resolve() / \"efficiency.yaml\",\n",
    "    resource_config={\n",
    "        \"downloadUrl\": (Path(\".\").resolve() / \"Inhibitor_Data_Analysis_summary.xlsx\").as_uri(),\n",
    "        \"mediaType\": \"application/vnd.openxmlformats-officedocument.spreadsheetml.sheet\",\n",
    "        \"configuration\": xls_config,\n",
    "    },\n",
    ")\n",
    "entity = DataSourceEntity()\n",
    "print(entity.casNumber)\n",
    "entity.schema()\n",
    "\n",
    "# function_mapping = {\n",
    "#     # Specific doubles, based on graph traversal back to inner entity's inhibitorEfficiency - through a generic \"doubles\" function: f(x)=2*x\n",
    "#     \"doubles\": lambda: [_ * 2 for _ in entity.inhibitorEfficiency],\n",
    "# }\n",
    "\n",
    "# lambda prop: getattr(entity, prop, None)"
   ]
  },
  {
   "cell_type": "code",
   "execution_count": 3,
   "id": "03da3b56",
   "metadata": {},
   "outputs": [
    {
     "name": "stdout",
     "output_type": "stream",
     "text": [
      "['EISEfficiency', 'imp_to_flux', 'ImpedanceOhm']\n"
     ]
    }
   ],
   "source": [
    "from s7.graph import Graph\n",
    "\n",
    "graph_mapping = [\n",
    "    # (\"properties.SMILES\", \"mapsTo\", \"SMILES\"),\n",
    "    # (\"properties.inhibitorEfficiency\", \"mapsTo\", \"EISEfficiency\"),\n",
    "    # (\"data.casNumber\", \"mapsTo\", \"CAS#\"),\n",
    "    # (\"data.inhibitorEfficiency\", \"mapsTo\", \"ImpedanceOhm\"),\n",
    "    (\"imp_to_flux\", \"expects\", \"ImpedanceOhm\"),\n",
    "    (\"imp_to_flux\", \"outputs\", \"EISEfficiency\"),\n",
    "    (\"imp_to_flux\", \"isA\", \"function\"),\n",
    "    (\"ImpedanceOhm\", \"isA\", \"Resistance\"),\n",
    "    (\"ImpedanceLogOhm\", \"isA\", \"Resistance\"),\n",
    "    (\"EISEfficiency\", \"isA\", \"InhibitorEfficiency\"),\n",
    "    (\"LPREfficiency\", \"isA\", \"InhibitorEfficiency\"),\n",
    "    (\"Resistance\", \"isA\", \"Parameter\"),\n",
    "    (\"InhibitorEfficiency\", \"isA\", \"Output\"),\n",
    "    # (\"function\", \"hasMethod\", \"execute\"),\n",
    "    (\"cas_to_smiles\", \"isA\", \"function\"),\n",
    "    (\"cas_to_smiles\", \"expects\", \"CAS#\"),\n",
    "    (\"cas_to_smiles\", \"outputs\", \"SMILES\"),\n",
    "\n",
    "    # Generated in `create_outer_entity()`:\n",
    "    # (\"imp_to_flux\", \"executes\", lambda: ...)\n",
    "    # (\"cas_to_smiles\", \"executes\", lambda: ...)\n",
    "]\n",
    "graph = Graph(graph_mapping)\n",
    "graph.plot()\n",
    "for _ in graph.recur_find(\"EISEfficiency\", \"ImpedanceOhm\"):\n",
    "    print(_)\n",
    "# graph.path(\"SMILES\", \"CAS#\")\n"
   ]
  },
  {
   "cell_type": "code",
   "execution_count": 2,
   "id": "23116d44",
   "metadata": {},
   "outputs": [
    {
     "data": {
      "image/svg+xml": "<?xml version=\"1.0\" encoding=\"UTF-8\" standalone=\"no\"?>\n<!DOCTYPE svg PUBLIC \"-//W3C//DTD SVG 1.1//EN\"\n \"http://www.w3.org/Graphics/SVG/1.1/DTD/svg11.dtd\">\n<!-- Generated by graphviz version 2.43.0 (0)\n -->\n<!-- Title: %3 Pages: 1 -->\n<svg width=\"4580pt\" height=\"392pt\"\n viewBox=\"0.00 0.00 4580.23 392.00\" xmlns=\"http://www.w3.org/2000/svg\" xmlns:xlink=\"http://www.w3.org/1999/xlink\">\n<g id=\"graph0\" class=\"graph\" transform=\"scale(1 1) rotate(0) translate(4 388)\">\n<title>%3</title>\n<polygon fill=\"white\" stroke=\"transparent\" points=\"-4,4 -4,-388 4576.23,-388 4576.23,4 -4,4\"/>\n<!-- inner -->\n<g id=\"node1\" class=\"node\">\n<title>inner</title>\n<ellipse fill=\"none\" stroke=\"black\" cx=\"1528.39\" cy=\"-366\" rx=\"35.19\" ry=\"18\"/>\n<text text-anchor=\"middle\" x=\"1528.39\" y=\"-362.3\" font-family=\"Times,serif\" font-size=\"14.00\">inner</text>\n</g>\n<!-- DataSourceEntity -->\n<g id=\"node2\" class=\"node\">\n<title>DataSourceEntity</title>\n<ellipse fill=\"none\" stroke=\"black\" cx=\"479.39\" cy=\"-279\" rx=\"93.68\" ry=\"18\"/>\n<text text-anchor=\"middle\" x=\"479.39\" y=\"-275.3\" font-family=\"Times,serif\" font-size=\"14.00\">DataSourceEntity</text>\n</g>\n<!-- inner&#45;&gt;DataSourceEntity -->\n<g id=\"edge1\" class=\"edge\">\n<title>inner&#45;&gt;DataSourceEntity</title>\n<path fill=\"none\" stroke=\"black\" d=\"M1493.47,-362.75C1373.76,-354.96 969.03,-327.87 635.39,-297 613.4,-294.96 589.69,-292.51 567.55,-290.11\"/>\n<polygon fill=\"black\" stroke=\"black\" points=\"567.83,-286.62 557.5,-289.02 567.07,-293.58 567.83,-286.62\"/>\n<text text-anchor=\"middle\" x=\"1038.39\" y=\"-318.8\" font-family=\"Times,serif\" font-size=\"14.00\">isA</text>\n</g>\n<!-- inner.casNumber -->\n<g id=\"node10\" class=\"node\">\n<title>inner.casNumber</title>\n<ellipse fill=\"none\" stroke=\"black\" cx=\"1191.39\" cy=\"-279\" rx=\"90.18\" ry=\"18\"/>\n<text text-anchor=\"middle\" x=\"1191.39\" y=\"-275.3\" font-family=\"Times,serif\" font-size=\"14.00\">inner.casNumber</text>\n</g>\n<!-- inner&#45;&gt;inner.casNumber -->\n<g id=\"edge8\" class=\"edge\">\n<title>inner&#45;&gt;inner.casNumber</title>\n<path fill=\"none\" stroke=\"black\" d=\"M1497.59,-357.23C1442.81,-343.41 1327.41,-314.31 1254.97,-296.04\"/>\n<polygon fill=\"black\" stroke=\"black\" points=\"1255.6,-292.58 1245.05,-293.53 1253.89,-299.37 1255.6,-292.58\"/>\n<text text-anchor=\"middle\" x=\"1423.39\" y=\"-318.8\" font-family=\"Times,serif\" font-size=\"14.00\">hasProperty</text>\n</g>\n<!-- inner.impedance_ohm_24h -->\n<g id=\"node13\" class=\"node\">\n<title>inner.impedance_ohm_24h</title>\n<ellipse fill=\"none\" stroke=\"black\" cx=\"1865.39\" cy=\"-279\" rx=\"133.78\" ry=\"18\"/>\n<text text-anchor=\"middle\" x=\"1865.39\" y=\"-275.3\" font-family=\"Times,serif\" font-size=\"14.00\">inner.impedance_ohm_24h</text>\n</g>\n<!-- inner&#45;&gt;inner.impedance_ohm_24h -->\n<g id=\"edge11\" class=\"edge\">\n<title>inner&#45;&gt;inner.impedance_ohm_24h</title>\n<path fill=\"none\" stroke=\"black\" d=\"M1559.19,-357.23C1612.34,-343.83 1722.57,-316.02 1795.24,-297.69\"/>\n<polygon fill=\"black\" stroke=\"black\" points=\"1796.39,-301.01 1805.23,-295.17 1794.68,-294.23 1796.39,-301.01\"/>\n<text text-anchor=\"middle\" x=\"1760.39\" y=\"-318.8\" font-family=\"Times,serif\" font-size=\"14.00\">hasProperty</text>\n</g>\n<!-- inner.impedance_log_24h -->\n<g id=\"node16\" class=\"node\">\n<title>inner.impedance_log_24h</title>\n<ellipse fill=\"none\" stroke=\"black\" cx=\"3407.39\" cy=\"-279\" rx=\"128.08\" ry=\"18\"/>\n<text text-anchor=\"middle\" x=\"3407.39\" y=\"-275.3\" font-family=\"Times,serif\" font-size=\"14.00\">inner.impedance_log_24h</text>\n</g>\n<!-- inner&#45;&gt;inner.impedance_log_24h -->\n<g id=\"edge14\" class=\"edge\">\n<title>inner&#45;&gt;inner.impedance_log_24h</title>\n<path fill=\"none\" stroke=\"black\" d=\"M1563.43,-363.42C1775.69,-353.81 2893.3,-303.26 3277.52,-285.87\"/>\n<polygon fill=\"black\" stroke=\"black\" points=\"3277.74,-289.37 3287.57,-285.42 3277.42,-282.38 3277.74,-289.37\"/>\n<text text-anchor=\"middle\" x=\"2623.39\" y=\"-318.8\" font-family=\"Times,serif\" font-size=\"14.00\">hasProperty</text>\n</g>\n<!-- SOFT7DataEntity -->\n<g id=\"node5\" class=\"node\">\n<title>SOFT7DataEntity</title>\n<ellipse fill=\"none\" stroke=\"black\" cx=\"235.39\" cy=\"-192\" rx=\"92.88\" ry=\"18\"/>\n<text text-anchor=\"middle\" x=\"235.39\" y=\"-188.3\" font-family=\"Times,serif\" font-size=\"14.00\">SOFT7DataEntity</text>\n</g>\n<!-- DataSourceEntity&#45;&gt;SOFT7DataEntity -->\n<g id=\"edge3\" class=\"edge\">\n<title>DataSourceEntity&#45;&gt;SOFT7DataEntity</title>\n<path fill=\"none\" stroke=\"black\" d=\"M436.33,-263C394.91,-248.57 332.21,-226.73 287.88,-211.28\"/>\n<polygon fill=\"black\" stroke=\"black\" points=\"289.03,-207.98 278.43,-207.99 286.73,-214.59 289.03,-207.98\"/>\n<text text-anchor=\"middle\" x=\"383.39\" y=\"-231.8\" font-family=\"Times,serif\" font-size=\"14.00\">isA</text>\n</g>\n<!-- outer -->\n<g id=\"node3\" class=\"node\">\n<title>outer</title>\n<ellipse fill=\"none\" stroke=\"black\" cx=\"235.39\" cy=\"-366\" rx=\"36\" ry=\"18\"/>\n<text text-anchor=\"middle\" x=\"235.39\" y=\"-362.3\" font-family=\"Times,serif\" font-size=\"14.00\">outer</text>\n</g>\n<!-- OuterEntity -->\n<g id=\"node4\" class=\"node\">\n<title>OuterEntity</title>\n<ellipse fill=\"none\" stroke=\"black\" cx=\"235.39\" cy=\"-279\" rx=\"66.09\" ry=\"18\"/>\n<text text-anchor=\"middle\" x=\"235.39\" y=\"-275.3\" font-family=\"Times,serif\" font-size=\"14.00\">OuterEntity</text>\n</g>\n<!-- outer&#45;&gt;OuterEntity -->\n<g id=\"edge2\" class=\"edge\">\n<title>outer&#45;&gt;OuterEntity</title>\n<path fill=\"none\" stroke=\"black\" d=\"M235.39,-347.8C235.39,-336.16 235.39,-320.55 235.39,-307.24\"/>\n<polygon fill=\"black\" stroke=\"black\" points=\"238.89,-307.18 235.39,-297.18 231.89,-307.18 238.89,-307.18\"/>\n<text text-anchor=\"middle\" x=\"246.39\" y=\"-318.8\" font-family=\"Times,serif\" font-size=\"14.00\">isA</text>\n</g>\n<!-- OuterEntity&#45;&gt;SOFT7DataEntity -->\n<g id=\"edge4\" class=\"edge\">\n<title>OuterEntity&#45;&gt;SOFT7DataEntity</title>\n<path fill=\"none\" stroke=\"black\" d=\"M235.39,-260.8C235.39,-249.16 235.39,-233.55 235.39,-220.24\"/>\n<polygon fill=\"black\" stroke=\"black\" points=\"238.89,-220.18 235.39,-210.18 231.89,-220.18 238.89,-220.18\"/>\n<text text-anchor=\"middle\" x=\"246.39\" y=\"-231.8\" font-family=\"Times,serif\" font-size=\"14.00\">isA</text>\n</g>\n<!-- outer.SMILES -->\n<g id=\"node6\" class=\"node\">\n<title>outer.SMILES</title>\n<ellipse fill=\"none\" stroke=\"black\" cx=\"75.39\" cy=\"-279\" rx=\"75.29\" ry=\"18\"/>\n<text text-anchor=\"middle\" x=\"75.39\" y=\"-275.3\" font-family=\"Times,serif\" font-size=\"14.00\">outer.SMILES</text>\n</g>\n<!-- SMILES -->\n<g id=\"node7\" class=\"node\">\n<title>SMILES</title>\n<ellipse fill=\"none\" stroke=\"black\" cx=\"75.39\" cy=\"-192\" rx=\"48.99\" ry=\"18\"/>\n<text text-anchor=\"middle\" x=\"75.39\" y=\"-188.3\" font-family=\"Times,serif\" font-size=\"14.00\">SMILES</text>\n</g>\n<!-- outer.SMILES&#45;&gt;SMILES -->\n<g id=\"edge5\" class=\"edge\">\n<title>outer.SMILES&#45;&gt;SMILES</title>\n<path fill=\"none\" stroke=\"black\" d=\"M75.39,-260.8C75.39,-249.16 75.39,-233.55 75.39,-220.24\"/>\n<polygon fill=\"black\" stroke=\"black\" points=\"78.89,-220.18 75.39,-210.18 71.89,-220.18 78.89,-220.18\"/>\n<text text-anchor=\"middle\" x=\"102.89\" y=\"-231.8\" font-family=\"Times,serif\" font-size=\"14.00\">mapsTo</text>\n</g>\n<!-- outer.inhibitorEfficiency -->\n<g id=\"node8\" class=\"node\">\n<title>outer.inhibitorEfficiency</title>\n<ellipse fill=\"none\" stroke=\"black\" cx=\"4449.39\" cy=\"-279\" rx=\"122.68\" ry=\"18\"/>\n<text text-anchor=\"middle\" x=\"4449.39\" y=\"-275.3\" font-family=\"Times,serif\" font-size=\"14.00\">outer.inhibitorEfficiency</text>\n</g>\n<!-- LPREfficiency -->\n<g id=\"node9\" class=\"node\">\n<title>LPREfficiency</title>\n<ellipse fill=\"none\" stroke=\"black\" cx=\"4449.39\" cy=\"-192\" rx=\"75.29\" ry=\"18\"/>\n<text text-anchor=\"middle\" x=\"4449.39\" y=\"-188.3\" font-family=\"Times,serif\" font-size=\"14.00\">LPREfficiency</text>\n</g>\n<!-- outer.inhibitorEfficiency&#45;&gt;LPREfficiency -->\n<g id=\"edge6\" class=\"edge\">\n<title>outer.inhibitorEfficiency&#45;&gt;LPREfficiency</title>\n<path fill=\"none\" stroke=\"black\" d=\"M4449.39,-260.8C4449.39,-249.16 4449.39,-233.55 4449.39,-220.24\"/>\n<polygon fill=\"black\" stroke=\"black\" points=\"4452.89,-220.18 4449.39,-210.18 4445.89,-220.18 4452.89,-220.18\"/>\n<text text-anchor=\"middle\" x=\"4476.89\" y=\"-231.8\" font-family=\"Times,serif\" font-size=\"14.00\">mapsTo</text>\n</g>\n<!-- InhibitorEfficiency -->\n<g id=\"node24\" class=\"node\">\n<title>InhibitorEfficiency</title>\n<ellipse fill=\"none\" stroke=\"black\" cx=\"3573.39\" cy=\"-105\" rx=\"96.68\" ry=\"18\"/>\n<text text-anchor=\"middle\" x=\"3573.39\" y=\"-101.3\" font-family=\"Times,serif\" font-size=\"14.00\">InhibitorEfficiency</text>\n</g>\n<!-- LPREfficiency&#45;&gt;InhibitorEfficiency -->\n<g id=\"edge25\" class=\"edge\">\n<title>LPREfficiency&#45;&gt;InhibitorEfficiency</title>\n<path fill=\"none\" stroke=\"black\" d=\"M4395.78,-179.2C4385.72,-177.26 4375.26,-175.42 4365.39,-174 4119.35,-138.66 3827.48,-119.39 3676.06,-111.07\"/>\n<polygon fill=\"black\" stroke=\"black\" points=\"3676.02,-107.56 3665.85,-110.51 3675.64,-114.55 3676.02,-107.56\"/>\n<text text-anchor=\"middle\" x=\"4225.39\" y=\"-144.8\" font-family=\"Times,serif\" font-size=\"14.00\">isA</text>\n</g>\n<!-- CAS# -->\n<g id=\"node11\" class=\"node\">\n<title>CAS#</title>\n<ellipse fill=\"none\" stroke=\"black\" cx=\"808.39\" cy=\"-192\" rx=\"38.19\" ry=\"18\"/>\n<text text-anchor=\"middle\" x=\"808.39\" y=\"-188.3\" font-family=\"Times,serif\" font-size=\"14.00\">CAS#</text>\n</g>\n<!-- inner.casNumber&#45;&gt;CAS# -->\n<g id=\"edge7\" class=\"edge\">\n<title>inner.casNumber&#45;&gt;CAS#</title>\n<path fill=\"none\" stroke=\"black\" d=\"M1122.8,-267.17C1054.4,-255.66 946.65,-235.59 855.39,-210 852.48,-209.18 849.49,-208.27 846.49,-207.31\"/>\n<polygon fill=\"black\" stroke=\"black\" points=\"847.6,-203.99 837.01,-204.11 845.36,-210.62 847.6,-203.99\"/>\n<text text-anchor=\"middle\" x=\"1020.89\" y=\"-231.8\" font-family=\"Times,serif\" font-size=\"14.00\">mapsTo</text>\n</g>\n<!-- function create_outer_entity.&lt;locals&gt;.&lt;lambda&gt; at 0x7f5f457221f0 -->\n<g id=\"node12\" class=\"node\">\n<title>function create_outer_entity.&lt;locals&gt;.&lt;lambda&gt; at 0x7f5f457221f0</title>\n<ellipse fill=\"none\" stroke=\"black\" cx=\"1191.39\" cy=\"-192\" rx=\"326.84\" ry=\"18\"/>\n<text text-anchor=\"middle\" x=\"1191.39\" y=\"-188.3\" font-family=\"Times,serif\" font-size=\"14.00\">function create_outer_entity.&lt;locals&gt;.&lt;lambda&gt; at 0x7f5f457221f0</text>\n</g>\n<!-- inner.casNumber&#45;&gt;function create_outer_entity.&lt;locals&gt;.&lt;lambda&gt; at 0x7f5f457221f0 -->\n<g id=\"edge9\" class=\"edge\">\n<title>inner.casNumber&#45;&gt;function create_outer_entity.&lt;locals&gt;.&lt;lambda&gt; at 0x7f5f457221f0</title>\n<path fill=\"none\" stroke=\"black\" d=\"M1191.39,-260.8C1191.39,-249.16 1191.39,-233.55 1191.39,-220.24\"/>\n<polygon fill=\"black\" stroke=\"black\" points=\"1194.89,-220.18 1191.39,-210.18 1187.89,-220.18 1194.89,-220.18\"/>\n<text text-anchor=\"middle\" x=\"1203.39\" y=\"-231.8\" font-family=\"Times,serif\" font-size=\"14.00\">get</text>\n</g>\n<!-- ImpedanceOhm -->\n<g id=\"node14\" class=\"node\">\n<title>ImpedanceOhm</title>\n<ellipse fill=\"none\" stroke=\"black\" cx=\"2296.39\" cy=\"-192\" rx=\"83.39\" ry=\"18\"/>\n<text text-anchor=\"middle\" x=\"2296.39\" y=\"-188.3\" font-family=\"Times,serif\" font-size=\"14.00\">ImpedanceOhm</text>\n</g>\n<!-- inner.impedance_ohm_24h&#45;&gt;ImpedanceOhm -->\n<g id=\"edge10\" class=\"edge\">\n<title>inner.impedance_ohm_24h&#45;&gt;ImpedanceOhm</title>\n<path fill=\"none\" stroke=\"black\" d=\"M1937.53,-263.77C2018.2,-247.86 2147.9,-222.28 2227.3,-206.63\"/>\n<polygon fill=\"black\" stroke=\"black\" points=\"2228.07,-210.04 2237.21,-204.67 2226.72,-203.17 2228.07,-210.04\"/>\n<text text-anchor=\"middle\" x=\"2133.89\" y=\"-231.8\" font-family=\"Times,serif\" font-size=\"14.00\">mapsTo</text>\n</g>\n<!-- function create_outer_entity.&lt;locals&gt;.&lt;lambda&gt; at 0x7f5f45722280 -->\n<g id=\"node15\" class=\"node\">\n<title>function create_outer_entity.&lt;locals&gt;.&lt;lambda&gt; at 0x7f5f45722280</title>\n<ellipse fill=\"none\" stroke=\"black\" cx=\"1865.39\" cy=\"-192\" rx=\"329.54\" ry=\"18\"/>\n<text text-anchor=\"middle\" x=\"1865.39\" y=\"-188.3\" font-family=\"Times,serif\" font-size=\"14.00\">function create_outer_entity.&lt;locals&gt;.&lt;lambda&gt; at 0x7f5f45722280</text>\n</g>\n<!-- inner.impedance_ohm_24h&#45;&gt;function create_outer_entity.&lt;locals&gt;.&lt;lambda&gt; at 0x7f5f45722280 -->\n<g id=\"edge12\" class=\"edge\">\n<title>inner.impedance_ohm_24h&#45;&gt;function create_outer_entity.&lt;locals&gt;.&lt;lambda&gt; at 0x7f5f45722280</title>\n<path fill=\"none\" stroke=\"black\" d=\"M1865.39,-260.8C1865.39,-249.16 1865.39,-233.55 1865.39,-220.24\"/>\n<polygon fill=\"black\" stroke=\"black\" points=\"1868.89,-220.18 1865.39,-210.18 1861.89,-220.18 1868.89,-220.18\"/>\n<text text-anchor=\"middle\" x=\"1877.39\" y=\"-231.8\" font-family=\"Times,serif\" font-size=\"14.00\">get</text>\n</g>\n<!-- Resistance -->\n<g id=\"node23\" class=\"node\">\n<title>Resistance</title>\n<ellipse fill=\"none\" stroke=\"black\" cx=\"3268.39\" cy=\"-105\" rx=\"61.19\" ry=\"18\"/>\n<text text-anchor=\"middle\" x=\"3268.39\" y=\"-101.3\" font-family=\"Times,serif\" font-size=\"14.00\">Resistance</text>\n</g>\n<!-- ImpedanceOhm&#45;&gt;Resistance -->\n<g id=\"edge22\" class=\"edge\">\n<title>ImpedanceOhm&#45;&gt;Resistance</title>\n<path fill=\"none\" stroke=\"black\" d=\"M2355.14,-179.19C2366.16,-177.25 2377.6,-175.41 2388.39,-174 2688.12,-134.84 3048.45,-115.65 3198.01,-108.91\"/>\n<polygon fill=\"black\" stroke=\"black\" points=\"3198.58,-112.39 3208.42,-108.45 3198.27,-105.4 3198.58,-112.39\"/>\n<text text-anchor=\"middle\" x=\"2688.39\" y=\"-144.8\" font-family=\"Times,serif\" font-size=\"14.00\">isA</text>\n</g>\n<!-- ImpedanceLogOhm -->\n<g id=\"node17\" class=\"node\">\n<title>ImpedanceLogOhm</title>\n<ellipse fill=\"none\" stroke=\"black\" cx=\"3855.39\" cy=\"-192\" rx=\"100.98\" ry=\"18\"/>\n<text text-anchor=\"middle\" x=\"3855.39\" y=\"-188.3\" font-family=\"Times,serif\" font-size=\"14.00\">ImpedanceLogOhm</text>\n</g>\n<!-- inner.impedance_log_24h&#45;&gt;ImpedanceLogOhm -->\n<g id=\"edge13\" class=\"edge\">\n<title>inner.impedance_log_24h&#45;&gt;ImpedanceLogOhm</title>\n<path fill=\"none\" stroke=\"black\" d=\"M3480.37,-264.15C3562.57,-248.56 3695.55,-223.33 3779.09,-207.48\"/>\n<polygon fill=\"black\" stroke=\"black\" points=\"3779.86,-210.89 3789.03,-205.59 3778.55,-204.02 3779.86,-210.89\"/>\n<text text-anchor=\"middle\" x=\"3684.89\" y=\"-231.8\" font-family=\"Times,serif\" font-size=\"14.00\">mapsTo</text>\n</g>\n<!-- function create_outer_entity.&lt;locals&gt;.&lt;lambda&gt; at 0x7f5f45722310 -->\n<g id=\"node18\" class=\"node\">\n<title>function create_outer_entity.&lt;locals&gt;.&lt;lambda&gt; at 0x7f5f45722310</title>\n<ellipse fill=\"none\" stroke=\"black\" cx=\"3407.39\" cy=\"-192\" rx=\"329.54\" ry=\"18\"/>\n<text text-anchor=\"middle\" x=\"3407.39\" y=\"-188.3\" font-family=\"Times,serif\" font-size=\"14.00\">function create_outer_entity.&lt;locals&gt;.&lt;lambda&gt; at 0x7f5f45722310</text>\n</g>\n<!-- inner.impedance_log_24h&#45;&gt;function create_outer_entity.&lt;locals&gt;.&lt;lambda&gt; at 0x7f5f45722310 -->\n<g id=\"edge15\" class=\"edge\">\n<title>inner.impedance_log_24h&#45;&gt;function create_outer_entity.&lt;locals&gt;.&lt;lambda&gt; at 0x7f5f45722310</title>\n<path fill=\"none\" stroke=\"black\" d=\"M3407.39,-260.8C3407.39,-249.16 3407.39,-233.55 3407.39,-220.24\"/>\n<polygon fill=\"black\" stroke=\"black\" points=\"3410.89,-220.18 3407.39,-210.18 3403.89,-220.18 3410.89,-220.18\"/>\n<text text-anchor=\"middle\" x=\"3419.39\" y=\"-231.8\" font-family=\"Times,serif\" font-size=\"14.00\">get</text>\n</g>\n<!-- ImpedanceLogOhm&#45;&gt;Resistance -->\n<g id=\"edge23\" class=\"edge\">\n<title>ImpedanceLogOhm&#45;&gt;Resistance</title>\n<path fill=\"none\" stroke=\"black\" d=\"M3782.71,-179.53C3770.59,-177.65 3758.14,-175.75 3746.39,-174 3598.36,-151.93 3424.29,-127.56 3332.52,-114.84\"/>\n<polygon fill=\"black\" stroke=\"black\" points=\"3332.94,-111.37 3322.55,-113.46 3331.97,-118.3 3332.94,-111.37\"/>\n<text text-anchor=\"middle\" x=\"3625.39\" y=\"-144.8\" font-family=\"Times,serif\" font-size=\"14.00\">isA</text>\n</g>\n<!-- imp_to_eis -->\n<g id=\"node19\" class=\"node\">\n<title>imp_to_eis</title>\n<ellipse fill=\"none\" stroke=\"black\" cx=\"2575.39\" cy=\"-279\" rx=\"59.59\" ry=\"18\"/>\n<text text-anchor=\"middle\" x=\"2575.39\" y=\"-275.3\" font-family=\"Times,serif\" font-size=\"14.00\">imp_to_eis</text>\n</g>\n<!-- imp_to_eis&#45;&gt;ImpedanceOhm -->\n<g id=\"edge17\" class=\"edge\">\n<title>imp_to_eis&#45;&gt;ImpedanceOhm</title>\n<path fill=\"none\" stroke=\"black\" d=\"M2530.58,-266.93C2504.93,-260.39 2472.22,-251.71 2443.39,-243 2411.08,-233.23 2375.2,-221.06 2346.98,-211.16\"/>\n<polygon fill=\"black\" stroke=\"black\" points=\"2347.93,-207.79 2337.34,-207.77 2345.61,-214.39 2347.93,-207.79\"/>\n<text text-anchor=\"middle\" x=\"2470.89\" y=\"-231.8\" font-family=\"Times,serif\" font-size=\"14.00\">expects</text>\n</g>\n<!-- function -->\n<g id=\"node20\" class=\"node\">\n<title>function</title>\n<ellipse fill=\"none\" stroke=\"black\" cx=\"2446.39\" cy=\"-192\" rx=\"48.99\" ry=\"18\"/>\n<text text-anchor=\"middle\" x=\"2446.39\" y=\"-188.3\" font-family=\"Times,serif\" font-size=\"14.00\">function</text>\n</g>\n<!-- imp_to_eis&#45;&gt;function -->\n<g id=\"edge16\" class=\"edge\">\n<title>imp_to_eis&#45;&gt;function</title>\n<path fill=\"none\" stroke=\"black\" d=\"M2551.73,-262.41C2531.06,-248.79 2500.87,-228.89 2478.1,-213.89\"/>\n<polygon fill=\"black\" stroke=\"black\" points=\"2479.75,-210.79 2469.47,-208.21 2475.89,-216.63 2479.75,-210.79\"/>\n<text text-anchor=\"middle\" x=\"2529.39\" y=\"-231.8\" font-family=\"Times,serif\" font-size=\"14.00\">isA</text>\n</g>\n<!-- EISEfficiency -->\n<g id=\"node21\" class=\"node\">\n<title>EISEfficiency</title>\n<ellipse fill=\"none\" stroke=\"black\" cx=\"2987.39\" cy=\"-192\" rx=\"72.59\" ry=\"18\"/>\n<text text-anchor=\"middle\" x=\"2987.39\" y=\"-188.3\" font-family=\"Times,serif\" font-size=\"14.00\">EISEfficiency</text>\n</g>\n<!-- imp_to_eis&#45;&gt;EISEfficiency -->\n<g id=\"edge18\" class=\"edge\">\n<title>imp_to_eis&#45;&gt;EISEfficiency</title>\n<path fill=\"none\" stroke=\"black\" d=\"M2623.22,-268.16C2687.41,-254.96 2805,-230.75 2905.39,-210 2911.23,-208.79 2917.3,-207.54 2923.38,-206.28\"/>\n<polygon fill=\"black\" stroke=\"black\" points=\"2924.5,-209.62 2933.58,-204.17 2923.08,-202.77 2924.5,-209.62\"/>\n<text text-anchor=\"middle\" x=\"2841.89\" y=\"-231.8\" font-family=\"Times,serif\" font-size=\"14.00\">outputs</text>\n</g>\n<!-- function imp_to_eis at 0x7f5f4594e9d0 -->\n<g id=\"node28\" class=\"node\">\n<title>function imp_to_eis at 0x7f5f4594e9d0</title>\n<ellipse fill=\"none\" stroke=\"black\" cx=\"2704.39\" cy=\"-192\" rx=\"191.97\" ry=\"18\"/>\n<text text-anchor=\"middle\" x=\"2704.39\" y=\"-188.3\" font-family=\"Times,serif\" font-size=\"14.00\">function imp_to_eis at 0x7f5f4594e9d0</text>\n</g>\n<!-- imp_to_eis&#45;&gt;function imp_to_eis at 0x7f5f4594e9d0 -->\n<g id=\"edge31\" class=\"edge\">\n<title>imp_to_eis&#45;&gt;function imp_to_eis at 0x7f5f4594e9d0</title>\n<path fill=\"none\" stroke=\"black\" d=\"M2606.64,-263.65C2618.46,-257.78 2631.85,-250.58 2643.39,-243 2655.23,-235.23 2667.45,-225.58 2677.82,-216.84\"/>\n<polygon fill=\"black\" stroke=\"black\" points=\"2680.38,-219.25 2685.69,-210.08 2675.82,-213.94 2680.38,-219.25\"/>\n<text text-anchor=\"middle\" x=\"2694.39\" y=\"-231.8\" font-family=\"Times,serif\" font-size=\"14.00\">executes</text>\n</g>\n<!-- EISEfficiency&#45;&gt;InhibitorEfficiency -->\n<g id=\"edge24\" class=\"edge\">\n<title>EISEfficiency&#45;&gt;InhibitorEfficiency</title>\n<path fill=\"none\" stroke=\"black\" d=\"M3040.01,-179.38C3049.44,-177.46 3059.19,-175.58 3068.39,-174 3212.53,-149.2 3381.11,-128.08 3482.45,-116.22\"/>\n<polygon fill=\"black\" stroke=\"black\" points=\"3483.12,-119.66 3492.65,-115.03 3482.31,-112.71 3483.12,-119.66\"/>\n<text text-anchor=\"middle\" x=\"3286.39\" y=\"-144.8\" font-family=\"Times,serif\" font-size=\"14.00\">isA</text>\n</g>\n<!-- imp_to_lpr -->\n<g id=\"node22\" class=\"node\">\n<title>imp_to_lpr</title>\n<ellipse fill=\"none\" stroke=\"black\" cx=\"4010.39\" cy=\"-279\" rx=\"59.59\" ry=\"18\"/>\n<text text-anchor=\"middle\" x=\"4010.39\" y=\"-275.3\" font-family=\"Times,serif\" font-size=\"14.00\">imp_to_lpr</text>\n</g>\n<!-- imp_to_lpr&#45;&gt;LPREfficiency -->\n<g id=\"edge21\" class=\"edge\">\n<title>imp_to_lpr&#45;&gt;LPREfficiency</title>\n<path fill=\"none\" stroke=\"black\" d=\"M4059.81,-268.7C4128.43,-255.75 4256.42,-231.46 4365.39,-210 4371.43,-208.81 4377.71,-207.56 4383.99,-206.31\"/>\n<polygon fill=\"black\" stroke=\"black\" points=\"4384.72,-209.73 4393.83,-204.33 4383.34,-202.87 4384.72,-209.73\"/>\n<text text-anchor=\"middle\" x=\"4294.89\" y=\"-231.8\" font-family=\"Times,serif\" font-size=\"14.00\">outputs</text>\n</g>\n<!-- imp_to_lpr&#45;&gt;ImpedanceLogOhm -->\n<g id=\"edge20\" class=\"edge\">\n<title>imp_to_lpr&#45;&gt;ImpedanceLogOhm</title>\n<path fill=\"none\" stroke=\"black\" d=\"M3982.68,-262.8C3957.96,-249.25 3921.52,-229.26 3893.95,-214.15\"/>\n<polygon fill=\"black\" stroke=\"black\" points=\"3895.43,-210.96 3884.98,-209.22 3892.06,-217.1 3895.43,-210.96\"/>\n<text text-anchor=\"middle\" x=\"3968.89\" y=\"-231.8\" font-family=\"Times,serif\" font-size=\"14.00\">expects</text>\n</g>\n<!-- imp_to_lpr&#45;&gt;function -->\n<g id=\"edge19\" class=\"edge\">\n<title>imp_to_lpr&#45;&gt;function</title>\n<path fill=\"none\" stroke=\"black\" d=\"M3951.55,-275.53C3863.17,-271.9 3690.87,-265.09 3544.39,-261 3441.41,-258.12 2719.25,-258.46 2617.39,-243 2572.58,-236.2 2523.04,-220.8 2488.87,-208.88\"/>\n<polygon fill=\"black\" stroke=\"black\" points=\"2489.82,-205.5 2479.22,-205.46 2487.48,-212.1 2489.82,-205.5\"/>\n<text text-anchor=\"middle\" x=\"2628.39\" y=\"-231.8\" font-family=\"Times,serif\" font-size=\"14.00\">isA</text>\n</g>\n<!-- function imp_to_lpr at 0x7f5f4594ea60 -->\n<g id=\"node29\" class=\"node\">\n<title>function imp_to_lpr at 0x7f5f4594ea60</title>\n<ellipse fill=\"none\" stroke=\"black\" cx=\"4165.39\" cy=\"-192\" rx=\"191.17\" ry=\"18\"/>\n<text text-anchor=\"middle\" x=\"4165.39\" y=\"-188.3\" font-family=\"Times,serif\" font-size=\"14.00\">function imp_to_lpr at 0x7f5f4594ea60</text>\n</g>\n<!-- imp_to_lpr&#45;&gt;function imp_to_lpr at 0x7f5f4594ea60 -->\n<g id=\"edge32\" class=\"edge\">\n<title>imp_to_lpr&#45;&gt;function imp_to_lpr at 0x7f5f4594ea60</title>\n<path fill=\"none\" stroke=\"black\" d=\"M4038.1,-262.8C4062.51,-249.42 4098.35,-229.77 4125.78,-214.72\"/>\n<polygon fill=\"black\" stroke=\"black\" points=\"4127.65,-217.69 4134.74,-209.81 4124.28,-211.55 4127.65,-217.69\"/>\n<text text-anchor=\"middle\" x=\"4128.39\" y=\"-231.8\" font-family=\"Times,serif\" font-size=\"14.00\">executes</text>\n</g>\n<!-- Parameter -->\n<g id=\"node25\" class=\"node\">\n<title>Parameter</title>\n<ellipse fill=\"none\" stroke=\"black\" cx=\"3268.39\" cy=\"-18\" rx=\"59.59\" ry=\"18\"/>\n<text text-anchor=\"middle\" x=\"3268.39\" y=\"-14.3\" font-family=\"Times,serif\" font-size=\"14.00\">Parameter</text>\n</g>\n<!-- Resistance&#45;&gt;Parameter -->\n<g id=\"edge26\" class=\"edge\">\n<title>Resistance&#45;&gt;Parameter</title>\n<path fill=\"none\" stroke=\"black\" d=\"M3268.39,-86.8C3268.39,-75.16 3268.39,-59.55 3268.39,-46.24\"/>\n<polygon fill=\"black\" stroke=\"black\" points=\"3271.89,-46.18 3268.39,-36.18 3264.89,-46.18 3271.89,-46.18\"/>\n<text text-anchor=\"middle\" x=\"3279.39\" y=\"-57.8\" font-family=\"Times,serif\" font-size=\"14.00\">isA</text>\n</g>\n<!-- Output -->\n<g id=\"node26\" class=\"node\">\n<title>Output</title>\n<ellipse fill=\"none\" stroke=\"black\" cx=\"3573.39\" cy=\"-18\" rx=\"43.59\" ry=\"18\"/>\n<text text-anchor=\"middle\" x=\"3573.39\" y=\"-14.3\" font-family=\"Times,serif\" font-size=\"14.00\">Output</text>\n</g>\n<!-- InhibitorEfficiency&#45;&gt;Output -->\n<g id=\"edge27\" class=\"edge\">\n<title>InhibitorEfficiency&#45;&gt;Output</title>\n<path fill=\"none\" stroke=\"black\" d=\"M3573.39,-86.8C3573.39,-75.16 3573.39,-59.55 3573.39,-46.24\"/>\n<polygon fill=\"black\" stroke=\"black\" points=\"3576.89,-46.18 3573.39,-36.18 3569.89,-46.18 3576.89,-46.18\"/>\n<text text-anchor=\"middle\" x=\"3584.39\" y=\"-57.8\" font-family=\"Times,serif\" font-size=\"14.00\">isA</text>\n</g>\n<!-- cas_to_smiles -->\n<g id=\"node27\" class=\"node\">\n<title>cas_to_smiles</title>\n<ellipse fill=\"none\" stroke=\"black\" cx=\"717.39\" cy=\"-279\" rx=\"73.39\" ry=\"18\"/>\n<text text-anchor=\"middle\" x=\"717.39\" y=\"-275.3\" font-family=\"Times,serif\" font-size=\"14.00\">cas_to_smiles</text>\n</g>\n<!-- cas_to_smiles&#45;&gt;SMILES -->\n<g id=\"edge30\" class=\"edge\">\n<title>cas_to_smiles&#45;&gt;SMILES</title>\n<path fill=\"none\" stroke=\"black\" d=\"M655.67,-269.16C632.71,-266.15 606.4,-263.04 582.39,-261 492.41,-253.35 263.85,-265.52 176.39,-243 152.02,-236.72 126.64,-224.13 107.42,-213.16\"/>\n<polygon fill=\"black\" stroke=\"black\" points=\"109.18,-210.13 98.78,-208.09 105.64,-216.17 109.18,-210.13\"/>\n<text text-anchor=\"middle\" x=\"203.89\" y=\"-231.8\" font-family=\"Times,serif\" font-size=\"14.00\">outputs</text>\n</g>\n<!-- cas_to_smiles&#45;&gt;CAS# -->\n<g id=\"edge29\" class=\"edge\">\n<title>cas_to_smiles&#45;&gt;CAS#</title>\n<path fill=\"none\" stroke=\"black\" d=\"M735.37,-261.21C749.4,-248.11 769.01,-229.78 784.38,-215.43\"/>\n<polygon fill=\"black\" stroke=\"black\" points=\"787.06,-217.71 791.98,-208.33 782.28,-212.6 787.06,-217.71\"/>\n<text text-anchor=\"middle\" x=\"795.89\" y=\"-231.8\" font-family=\"Times,serif\" font-size=\"14.00\">expects</text>\n</g>\n<!-- cas_to_smiles&#45;&gt;function -->\n<g id=\"edge28\" class=\"edge\">\n<title>cas_to_smiles&#45;&gt;function</title>\n<path fill=\"none\" stroke=\"black\" d=\"M788.93,-274.73C864.39,-271.29 986.76,-265.73 1092.39,-261 1424.38,-246.14 1507.32,-240.78 1839.39,-228 1961.37,-223.31 2267.87,-229.32 2388.39,-210 2392.83,-209.29 2397.4,-208.34 2401.94,-207.26\"/>\n<polygon fill=\"black\" stroke=\"black\" points=\"2402.96,-210.61 2411.76,-204.7 2401.2,-203.83 2402.96,-210.61\"/>\n<text text-anchor=\"middle\" x=\"1850.39\" y=\"-231.8\" font-family=\"Times,serif\" font-size=\"14.00\">isA</text>\n</g>\n<!-- function cas_to_smiles at 0x7f5f4594eaf0 -->\n<g id=\"node30\" class=\"node\">\n<title>function cas_to_smiles at 0x7f5f4594eaf0</title>\n<ellipse fill=\"none\" stroke=\"black\" cx=\"549.39\" cy=\"-192\" rx=\"202.56\" ry=\"18\"/>\n<text text-anchor=\"middle\" x=\"549.39\" y=\"-188.3\" font-family=\"Times,serif\" font-size=\"14.00\">function cas_to_smiles at 0x7f5f4594eaf0</text>\n</g>\n<!-- cas_to_smiles&#45;&gt;function cas_to_smiles at 0x7f5f4594eaf0 -->\n<g id=\"edge33\" class=\"edge\">\n<title>cas_to_smiles&#45;&gt;function cas_to_smiles at 0x7f5f4594eaf0</title>\n<path fill=\"none\" stroke=\"black\" d=\"M686.97,-262.61C660.43,-249.18 621.66,-229.56 592.03,-214.57\"/>\n<polygon fill=\"black\" stroke=\"black\" points=\"593.26,-211.27 582.76,-209.88 590.1,-217.52 593.26,-211.27\"/>\n<text text-anchor=\"middle\" x=\"676.39\" y=\"-231.8\" font-family=\"Times,serif\" font-size=\"14.00\">executes</text>\n</g>\n</g>\n</svg>\n",
      "text/plain": [
       "<graphviz.graphs.Digraph at 0x7f5f45838d30>"
      ]
     },
     "metadata": {},
     "output_type": "display_data"
    },
    {
     "name": "stdout",
     "output_type": "stream",
     "text": [
      "[['outer.inhibitorEfficiency', 'LPREfficiency', 'imp_to_lpr', 'ImpedanceLogOhm', 'inner.impedance_log_24h', 'inner']]\n",
      "['imp_to_lpr']\n",
      "['ImpedanceLogOhm']\n",
      "['inner.impedance_log_24h']\n",
      "[2.50157065912319, 2.49977657970113, 2.058272709575285, 2.120425425334945, 2.20150754985188]\n",
      "[201451.87499999683, 199794.3281249972, 26156.246093749724, 34824.17578124962, 50587.71874999921]\n",
      "[2.50157065912319, 2.49977657970113, 2.058272709575285, 2.120425425334945, 2.20150754985188]\n",
      "[['outer.SMILES', 'SMILES', 'cas_to_smiles', 'CAS#', 'inner.casNumber', 'inner']]\n",
      "['cas_to_smiles']\n",
      "['CAS#']\n",
      "['inner.casNumber']\n",
      "['[Li+].[Li+].[O-]C([O-])=O', '[Li+].[Li+].[O-]C([O-])=O', '[Li+].[Cl-]', '[Li+].[Cl-]', '[Li+].[Cl-]']\n",
      "['554-13-2', '554-13-2', '7447-41-8', '7447-41-8', '7447-41-8']\n"
     ]
    },
    {
     "data": {
      "text/plain": [
       "{'title': 'OuterEntity',\n",
       " 'description': 'Generic Data source entity',\n",
       " 'type': 'object',\n",
       " 'properties': {'SMILES': {'title': 'SMILES',\n",
       "   'description': 'SMILES',\n",
       "   'type': 'string'},\n",
       "  'inhibitorEfficiency': {'title': 'inhibitorEfficiency',\n",
       "   'description': 'EIS 24h',\n",
       "   'type': 'number'}},\n",
       " 'additionalProperties': False}"
      ]
     },
     "execution_count": 2,
     "metadata": {},
     "output_type": "execute_result"
    }
   ],
   "source": [
    "from s7.outer_entitygen_simple import create_outer_entity\n",
    "\n",
    "GetEfficiency = create_outer_entity(\n",
    "    data_model=Path(\".\").resolve() / \"ai_model.yaml\",\n",
    "    inner_entity=entity,\n",
    "    mapping=[\n",
    "        (\"outer.SMILES\", \"mapsTo\", \"SMILES\"),\n",
    "        (\"outer.inhibitorEfficiency\", \"mapsTo\", \"LPREfficiency\"),\n",
    "        (\"inner.casNumber\", \"mapsTo\", \"CAS#\"),\n",
    "        (\"inner.impedance_ohm_24h\", \"mapsTo\", \"ImpedanceOhm\"),\n",
    "        (\"inner.impedance_log_24h\", \"mapsTo\", \"ImpedanceLogOhm\"),\n",
    "    ],\n",
    ")\n",
    "outer_entity = GetEfficiency()\n",
    "print(outer_entity.inhibitorEfficiency)\n",
    "print([_ * 2 for _ in entity.impedance_ohm_24h])\n",
    "print([_ / 2 for _ in entity.impedance_log_24h])\n",
    "print(outer_entity.SMILES)\n",
    "print(entity.casNumber)\n",
    "outer_entity.schema()\n"
   ]
  },
  {
   "cell_type": "code",
   "execution_count": 4,
   "id": "f24ea63b-25f3-49cc-8e37-191c7316812d",
   "metadata": {},
   "outputs": [
    {
     "ename": "NameError",
     "evalue": "name 'XLSData' is not defined",
     "output_type": "error",
     "traceback": [
      "\u001b[0;31m---------------------------------------------------------------------------\u001b[0m",
      "\u001b[0;31mNameError\u001b[0m                                 Traceback (most recent call last)",
      "\u001b[1;32m/home/cwa/venvs/vipcoat_m12/semantic_interop_story/excelparse.ipynb Cell 3'\u001b[0m in \u001b[0;36m<cell line: 3>\u001b[0;34m()\u001b[0m\n\u001b[1;32m      <a href='vscode-notebook-cell://wsl%2Bubuntu-20.04/home/cwa/venvs/vipcoat_m12/semantic_interop_story/excelparse.ipynb#ch0000002vscode-remote?line=0'>1</a>\u001b[0m \u001b[39mfrom\u001b[39;00m \u001b[39ms7\u001b[39;00m\u001b[39m.\u001b[39;00m\u001b[39mgraph\u001b[39;00m \u001b[39mimport\u001b[39;00m Graph\n\u001b[1;32m      <a href='vscode-notebook-cell://wsl%2Bubuntu-20.04/home/cwa/venvs/vipcoat_m12/semantic_interop_story/excelparse.ipynb#ch0000002vscode-remote?line=1'>2</a>\u001b[0m g \u001b[39m=\u001b[39m Graph()\n\u001b[0;32m----> <a href='vscode-notebook-cell://wsl%2Bubuntu-20.04/home/cwa/venvs/vipcoat_m12/semantic_interop_story/excelparse.ipynb#ch0000002vscode-remote?line=2'>3</a>\u001b[0m d \u001b[39m=\u001b[39m XLSData()\n\u001b[1;32m      <a href='vscode-notebook-cell://wsl%2Bubuntu-20.04/home/cwa/venvs/vipcoat_m12/semantic_interop_story/excelparse.ipynb#ch0000002vscode-remote?line=4'>5</a>\u001b[0m \u001b[39mprint\u001b[39m (d\u001b[39m.\u001b[39msampleType)\n\u001b[1;32m      <a href='vscode-notebook-cell://wsl%2Bubuntu-20.04/home/cwa/venvs/vipcoat_m12/semantic_interop_story/excelparse.ipynb#ch0000002vscode-remote?line=6'>7</a>\u001b[0m g\u001b[39m.\u001b[39mappend((\u001b[39m'\u001b[39m\u001b[39mentity\u001b[39m\u001b[39m'\u001b[39m, \u001b[39m'\u001b[39m\u001b[39mhasProperty\u001b[39m\u001b[39m'\u001b[39m, \u001b[39m'\u001b[39m\u001b[39mentity:sampleType\u001b[39m\u001b[39m'\u001b[39m))\n",
      "\u001b[0;31mNameError\u001b[0m: name 'XLSData' is not defined"
     ]
    }
   ],
   "source": [
    "from s7.graph import Graph\n",
    "g = Graph()\n",
    "d = XLSData()\n",
    "\n",
    "print (d.sampleType)\n",
    "\n",
    "g.append(('entity', 'hasProperty', 'entity:sampleType'))\n",
    "g.append(('entity:sampleType', 'propertyOf', 'entity'))\n",
    "\n",
    "g.append(('entity', 'hasProperty', 'entity:casNumber'))\n",
    "g.append(('entity:casNumber', 'propertyOf', 'entity'))\n",
    "\n",
    "g.append(('entity:sampleType', 'mapsTo', 'ontology:sampleType'))\n",
    "g.append(('entity:sampleType', 'propertyOf', 'entity'))\n",
    "\n",
    "g.append(('ontology:sampleType', 'mapsfrom', 'entity:sampleType'))\n",
    "g.append(('entity:casNumber', 'mapsTo', 'ontology:casNumber'))\n",
    "g.append(('ontology:casNumber', 'mapsFrom', 'entity:casNumber'))\n",
    "g.append(('entity:inhibitorEfficiency', 'mapsTo', 'ontology:inhibitorEfficiency'))\n",
    "g.append(('ontology:inhibitorEfficiency', 'mapsTo', 'entity:inhibitorEfficiency'))\n",
    "\n",
    "g.append(((lambda : d.sampleType), 'executes', 'entity:sampleType'))\n",
    "g.append(((lambda : d.casNumber), 'executes', 'entity:casNumber'))\n",
    "g.append(((lambda : d.inhibitorEfficiency), 'executes', 'entity:inhibitorEfficiency'))\n",
    "\n",
    "# consumer mapping\n",
    "g.append(('consumer:eff', 'mapsTo', 'ontology:inhibitorEfficiency'))\n",
    "g.append(('consumer:cas', 'mapsTo', 'ontology:casNumber'))\n"
   ]
  },
  {
   "cell_type": "code",
   "execution_count": null,
   "id": "0291097e-9c1d-4a1c-bc01-a936a31b09dc",
   "metadata": {},
   "outputs": [],
   "source": []
  },
  {
   "cell_type": "code",
   "execution_count": null,
   "id": "7c620eb4-c74d-418c-90f9-ce9b5838a86a",
   "metadata": {},
   "outputs": [],
   "source": []
  },
  {
   "cell_type": "code",
   "execution_count": null,
   "id": "39987f11-6c9e-442b-960d-5b0b1cf2baa7",
   "metadata": {},
   "outputs": [],
   "source": [
    "import math\n",
    "math.pow(10, x.impedance[0])"
   ]
  },
  {
   "cell_type": "code",
   "execution_count": null,
   "id": "b742ee3a-ce2c-4132-b70e-452e488e4aa5",
   "metadata": {},
   "outputs": [],
   "source": []
  }
 ],
 "metadata": {
  "kernelspec": {
   "display_name": "Python 3 (ipykernel)",
   "language": "python",
   "name": "python3"
  },
  "language_info": {
   "codemirror_mode": {
    "name": "ipython",
    "version": 3
   },
   "file_extension": ".py",
   "mimetype": "text/x-python",
   "name": "python",
   "nbconvert_exporter": "python",
   "pygments_lexer": "ipython3",
   "version": "3.9.12"
  }
 },
 "nbformat": 4,
 "nbformat_minor": 5
}
