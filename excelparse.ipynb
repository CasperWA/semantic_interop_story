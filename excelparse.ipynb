{
 "cells": [
  {
   "cell_type": "code",
   "execution_count": 2,
   "id": "18f833b5-b4f6-4d3c-b5b0-935c23d2c7d1",
   "metadata": {},
   "outputs": [
    {
     "name": "stdout",
     "output_type": "stream",
     "text": [
      "{'sampleType': ['LiCO3', 'LiCO3', 'LiCl', 'LiCl', 'LiCl'], 'casNumber': ['554-13-2', '554-13-2', '7447-41-8', '7447-41-8', '7447-41-8'], 'runID': ['27082021_1mMLiCO3_0.1MNaCl_AA2024_run4', '27082021_1mMLiCO3_0.1MNaCl_AA2024_run5', '11082021_1mMLiCl_0.1MNaCl_AA2024_run1', '11082021_1mMLiCl_0.1MNaCl_AA2024_run2', '11082021_1mMLiCl_0.1MNaCl_AA2024_run3'], 'inhibitorEfficiency': [82.84807910472972, 82.70578220798093, -32.10177835991128, 0.7790838781530862, 31.69712512083033], 'impedance_log_24h': [5.00314131824638, 4.99955315940226, 4.11654541915057, 4.24085085066989, 4.40301509970376], 'impedance_ohm_24h': [100725.93749999841, 99897.1640624986, 13078.123046874862, 17412.08789062481, 25293.859374999603], 'impedance_kohm_24h': [79.06986093749876, 78.4192737890614, 10.266326591796767, 13.668488994140477, 19.85567960937469]}\n"
     ]
    },
    {
     "data": {
      "text/plain": [
       "[82.84807910472972,\n",
       " 82.70578220798093,\n",
       " -32.10177835991128,\n",
       " 0.7790838781530862,\n",
       " 31.69712512083033]"
      ]
     },
     "execution_count": 2,
     "metadata": {},
     "output_type": "execute_result"
    }
   ],
   "source": [
    "from __future__ import annotations\n",
    "from pathlib import Path\n",
    "from s7.models import create_config\n",
    "from s7.xlsparser import XLSParser\n",
    "from s7.classgen import class_factory\n",
    "\n",
    "# Import Configuration\n",
    "xls_config = create_config(Path(\".\").resolve() / 'inhibitor_conf.yml')\n",
    "\n",
    "# Generate Specific Parser from config\n",
    "parser = XLSParser(xls_config)\n",
    "v = parser.get()\n",
    "print(v)\n",
    "\n",
    "# Generate entity (not a S7-model yet...)\n",
    "XLSData = class_factory(\"XLSData\", v)\n",
    "\n",
    "x = XLSData()\n",
    "x.inhibitorEfficiency\n"
   ]
  },
  {
   "cell_type": "code",
   "execution_count": 1,
   "id": "6ce166df",
   "metadata": {},
   "outputs": [
    {
     "name": "stdout",
     "output_type": "stream",
     "text": [
      "['554-13-2', '554-13-2', '7447-41-8', '7447-41-8', '7447-41-8']\n"
     ]
    },
    {
     "data": {
      "text/plain": [
       "{'title': 'DataSourceEntity',\n",
       " 'description': 'Generic Data source entity',\n",
       " 'type': 'object',\n",
       " 'properties': {'sampleType': {'title': 'sampleType',\n",
       "   'description': 'Molecule name',\n",
       "   'type': 'string'},\n",
       "  'casNumber': {'title': 'casNumber',\n",
       "   'description': 'CAS number',\n",
       "   'type': 'string'},\n",
       "  'runID': {'title': 'runID',\n",
       "   'description': 'Experiment identification',\n",
       "   'type': 'string'},\n",
       "  'inhibitorEfficiency': {'title': 'inhibitorEfficiency',\n",
       "   'description': 'EIS 24h',\n",
       "   'type': 'number'},\n",
       "  'impedance_log_24h': {'title': 'impedance_log_24h',\n",
       "   'description': 'Impedance Log (24h)',\n",
       "   'type': 'number'},\n",
       "  'impedance_ohm_24h': {'title': 'impedance_ohm_24h',\n",
       "   'description': 'Impedance Ohm (24h)',\n",
       "   'type': 'number'},\n",
       "  'impedance_kohm_24h': {'title': 'impedance_kohm_24h',\n",
       "   'description': 'Impedance kOhm (24h)',\n",
       "   'type': 'number'}},\n",
       " 'additionalProperties': False}"
      ]
     },
     "execution_count": 1,
     "metadata": {},
     "output_type": "execute_result"
    }
   ],
   "source": [
    "from pathlib import Path\n",
    "# from s7.entitygen import create_entity\n",
    "from s7.entitygen_simple import create_entity\n",
    "from s7.models import create_config\n",
    "\n",
    "xls_config = create_config(Path(\".\").resolve() / 'inhibitor_conf.yml')\n",
    "\n",
    "DataSourceEntity = create_entity(\n",
    "    data_model=Path(\".\").resolve() / \"efficiency.yaml\",\n",
    "    resource_config={\n",
    "        \"downloadUrl\": (Path(\".\").resolve() / \"Inhibitor_Data_Analysis_summary.xlsx\").as_uri(),\n",
    "        \"mediaType\": \"application/vnd.openxmlformats-officedocument.spreadsheetml.sheet\",\n",
    "        \"configuration\": xls_config,\n",
    "    },\n",
    ")\n",
    "entity = DataSourceEntity()\n",
    "print(entity.casNumber)\n",
    "entity.schema()\n",
    "\n",
    "# function_mapping = {\n",
    "#     # Specific doubles, based on graph traversal back to inner entity's inhibitorEfficiency - through a generic \"doubles\" function: f(x)=2*x\n",
    "#     \"doubles\": lambda: [_ * 2 for _ in entity.inhibitorEfficiency],\n",
    "# }\n",
    "\n",
    "# lambda prop: getattr(entity, prop, None)"
   ]
  },
  {
   "cell_type": "code",
   "execution_count": 3,
   "id": "23116d44",
   "metadata": {},
   "outputs": [
    {
     "data": {
      "image/svg+xml": "<?xml version=\"1.0\" encoding=\"UTF-8\" standalone=\"no\"?>\n<!DOCTYPE svg PUBLIC \"-//W3C//DTD SVG 1.1//EN\"\n \"http://www.w3.org/Graphics/SVG/1.1/DTD/svg11.dtd\">\n<!-- Generated by graphviz version 2.43.0 (0)\n -->\n<!-- Title: %3 Pages: 1 -->\n<svg width=\"4510pt\" height=\"392pt\"\n viewBox=\"0.00 0.00 4510.13 392.00\" xmlns=\"http://www.w3.org/2000/svg\" xmlns:xlink=\"http://www.w3.org/1999/xlink\">\n<g id=\"graph0\" class=\"graph\" transform=\"scale(1 1) rotate(0) translate(4 388)\">\n<title>%3</title>\n<polygon fill=\"white\" stroke=\"transparent\" points=\"-4,4 -4,-388 4506.13,-388 4506.13,4 -4,4\"/>\n<!-- inner -->\n<g id=\"node1\" class=\"node\">\n<title>inner</title>\n<ellipse fill=\"none\" stroke=\"black\" cx=\"1077.29\" cy=\"-366\" rx=\"35.19\" ry=\"18\"/>\n<text text-anchor=\"middle\" x=\"1077.29\" y=\"-362.3\" font-family=\"Times,serif\" font-size=\"14.00\">inner</text>\n</g>\n<!-- DataSourceEntity -->\n<g id=\"node2\" class=\"node\">\n<title>DataSourceEntity</title>\n<ellipse fill=\"none\" stroke=\"black\" cx=\"244.29\" cy=\"-279\" rx=\"93.68\" ry=\"18\"/>\n<text text-anchor=\"middle\" x=\"244.29\" y=\"-275.3\" font-family=\"Times,serif\" font-size=\"14.00\">DataSourceEntity</text>\n</g>\n<!-- inner&#45;&gt;DataSourceEntity -->\n<g id=\"edge1\" class=\"edge\">\n<title>inner&#45;&gt;DataSourceEntity</title>\n<path fill=\"none\" stroke=\"black\" d=\"M1042.62,-362.64C937.62,-355.33 613.98,-331.38 347.29,-297 338.74,-295.9 329.81,-294.62 320.93,-293.26\"/>\n<polygon fill=\"black\" stroke=\"black\" points=\"321.38,-289.79 310.96,-291.71 320.3,-296.71 321.38,-289.79\"/>\n<text text-anchor=\"middle\" x=\"639.29\" y=\"-318.8\" font-family=\"Times,serif\" font-size=\"14.00\">isA</text>\n</g>\n<!-- inner.casNumber -->\n<g id=\"node10\" class=\"node\">\n<title>inner.casNumber</title>\n<ellipse fill=\"none\" stroke=\"black\" cx=\"1077.29\" cy=\"-279\" rx=\"90.18\" ry=\"18\"/>\n<text text-anchor=\"middle\" x=\"1077.29\" y=\"-275.3\" font-family=\"Times,serif\" font-size=\"14.00\">inner.casNumber</text>\n</g>\n<!-- inner&#45;&gt;inner.casNumber -->\n<g id=\"edge8\" class=\"edge\">\n<title>inner&#45;&gt;inner.casNumber</title>\n<path fill=\"none\" stroke=\"black\" d=\"M1077.29,-347.8C1077.29,-336.16 1077.29,-320.55 1077.29,-307.24\"/>\n<polygon fill=\"black\" stroke=\"black\" points=\"1080.79,-307.18 1077.29,-297.18 1073.79,-307.18 1080.79,-307.18\"/>\n<text text-anchor=\"middle\" x=\"1121.29\" y=\"-318.8\" font-family=\"Times,serif\" font-size=\"14.00\">hasProperty</text>\n</g>\n<!-- inner.impedance_ohm_24h -->\n<g id=\"node13\" class=\"node\">\n<title>inner.impedance_ohm_24h</title>\n<ellipse fill=\"none\" stroke=\"black\" cx=\"2053.29\" cy=\"-279\" rx=\"133.78\" ry=\"18\"/>\n<text text-anchor=\"middle\" x=\"2053.29\" y=\"-275.3\" font-family=\"Times,serif\" font-size=\"14.00\">inner.impedance_ohm_24h</text>\n</g>\n<!-- inner&#45;&gt;inner.impedance_ohm_24h -->\n<g id=\"edge11\" class=\"edge\">\n<title>inner&#45;&gt;inner.impedance_ohm_24h</title>\n<path fill=\"none\" stroke=\"black\" d=\"M1111.74,-362C1242.42,-350.62 1711.37,-309.78 1934.15,-290.38\"/>\n<polygon fill=\"black\" stroke=\"black\" points=\"1934.58,-293.85 1944.24,-289.5 1933.98,-286.88 1934.58,-293.85\"/>\n<text text-anchor=\"middle\" x=\"1667.29\" y=\"-318.8\" font-family=\"Times,serif\" font-size=\"14.00\">hasProperty</text>\n</g>\n<!-- SOFT7DataEntity -->\n<g id=\"node5\" class=\"node\">\n<title>SOFT7DataEntity</title>\n<ellipse fill=\"none\" stroke=\"black\" cx=\"216.29\" cy=\"-192\" rx=\"92.88\" ry=\"18\"/>\n<text text-anchor=\"middle\" x=\"216.29\" y=\"-188.3\" font-family=\"Times,serif\" font-size=\"14.00\">SOFT7DataEntity</text>\n</g>\n<!-- DataSourceEntity&#45;&gt;SOFT7DataEntity -->\n<g id=\"edge3\" class=\"edge\">\n<title>DataSourceEntity&#45;&gt;SOFT7DataEntity</title>\n<path fill=\"none\" stroke=\"black\" d=\"M238.63,-260.8C234.76,-249.05 229.55,-233.24 225.14,-219.84\"/>\n<polygon fill=\"black\" stroke=\"black\" points=\"228.4,-218.58 221.95,-210.18 221.76,-220.77 228.4,-218.58\"/>\n<text text-anchor=\"middle\" x=\"243.29\" y=\"-231.8\" font-family=\"Times,serif\" font-size=\"14.00\">isA</text>\n</g>\n<!-- outer -->\n<g id=\"node3\" class=\"node\">\n<title>outer</title>\n<ellipse fill=\"none\" stroke=\"black\" cx=\"66.29\" cy=\"-366\" rx=\"36\" ry=\"18\"/>\n<text text-anchor=\"middle\" x=\"66.29\" y=\"-362.3\" font-family=\"Times,serif\" font-size=\"14.00\">outer</text>\n</g>\n<!-- OuterEntity -->\n<g id=\"node4\" class=\"node\">\n<title>OuterEntity</title>\n<ellipse fill=\"none\" stroke=\"black\" cx=\"66.29\" cy=\"-279\" rx=\"66.09\" ry=\"18\"/>\n<text text-anchor=\"middle\" x=\"66.29\" y=\"-275.3\" font-family=\"Times,serif\" font-size=\"14.00\">OuterEntity</text>\n</g>\n<!-- outer&#45;&gt;OuterEntity -->\n<g id=\"edge2\" class=\"edge\">\n<title>outer&#45;&gt;OuterEntity</title>\n<path fill=\"none\" stroke=\"black\" d=\"M66.29,-347.8C66.29,-336.16 66.29,-320.55 66.29,-307.24\"/>\n<polygon fill=\"black\" stroke=\"black\" points=\"69.79,-307.18 66.29,-297.18 62.79,-307.18 69.79,-307.18\"/>\n<text text-anchor=\"middle\" x=\"77.29\" y=\"-318.8\" font-family=\"Times,serif\" font-size=\"14.00\">isA</text>\n</g>\n<!-- OuterEntity&#45;&gt;SOFT7DataEntity -->\n<g id=\"edge4\" class=\"edge\">\n<title>OuterEntity&#45;&gt;SOFT7DataEntity</title>\n<path fill=\"none\" stroke=\"black\" d=\"M93.81,-262.41C117.64,-248.9 152.34,-229.24 178.72,-214.29\"/>\n<polygon fill=\"black\" stroke=\"black\" points=\"180.71,-217.19 187.68,-209.21 177.25,-211.1 180.71,-217.19\"/>\n<text text-anchor=\"middle\" x=\"161.29\" y=\"-231.8\" font-family=\"Times,serif\" font-size=\"14.00\">isA</text>\n</g>\n<!-- outer.SMILES -->\n<g id=\"node6\" class=\"node\">\n<title>outer.SMILES</title>\n<ellipse fill=\"none\" stroke=\"black\" cx=\"431.29\" cy=\"-279\" rx=\"75.29\" ry=\"18\"/>\n<text text-anchor=\"middle\" x=\"431.29\" y=\"-275.3\" font-family=\"Times,serif\" font-size=\"14.00\">outer.SMILES</text>\n</g>\n<!-- SMILES -->\n<g id=\"node7\" class=\"node\">\n<title>SMILES</title>\n<ellipse fill=\"none\" stroke=\"black\" cx=\"398.29\" cy=\"-192\" rx=\"48.99\" ry=\"18\"/>\n<text text-anchor=\"middle\" x=\"398.29\" y=\"-188.3\" font-family=\"Times,serif\" font-size=\"14.00\">SMILES</text>\n</g>\n<!-- outer.SMILES&#45;&gt;SMILES -->\n<g id=\"edge5\" class=\"edge\">\n<title>outer.SMILES&#45;&gt;SMILES</title>\n<path fill=\"none\" stroke=\"black\" d=\"M424.62,-260.8C420.02,-248.97 413.84,-233.03 408.61,-219.58\"/>\n<polygon fill=\"black\" stroke=\"black\" points=\"411.73,-217.94 404.85,-209.89 405.21,-220.47 411.73,-217.94\"/>\n<text text-anchor=\"middle\" x=\"444.79\" y=\"-231.8\" font-family=\"Times,serif\" font-size=\"14.00\">mapsTo</text>\n</g>\n<!-- outer.inhibitorEfficiency -->\n<g id=\"node8\" class=\"node\">\n<title>outer.inhibitorEfficiency</title>\n<ellipse fill=\"none\" stroke=\"black\" cx=\"4379.29\" cy=\"-279\" rx=\"122.68\" ry=\"18\"/>\n<text text-anchor=\"middle\" x=\"4379.29\" y=\"-275.3\" font-family=\"Times,serif\" font-size=\"14.00\">outer.inhibitorEfficiency</text>\n</g>\n<!-- LPREfficiency -->\n<g id=\"node9\" class=\"node\">\n<title>LPREfficiency</title>\n<ellipse fill=\"none\" stroke=\"black\" cx=\"4379.29\" cy=\"-192\" rx=\"75.29\" ry=\"18\"/>\n<text text-anchor=\"middle\" x=\"4379.29\" y=\"-188.3\" font-family=\"Times,serif\" font-size=\"14.00\">LPREfficiency</text>\n</g>\n<!-- outer.inhibitorEfficiency&#45;&gt;LPREfficiency -->\n<g id=\"edge6\" class=\"edge\">\n<title>outer.inhibitorEfficiency&#45;&gt;LPREfficiency</title>\n<path fill=\"none\" stroke=\"black\" d=\"M4379.29,-260.8C4379.29,-249.16 4379.29,-233.55 4379.29,-220.24\"/>\n<polygon fill=\"black\" stroke=\"black\" points=\"4382.79,-220.18 4379.29,-210.18 4375.79,-220.18 4382.79,-220.18\"/>\n<text text-anchor=\"middle\" x=\"4406.79\" y=\"-231.8\" font-family=\"Times,serif\" font-size=\"14.00\">mapsTo</text>\n</g>\n<!-- InhibitorEfficiency -->\n<g id=\"node23\" class=\"node\">\n<title>InhibitorEfficiency</title>\n<ellipse fill=\"none\" stroke=\"black\" cx=\"4096.29\" cy=\"-105\" rx=\"96.68\" ry=\"18\"/>\n<text text-anchor=\"middle\" x=\"4096.29\" y=\"-101.3\" font-family=\"Times,serif\" font-size=\"14.00\">InhibitorEfficiency</text>\n</g>\n<!-- LPREfficiency&#45;&gt;InhibitorEfficiency -->\n<g id=\"edge25\" class=\"edge\">\n<title>LPREfficiency&#45;&gt;InhibitorEfficiency</title>\n<path fill=\"none\" stroke=\"black\" d=\"M4334.14,-177.44C4285.51,-162.83 4207.98,-139.54 4154.73,-123.55\"/>\n<polygon fill=\"black\" stroke=\"black\" points=\"4155.67,-120.18 4145.09,-120.65 4153.66,-126.88 4155.67,-120.18\"/>\n<text text-anchor=\"middle\" x=\"4265.29\" y=\"-144.8\" font-family=\"Times,serif\" font-size=\"14.00\">isA</text>\n</g>\n<!-- CASNumber -->\n<g id=\"node11\" class=\"node\">\n<title>CASNumber</title>\n<ellipse fill=\"none\" stroke=\"black\" cx=\"959.29\" cy=\"-192\" rx=\"68.49\" ry=\"18\"/>\n<text text-anchor=\"middle\" x=\"959.29\" y=\"-188.3\" font-family=\"Times,serif\" font-size=\"14.00\">CASNumber</text>\n</g>\n<!-- inner.casNumber&#45;&gt;CASNumber -->\n<g id=\"edge7\" class=\"edge\">\n<title>inner.casNumber&#45;&gt;CASNumber</title>\n<path fill=\"none\" stroke=\"black\" d=\"M1054.26,-261.41C1035.95,-248.22 1010.17,-229.65 990.09,-215.18\"/>\n<polygon fill=\"black\" stroke=\"black\" points=\"992.03,-212.27 981.87,-209.26 987.94,-217.94 992.03,-212.27\"/>\n<text text-anchor=\"middle\" x=\"1053.79\" y=\"-231.8\" font-family=\"Times,serif\" font-size=\"14.00\">mapsTo</text>\n</g>\n<!-- function create_outer_entity.&lt;locals&gt;.&lt;lambda&gt; at 0x7f3fee661550 -->\n<g id=\"node12\" class=\"node\">\n<title>function create_outer_entity.&lt;locals&gt;.&lt;lambda&gt; at 0x7f3fee661550</title>\n<ellipse fill=\"none\" stroke=\"black\" cx=\"1374.29\" cy=\"-192\" rx=\"328.74\" ry=\"18\"/>\n<text text-anchor=\"middle\" x=\"1374.29\" y=\"-188.3\" font-family=\"Times,serif\" font-size=\"14.00\">function create_outer_entity.&lt;locals&gt;.&lt;lambda&gt; at 0x7f3fee661550</text>\n</g>\n<!-- inner.casNumber&#45;&gt;function create_outer_entity.&lt;locals&gt;.&lt;lambda&gt; at 0x7f3fee661550 -->\n<g id=\"edge9\" class=\"edge\">\n<title>inner.casNumber&#45;&gt;function create_outer_entity.&lt;locals&gt;.&lt;lambda&gt; at 0x7f3fee661550</title>\n<path fill=\"none\" stroke=\"black\" d=\"M1126.67,-263.87C1175.76,-249.82 1251.46,-228.16 1306.24,-212.48\"/>\n<polygon fill=\"black\" stroke=\"black\" points=\"1307.22,-215.84 1315.87,-209.72 1305.29,-209.11 1307.22,-215.84\"/>\n<text text-anchor=\"middle\" x=\"1255.29\" y=\"-231.8\" font-family=\"Times,serif\" font-size=\"14.00\">get</text>\n</g>\n<!-- ImpedanceOhm -->\n<g id=\"node14\" class=\"node\">\n<title>ImpedanceOhm</title>\n<ellipse fill=\"none\" stroke=\"black\" cx=\"2486.29\" cy=\"-192\" rx=\"83.39\" ry=\"18\"/>\n<text text-anchor=\"middle\" x=\"2486.29\" y=\"-188.3\" font-family=\"Times,serif\" font-size=\"14.00\">ImpedanceOhm</text>\n</g>\n<!-- inner.impedance_ohm_24h&#45;&gt;ImpedanceOhm -->\n<g id=\"edge10\" class=\"edge\">\n<title>inner.impedance_ohm_24h&#45;&gt;ImpedanceOhm</title>\n<path fill=\"none\" stroke=\"black\" d=\"M2125.77,-263.77C2206.81,-247.86 2337.11,-222.28 2416.88,-206.63\"/>\n<polygon fill=\"black\" stroke=\"black\" points=\"2417.7,-210.03 2426.83,-204.67 2416.35,-203.16 2417.7,-210.03\"/>\n<text text-anchor=\"middle\" x=\"2322.79\" y=\"-231.8\" font-family=\"Times,serif\" font-size=\"14.00\">mapsTo</text>\n</g>\n<!-- function create_outer_entity.&lt;locals&gt;.&lt;lambda&gt; at 0x7f4007525550 -->\n<g id=\"node15\" class=\"node\">\n<title>function create_outer_entity.&lt;locals&gt;.&lt;lambda&gt; at 0x7f4007525550</title>\n<ellipse fill=\"none\" stroke=\"black\" cx=\"2053.29\" cy=\"-192\" rx=\"332.24\" ry=\"18\"/>\n<text text-anchor=\"middle\" x=\"2053.29\" y=\"-188.3\" font-family=\"Times,serif\" font-size=\"14.00\">function create_outer_entity.&lt;locals&gt;.&lt;lambda&gt; at 0x7f4007525550</text>\n</g>\n<!-- inner.impedance_ohm_24h&#45;&gt;function create_outer_entity.&lt;locals&gt;.&lt;lambda&gt; at 0x7f4007525550 -->\n<g id=\"edge12\" class=\"edge\">\n<title>inner.impedance_ohm_24h&#45;&gt;function create_outer_entity.&lt;locals&gt;.&lt;lambda&gt; at 0x7f4007525550</title>\n<path fill=\"none\" stroke=\"black\" d=\"M2053.29,-260.8C2053.29,-249.16 2053.29,-233.55 2053.29,-220.24\"/>\n<polygon fill=\"black\" stroke=\"black\" points=\"2056.79,-220.18 2053.29,-210.18 2049.79,-220.18 2056.79,-220.18\"/>\n<text text-anchor=\"middle\" x=\"2065.29\" y=\"-231.8\" font-family=\"Times,serif\" font-size=\"14.00\">get</text>\n</g>\n<!-- Resistance -->\n<g id=\"node22\" class=\"node\">\n<title>Resistance</title>\n<ellipse fill=\"none\" stroke=\"black\" cx=\"2918.29\" cy=\"-105\" rx=\"61.19\" ry=\"18\"/>\n<text text-anchor=\"middle\" x=\"2918.29\" y=\"-101.3\" font-family=\"Times,serif\" font-size=\"14.00\">Resistance</text>\n</g>\n<!-- ImpedanceOhm&#45;&gt;Resistance -->\n<g id=\"edge22\" class=\"edge\">\n<title>ImpedanceOhm&#45;&gt;Resistance</title>\n<path fill=\"none\" stroke=\"black\" d=\"M2545.91,-179.27C2628.45,-163.03 2776.67,-133.86 2859.03,-117.66\"/>\n<polygon fill=\"black\" stroke=\"black\" points=\"2859.85,-121.07 2868.98,-115.7 2858.5,-114.2 2859.85,-121.07\"/>\n<text text-anchor=\"middle\" x=\"2738.29\" y=\"-144.8\" font-family=\"Times,serif\" font-size=\"14.00\">isA</text>\n</g>\n<!-- imp_to_eis -->\n<g id=\"node16\" class=\"node\">\n<title>imp_to_eis</title>\n<ellipse fill=\"none\" stroke=\"black\" cx=\"3280.29\" cy=\"-279\" rx=\"59.59\" ry=\"18\"/>\n<text text-anchor=\"middle\" x=\"3280.29\" y=\"-275.3\" font-family=\"Times,serif\" font-size=\"14.00\">imp_to_eis</text>\n</g>\n<!-- imp_to_eis&#45;&gt;ImpedanceOhm -->\n<g id=\"edge14\" class=\"edge\">\n<title>imp_to_eis&#45;&gt;ImpedanceOhm</title>\n<path fill=\"none\" stroke=\"black\" d=\"M3235.12,-267.05C3184.05,-255.18 3098.24,-236.75 3023.29,-228 2826.69,-205.03 2775,-232.04 2578.29,-210 2570.38,-209.11 2562.11,-207.94 2553.93,-206.63\"/>\n<polygon fill=\"black\" stroke=\"black\" points=\"2554.46,-203.17 2544.02,-204.96 2553.3,-210.07 2554.46,-203.17\"/>\n<text text-anchor=\"middle\" x=\"3142.79\" y=\"-231.8\" font-family=\"Times,serif\" font-size=\"14.00\">expects</text>\n</g>\n<!-- function -->\n<g id=\"node17\" class=\"node\">\n<title>function</title>\n<ellipse fill=\"none\" stroke=\"black\" cx=\"3056.29\" cy=\"-192\" rx=\"48.99\" ry=\"18\"/>\n<text text-anchor=\"middle\" x=\"3056.29\" y=\"-188.3\" font-family=\"Times,serif\" font-size=\"14.00\">function</text>\n</g>\n<!-- imp_to_eis&#45;&gt;function -->\n<g id=\"edge13\" class=\"edge\">\n<title>imp_to_eis&#45;&gt;function</title>\n<path fill=\"none\" stroke=\"black\" d=\"M3254.26,-262.58C3235.13,-251.75 3208.24,-237.55 3183.29,-228 3153.7,-216.67 3144.84,-218.46 3114.29,-210 3110.53,-208.96 3106.64,-207.86 3102.74,-206.75\"/>\n<polygon fill=\"black\" stroke=\"black\" points=\"3103.64,-203.36 3093.07,-203.96 3101.7,-210.09 3103.64,-203.36\"/>\n<text text-anchor=\"middle\" x=\"3226.29\" y=\"-231.8\" font-family=\"Times,serif\" font-size=\"14.00\">isA</text>\n</g>\n<!-- EISEfficiency -->\n<g id=\"node18\" class=\"node\">\n<title>EISEfficiency</title>\n<ellipse fill=\"none\" stroke=\"black\" cx=\"3814.29\" cy=\"-192\" rx=\"72.59\" ry=\"18\"/>\n<text text-anchor=\"middle\" x=\"3814.29\" y=\"-188.3\" font-family=\"Times,serif\" font-size=\"14.00\">EISEfficiency</text>\n</g>\n<!-- imp_to_eis&#45;&gt;EISEfficiency -->\n<g id=\"edge15\" class=\"edge\">\n<title>imp_to_eis&#45;&gt;EISEfficiency</title>\n<path fill=\"none\" stroke=\"black\" d=\"M3339.97,-277.47C3448.01,-275.87 3671.57,-269.36 3744.29,-243 3760.65,-237.07 3776.61,-226.19 3789.16,-216.08\"/>\n<polygon fill=\"black\" stroke=\"black\" points=\"3791.46,-218.72 3796.87,-209.62 3786.96,-213.35 3791.46,-218.72\"/>\n<text text-anchor=\"middle\" x=\"3798.79\" y=\"-231.8\" font-family=\"Times,serif\" font-size=\"14.00\">outputs</text>\n</g>\n<!-- function imp_to_eis at 0x7f3fccd15670 -->\n<g id=\"node27\" class=\"node\">\n<title>function imp_to_eis at 0x7f3fccd15670</title>\n<ellipse fill=\"none\" stroke=\"black\" cx=\"3313.29\" cy=\"-192\" rx=\"190.37\" ry=\"18\"/>\n<text text-anchor=\"middle\" x=\"3313.29\" y=\"-188.3\" font-family=\"Times,serif\" font-size=\"14.00\">function imp_to_eis at 0x7f3fccd15670</text>\n</g>\n<!-- imp_to_eis&#45;&gt;function imp_to_eis at 0x7f3fccd15670 -->\n<g id=\"edge31\" class=\"edge\">\n<title>imp_to_eis&#45;&gt;function imp_to_eis at 0x7f3fccd15670</title>\n<path fill=\"none\" stroke=\"black\" d=\"M3286.97,-260.8C3291.53,-249.05 3297.67,-233.24 3302.87,-219.84\"/>\n<polygon fill=\"black\" stroke=\"black\" points=\"3306.27,-220.76 3306.63,-210.18 3299.74,-218.23 3306.27,-220.76\"/>\n<text text-anchor=\"middle\" x=\"3330.29\" y=\"-231.8\" font-family=\"Times,serif\" font-size=\"14.00\">executes</text>\n</g>\n<!-- EISEfficiency&#45;&gt;InhibitorEfficiency -->\n<g id=\"edge24\" class=\"edge\">\n<title>EISEfficiency&#45;&gt;InhibitorEfficiency</title>\n<path fill=\"none\" stroke=\"black\" d=\"M3858.67,-177.63C3907,-163.06 3984.52,-139.69 4037.79,-123.63\"/>\n<polygon fill=\"black\" stroke=\"black\" points=\"4038.88,-126.96 4047.45,-120.72 4036.86,-120.26 4038.88,-126.96\"/>\n<text text-anchor=\"middle\" x=\"3982.29\" y=\"-144.8\" font-family=\"Times,serif\" font-size=\"14.00\">isA</text>\n</g>\n<!-- imp_to_lpr -->\n<g id=\"node19\" class=\"node\">\n<title>imp_to_lpr</title>\n<ellipse fill=\"none\" stroke=\"black\" cx=\"4017.29\" cy=\"-279\" rx=\"59.59\" ry=\"18\"/>\n<text text-anchor=\"middle\" x=\"4017.29\" y=\"-275.3\" font-family=\"Times,serif\" font-size=\"14.00\">imp_to_lpr</text>\n</g>\n<!-- imp_to_lpr&#45;&gt;LPREfficiency -->\n<g id=\"edge18\" class=\"edge\">\n<title>imp_to_lpr&#45;&gt;LPREfficiency</title>\n<path fill=\"none\" stroke=\"black\" d=\"M4063.14,-267.23C4127.65,-252.09 4245.36,-224.45 4317.53,-207.5\"/>\n<polygon fill=\"black\" stroke=\"black\" points=\"4318.46,-210.88 4327.4,-205.19 4316.86,-204.06 4318.46,-210.88\"/>\n<text text-anchor=\"middle\" x=\"4246.79\" y=\"-231.8\" font-family=\"Times,serif\" font-size=\"14.00\">outputs</text>\n</g>\n<!-- imp_to_lpr&#45;&gt;function -->\n<g id=\"edge16\" class=\"edge\">\n<title>imp_to_lpr&#45;&gt;function</title>\n<path fill=\"none\" stroke=\"black\" d=\"M3962.5,-271.65C3869.46,-261.09 3674.59,-239.89 3509.29,-228 3334.01,-215.39 3287.64,-238.92 3114.29,-210 3109.93,-209.27 3105.42,-208.32 3100.95,-207.24\"/>\n<polygon fill=\"black\" stroke=\"black\" points=\"3101.81,-203.85 3091.25,-204.71 3100.04,-210.62 3101.81,-203.85\"/>\n<text text-anchor=\"middle\" x=\"3687.29\" y=\"-231.8\" font-family=\"Times,serif\" font-size=\"14.00\">isA</text>\n</g>\n<!-- ImpedanceLogOhm -->\n<g id=\"node20\" class=\"node\">\n<title>ImpedanceLogOhm</title>\n<ellipse fill=\"none\" stroke=\"black\" cx=\"3622.29\" cy=\"-192\" rx=\"100.98\" ry=\"18\"/>\n<text text-anchor=\"middle\" x=\"3622.29\" y=\"-188.3\" font-family=\"Times,serif\" font-size=\"14.00\">ImpedanceLogOhm</text>\n</g>\n<!-- imp_to_lpr&#45;&gt;ImpedanceLogOhm -->\n<g id=\"edge17\" class=\"edge\">\n<title>imp_to_lpr&#45;&gt;ImpedanceLogOhm</title>\n<path fill=\"none\" stroke=\"black\" d=\"M3977.68,-265.47C3941.82,-254.47 3887.41,-238.6 3839.29,-228 3826.12,-225.1 3761.25,-214.72 3705.84,-206.01\"/>\n<polygon fill=\"black\" stroke=\"black\" points=\"3706.04,-202.5 3695.62,-204.4 3704.96,-209.41 3706.04,-202.5\"/>\n<text text-anchor=\"middle\" x=\"3925.79\" y=\"-231.8\" font-family=\"Times,serif\" font-size=\"14.00\">expects</text>\n</g>\n<!-- function imp_to_lpr at 0x7f3fccd15820 -->\n<g id=\"node28\" class=\"node\">\n<title>function imp_to_lpr at 0x7f3fccd15820</title>\n<ellipse fill=\"none\" stroke=\"black\" cx=\"4095.29\" cy=\"-192\" rx=\"190.37\" ry=\"18\"/>\n<text text-anchor=\"middle\" x=\"4095.29\" y=\"-188.3\" font-family=\"Times,serif\" font-size=\"14.00\">function imp_to_lpr at 0x7f3fccd15820</text>\n</g>\n<!-- imp_to_lpr&#45;&gt;function imp_to_lpr at 0x7f3fccd15820 -->\n<g id=\"edge32\" class=\"edge\">\n<title>imp_to_lpr&#45;&gt;function imp_to_lpr at 0x7f3fccd15820</title>\n<path fill=\"none\" stroke=\"black\" d=\"M4032.7,-261.21C4044.17,-248.72 4059.99,-231.48 4072.85,-217.46\"/>\n<polygon fill=\"black\" stroke=\"black\" points=\"4075.47,-219.78 4079.65,-210.05 4070.31,-215.05 4075.47,-219.78\"/>\n<text text-anchor=\"middle\" x=\"4092.29\" y=\"-231.8\" font-family=\"Times,serif\" font-size=\"14.00\">executes</text>\n</g>\n<!-- ImpedanceLogOhm&#45;&gt;Resistance -->\n<g id=\"edge23\" class=\"edge\">\n<title>ImpedanceLogOhm&#45;&gt;Resistance</title>\n<path fill=\"none\" stroke=\"black\" d=\"M3549.87,-179.39C3537.35,-177.51 3524.46,-175.64 3512.29,-174 3321.51,-148.35 3095.4,-124.17 2985.28,-112.8\"/>\n<polygon fill=\"black\" stroke=\"black\" points=\"2985.62,-109.32 2975.31,-111.77 2984.9,-116.28 2985.62,-109.32\"/>\n<text text-anchor=\"middle\" x=\"3376.29\" y=\"-144.8\" font-family=\"Times,serif\" font-size=\"14.00\">isA</text>\n</g>\n<!-- imp_log_func -->\n<g id=\"node21\" class=\"node\">\n<title>imp_log_func</title>\n<ellipse fill=\"none\" stroke=\"black\" cx=\"2922.29\" cy=\"-279\" rx=\"71.49\" ry=\"18\"/>\n<text text-anchor=\"middle\" x=\"2922.29\" y=\"-275.3\" font-family=\"Times,serif\" font-size=\"14.00\">imp_log_func</text>\n</g>\n<!-- imp_log_func&#45;&gt;ImpedanceOhm -->\n<g id=\"edge20\" class=\"edge\">\n<title>imp_log_func&#45;&gt;ImpedanceOhm</title>\n<path fill=\"none\" stroke=\"black\" d=\"M2867.52,-267.32C2788.54,-251.92 2642.67,-223.49 2556.08,-206.6\"/>\n<polygon fill=\"black\" stroke=\"black\" points=\"2556.56,-203.13 2546.08,-204.66 2555.23,-210 2556.56,-203.13\"/>\n<text text-anchor=\"middle\" x=\"2757.79\" y=\"-231.8\" font-family=\"Times,serif\" font-size=\"14.00\">expects</text>\n</g>\n<!-- imp_log_func&#45;&gt;function -->\n<g id=\"edge19\" class=\"edge\">\n<title>imp_log_func&#45;&gt;function</title>\n<path fill=\"none\" stroke=\"black\" d=\"M2947.5,-262.01C2969.15,-248.28 3000.48,-228.4 3023.97,-213.5\"/>\n<polygon fill=\"black\" stroke=\"black\" points=\"3025.98,-216.37 3032.55,-208.06 3022.23,-210.46 3025.98,-216.37\"/>\n<text text-anchor=\"middle\" x=\"3008.29\" y=\"-231.8\" font-family=\"Times,serif\" font-size=\"14.00\">isA</text>\n</g>\n<!-- imp_log_func&#45;&gt;ImpedanceLogOhm -->\n<g id=\"edge21\" class=\"edge\">\n<title>imp_log_func&#45;&gt;ImpedanceLogOhm</title>\n<path fill=\"none\" stroke=\"black\" d=\"M2992.15,-274.96C3079.84,-270.59 3234.72,-260.98 3366.29,-243 3429.91,-234.31 3501.6,-219.91 3552.89,-208.78\"/>\n<polygon fill=\"black\" stroke=\"black\" points=\"3553.85,-212.16 3562.87,-206.61 3552.36,-205.32 3553.85,-212.16\"/>\n<text text-anchor=\"middle\" x=\"3477.79\" y=\"-231.8\" font-family=\"Times,serif\" font-size=\"14.00\">outputs</text>\n</g>\n<!-- function imp_log_func at 0x7f3fccd15c10 -->\n<g id=\"node29\" class=\"node\">\n<title>function imp_log_func at 0x7f3fccd15c10</title>\n<ellipse fill=\"none\" stroke=\"black\" cx=\"2788.29\" cy=\"-192\" rx=\"200.66\" ry=\"18\"/>\n<text text-anchor=\"middle\" x=\"2788.29\" y=\"-188.3\" font-family=\"Times,serif\" font-size=\"14.00\">function imp_log_func at 0x7f3fccd15c10</text>\n</g>\n<!-- imp_log_func&#45;&gt;function imp_log_func at 0x7f3fccd15c10 -->\n<g id=\"edge33\" class=\"edge\">\n<title>imp_log_func&#45;&gt;function imp_log_func at 0x7f3fccd15c10</title>\n<path fill=\"none\" stroke=\"black\" d=\"M2870.69,-266.4C2854.45,-261.08 2837.15,-253.54 2823.29,-243 2814.9,-236.62 2807.75,-227.65 2802.14,-219.07\"/>\n<polygon fill=\"black\" stroke=\"black\" points=\"2805.05,-217.12 2796.86,-210.39 2799.07,-220.75 2805.05,-217.12\"/>\n<text text-anchor=\"middle\" x=\"2855.29\" y=\"-231.8\" font-family=\"Times,serif\" font-size=\"14.00\">executes</text>\n</g>\n<!-- Parameter -->\n<g id=\"node24\" class=\"node\">\n<title>Parameter</title>\n<ellipse fill=\"none\" stroke=\"black\" cx=\"2918.29\" cy=\"-18\" rx=\"59.59\" ry=\"18\"/>\n<text text-anchor=\"middle\" x=\"2918.29\" y=\"-14.3\" font-family=\"Times,serif\" font-size=\"14.00\">Parameter</text>\n</g>\n<!-- Resistance&#45;&gt;Parameter -->\n<g id=\"edge26\" class=\"edge\">\n<title>Resistance&#45;&gt;Parameter</title>\n<path fill=\"none\" stroke=\"black\" d=\"M2918.29,-86.8C2918.29,-75.16 2918.29,-59.55 2918.29,-46.24\"/>\n<polygon fill=\"black\" stroke=\"black\" points=\"2921.79,-46.18 2918.29,-36.18 2914.79,-46.18 2921.79,-46.18\"/>\n<text text-anchor=\"middle\" x=\"2929.29\" y=\"-57.8\" font-family=\"Times,serif\" font-size=\"14.00\">isA</text>\n</g>\n<!-- Output -->\n<g id=\"node25\" class=\"node\">\n<title>Output</title>\n<ellipse fill=\"none\" stroke=\"black\" cx=\"4096.29\" cy=\"-18\" rx=\"43.59\" ry=\"18\"/>\n<text text-anchor=\"middle\" x=\"4096.29\" y=\"-14.3\" font-family=\"Times,serif\" font-size=\"14.00\">Output</text>\n</g>\n<!-- InhibitorEfficiency&#45;&gt;Output -->\n<g id=\"edge27\" class=\"edge\">\n<title>InhibitorEfficiency&#45;&gt;Output</title>\n<path fill=\"none\" stroke=\"black\" d=\"M4096.29,-86.8C4096.29,-75.16 4096.29,-59.55 4096.29,-46.24\"/>\n<polygon fill=\"black\" stroke=\"black\" points=\"4099.79,-46.18 4096.29,-36.18 4092.79,-46.18 4099.79,-46.18\"/>\n<text text-anchor=\"middle\" x=\"4107.29\" y=\"-57.8\" font-family=\"Times,serif\" font-size=\"14.00\">isA</text>\n</g>\n<!-- cas_to_smiles -->\n<g id=\"node26\" class=\"node\">\n<title>cas_to_smiles</title>\n<ellipse fill=\"none\" stroke=\"black\" cx=\"841.29\" cy=\"-279\" rx=\"73.39\" ry=\"18\"/>\n<text text-anchor=\"middle\" x=\"841.29\" y=\"-275.3\" font-family=\"Times,serif\" font-size=\"14.00\">cas_to_smiles</text>\n</g>\n<!-- cas_to_smiles&#45;&gt;SMILES -->\n<g id=\"edge30\" class=\"edge\">\n<title>cas_to_smiles&#45;&gt;SMILES</title>\n<path fill=\"none\" stroke=\"black\" d=\"M779.52,-269.24C703.12,-257.91 569.3,-236.46 456.29,-210 452.38,-209.08 448.34,-208.06 444.3,-206.99\"/>\n<polygon fill=\"black\" stroke=\"black\" points=\"444.9,-203.52 434.33,-204.23 443.04,-210.27 444.9,-203.52\"/>\n<text text-anchor=\"middle\" x=\"641.79\" y=\"-231.8\" font-family=\"Times,serif\" font-size=\"14.00\">outputs</text>\n</g>\n<!-- cas_to_smiles&#45;&gt;CASNumber -->\n<g id=\"edge29\" class=\"edge\">\n<title>cas_to_smiles&#45;&gt;CASNumber</title>\n<path fill=\"none\" stroke=\"black\" d=\"M863.77,-261.81C882.14,-248.58 908.3,-229.73 928.6,-215.11\"/>\n<polygon fill=\"black\" stroke=\"black\" points=\"930.84,-217.81 936.91,-209.13 926.75,-212.13 930.84,-217.81\"/>\n<text text-anchor=\"middle\" x=\"935.79\" y=\"-231.8\" font-family=\"Times,serif\" font-size=\"14.00\">expects</text>\n</g>\n<!-- cas_to_smiles&#45;&gt;function -->\n<g id=\"edge28\" class=\"edge\">\n<title>cas_to_smiles&#45;&gt;function</title>\n<path fill=\"none\" stroke=\"black\" d=\"M902.19,-268.93C925.89,-265.8 953.3,-262.66 978.29,-261 1189.95,-246.92 2677.51,-274.39 2887.29,-243 2911.25,-239.42 2970.2,-221.14 3011.71,-207.72\"/>\n<polygon fill=\"black\" stroke=\"black\" points=\"3012.9,-211.01 3021.33,-204.6 3010.74,-204.36 3012.9,-211.01\"/>\n<text text-anchor=\"middle\" x=\"2956.29\" y=\"-231.8\" font-family=\"Times,serif\" font-size=\"14.00\">isA</text>\n</g>\n<!-- function cas_to_smiles at 0x7f3fccd158b0 -->\n<g id=\"node30\" class=\"node\">\n<title>function cas_to_smiles at 0x7f3fccd158b0</title>\n<ellipse fill=\"none\" stroke=\"black\" cx=\"669.29\" cy=\"-192\" rx=\"204.16\" ry=\"18\"/>\n<text text-anchor=\"middle\" x=\"669.29\" y=\"-188.3\" font-family=\"Times,serif\" font-size=\"14.00\">function cas_to_smiles at 0x7f3fccd158b0</text>\n</g>\n<!-- cas_to_smiles&#45;&gt;function cas_to_smiles at 0x7f3fccd158b0 -->\n<g id=\"edge34\" class=\"edge\">\n<title>cas_to_smiles&#45;&gt;function cas_to_smiles at 0x7f3fccd158b0</title>\n<path fill=\"none\" stroke=\"black\" d=\"M810.15,-262.61C782.86,-249.12 742.93,-229.39 712.55,-214.38\"/>\n<polygon fill=\"black\" stroke=\"black\" points=\"713.97,-211.17 703.45,-209.88 710.87,-217.45 713.97,-211.17\"/>\n<text text-anchor=\"middle\" x=\"798.29\" y=\"-231.8\" font-family=\"Times,serif\" font-size=\"14.00\">executes</text>\n</g>\n</g>\n</svg>\n",
      "text/plain": [
       "<graphviz.graphs.Digraph at 0x7f40044c3520>"
      ]
     },
     "metadata": {},
     "output_type": "display_data"
    },
    {
     "name": "stdout",
     "output_type": "stream",
     "text": [
      "Outer entity parameter 'inhibitorEfficiency': [2.5015706591231903, 2.49977657970113, 2.058272709575285, 2.120425425334945, 2.20150754985188]\n",
      "Double calculation of inner entity 'impedance_ohm_24h': [201451.87499999683, 199794.3281249972, 26156.246093749724, 34824.17578124962, 50587.71874999921]\n",
      "Half calculation of inner entity 'impedance_log_24h': [2.50157065912319, 2.49977657970113, 2.058272709575285, 2.120425425334945, 2.20150754985188]\n",
      "Inner entity parameter 'impedance_log_24h': [5.00314131824638, 4.99955315940226, 4.11654541915057, 4.24085085066989, 4.40301509970376]\n",
      "Log10 calculation of inner entity 'impedance_ohm_24h': [5.003141318246381, 4.99955315940226, 4.11654541915057, 4.24085085066989, 4.40301509970376]\n",
      "Outer entity parameter 'SMILES': ['[Li+].[Li+].[O-]C([O-])=O', '[Li+].[Li+].[O-]C([O-])=O', '[Li+].[Cl-]', '[Li+].[Cl-]', '[Li+].[Cl-]']\n",
      "Inner entity parameter 'casNumber' ['554-13-2', '554-13-2', '7447-41-8', '7447-41-8', '7447-41-8']\n"
     ]
    },
    {
     "data": {
      "text/plain": [
       "{'title': 'OuterEntity',\n",
       " 'description': 'Generic Data source entity',\n",
       " 'type': 'object',\n",
       " 'properties': {'SMILES': {'title': 'SMILES',\n",
       "   'description': 'SMILES',\n",
       "   'type': 'string'},\n",
       "  'inhibitorEfficiency': {'title': 'inhibitorEfficiency',\n",
       "   'description': 'EIS 24h',\n",
       "   'type': 'number'}},\n",
       " 'additionalProperties': False}"
      ]
     },
     "execution_count": 3,
     "metadata": {},
     "output_type": "execute_result"
    }
   ],
   "source": [
    "from numpy import log10\n",
    "from s7.outer_entitygen_simple import create_outer_entity\n",
    "\n",
    "GetEfficiency = create_outer_entity(\n",
    "    data_model=Path(\".\").resolve() / \"ai_model.yaml\",\n",
    "    inner_entity=entity,\n",
    "    mapping=[\n",
    "        (\"outer.SMILES\", \"mapsTo\", \"SMILES\"),\n",
    "        (\"outer.inhibitorEfficiency\", \"mapsTo\", \"LPREfficiency\"),\n",
    "        (\"inner.casNumber\", \"mapsTo\", \"CASNumber\"),\n",
    "        (\"inner.impedance_ohm_24h\", \"mapsTo\", \"ImpedanceOhm\"),\n",
    "        # (\"inner.impedance_log_24h\", \"mapsTo\", \"ImpedanceLogOhm\"),\n",
    "    ],\n",
    ")\n",
    "outer_entity = GetEfficiency()\n",
    "print(\"Outer entity parameter 'inhibitorEfficiency':\", outer_entity.inhibitorEfficiency)\n",
    "print(\"Double calculation of inner entity 'impedance_ohm_24h':\", [_ * 2 for _ in entity.impedance_ohm_24h])\n",
    "print(\"Half calculation of inner entity 'impedance_log_24h':\", [_ / 2 for _ in entity.impedance_log_24h])\n",
    "print(\"Inner entity parameter 'impedance_log_24h':\", entity.impedance_log_24h)\n",
    "print(\"Log10 calculation of inner entity 'impedance_ohm_24h':\", list(log10(entity.impedance_ohm_24h)))\n",
    "print(\"Outer entity parameter 'SMILES':\", outer_entity.SMILES)\n",
    "print(\"Inner entity parameter 'casNumber'\", entity.casNumber)\n",
    "outer_entity.schema()\n"
   ]
  },
  {
   "cell_type": "code",
   "execution_count": null,
   "id": "781517c3",
   "metadata": {},
   "outputs": [],
   "source": [
    "from s7.graph import Graph\n",
    "\n",
    "graph_mapping = [\n",
    "    # (\"properties.SMILES\", \"mapsTo\", \"SMILES\"),\n",
    "    # (\"properties.inhibitorEfficiency\", \"mapsTo\", \"EISEfficiency\"),\n",
    "    # (\"data.casNumber\", \"mapsTo\", \"CAS#\"),\n",
    "    # (\"data.inhibitorEfficiency\", \"mapsTo\", \"ImpedanceOhm\"),\n",
    "    (\"imp_to_flux\", \"expects\", \"ImpedanceOhm\"),\n",
    "    (\"imp_to_flux\", \"outputs\", \"EISEfficiency\"),\n",
    "    (\"imp_to_flux\", \"isA\", \"function\"),\n",
    "    (\"ImpedanceOhm\", \"isA\", \"Resistance\"),\n",
    "    (\"ImpedanceLogOhm\", \"isA\", \"Resistance\"),\n",
    "    (\"EISEfficiency\", \"isA\", \"InhibitorEfficiency\"),\n",
    "    (\"LPREfficiency\", \"isA\", \"InhibitorEfficiency\"),\n",
    "    (\"Resistance\", \"isA\", \"Parameter\"),\n",
    "    (\"InhibitorEfficiency\", \"isA\", \"Output\"),\n",
    "    # (\"function\", \"hasMethod\", \"execute\"),\n",
    "    (\"cas_to_smiles\", \"isA\", \"function\"),\n",
    "    (\"cas_to_smiles\", \"expects\", \"CAS#\"),\n",
    "    (\"cas_to_smiles\", \"outputs\", \"SMILES\"),\n",
    "\n",
    "    # Generated in `create_outer_entity()`:\n",
    "    # (\"imp_to_flux\", \"executes\", lambda: ...)\n",
    "    # (\"cas_to_smiles\", \"executes\", lambda: ...)\n",
    "]\n",
    "graph = Graph(graph_mapping)\n",
    "graph.plot()\n",
    "for _ in graph.recur_find(\"EISEfficiency\", \"ImpedanceOhm\"):\n",
    "    print(_)\n",
    "# graph.path(\"SMILES\", \"CAS#\")"
   ]
  },
  {
   "cell_type": "code",
   "execution_count": 4,
   "id": "f24ea63b-25f3-49cc-8e37-191c7316812d",
   "metadata": {},
   "outputs": [
    {
     "ename": "NameError",
     "evalue": "name 'XLSData' is not defined",
     "output_type": "error",
     "traceback": [
      "\u001b[0;31m---------------------------------------------------------------------------\u001b[0m",
      "\u001b[0;31mNameError\u001b[0m                                 Traceback (most recent call last)",
      "\u001b[1;32m/home/cwa/venvs/vipcoat_m12/semantic_interop_story/excelparse.ipynb Cell 3'\u001b[0m in \u001b[0;36m<cell line: 3>\u001b[0;34m()\u001b[0m\n\u001b[1;32m      <a href='vscode-notebook-cell://wsl%2Bubuntu-20.04/home/cwa/venvs/vipcoat_m12/semantic_interop_story/excelparse.ipynb#ch0000002vscode-remote?line=0'>1</a>\u001b[0m \u001b[39mfrom\u001b[39;00m \u001b[39ms7\u001b[39;00m\u001b[39m.\u001b[39;00m\u001b[39mgraph\u001b[39;00m \u001b[39mimport\u001b[39;00m Graph\n\u001b[1;32m      <a href='vscode-notebook-cell://wsl%2Bubuntu-20.04/home/cwa/venvs/vipcoat_m12/semantic_interop_story/excelparse.ipynb#ch0000002vscode-remote?line=1'>2</a>\u001b[0m g \u001b[39m=\u001b[39m Graph()\n\u001b[0;32m----> <a href='vscode-notebook-cell://wsl%2Bubuntu-20.04/home/cwa/venvs/vipcoat_m12/semantic_interop_story/excelparse.ipynb#ch0000002vscode-remote?line=2'>3</a>\u001b[0m d \u001b[39m=\u001b[39m XLSData()\n\u001b[1;32m      <a href='vscode-notebook-cell://wsl%2Bubuntu-20.04/home/cwa/venvs/vipcoat_m12/semantic_interop_story/excelparse.ipynb#ch0000002vscode-remote?line=4'>5</a>\u001b[0m \u001b[39mprint\u001b[39m (d\u001b[39m.\u001b[39msampleType)\n\u001b[1;32m      <a href='vscode-notebook-cell://wsl%2Bubuntu-20.04/home/cwa/venvs/vipcoat_m12/semantic_interop_story/excelparse.ipynb#ch0000002vscode-remote?line=6'>7</a>\u001b[0m g\u001b[39m.\u001b[39mappend((\u001b[39m'\u001b[39m\u001b[39mentity\u001b[39m\u001b[39m'\u001b[39m, \u001b[39m'\u001b[39m\u001b[39mhasProperty\u001b[39m\u001b[39m'\u001b[39m, \u001b[39m'\u001b[39m\u001b[39mentity:sampleType\u001b[39m\u001b[39m'\u001b[39m))\n",
      "\u001b[0;31mNameError\u001b[0m: name 'XLSData' is not defined"
     ]
    }
   ],
   "source": [
    "from s7.graph import Graph\n",
    "g = Graph()\n",
    "d = XLSData()\n",
    "\n",
    "print (d.sampleType)\n",
    "\n",
    "g.append(('entity', 'hasProperty', 'entity:sampleType'))\n",
    "g.append(('entity:sampleType', 'propertyOf', 'entity'))\n",
    "\n",
    "g.append(('entity', 'hasProperty', 'entity:casNumber'))\n",
    "g.append(('entity:casNumber', 'propertyOf', 'entity'))\n",
    "\n",
    "g.append(('entity:sampleType', 'mapsTo', 'ontology:sampleType'))\n",
    "g.append(('entity:sampleType', 'propertyOf', 'entity'))\n",
    "\n",
    "g.append(('ontology:sampleType', 'mapsfrom', 'entity:sampleType'))\n",
    "g.append(('entity:casNumber', 'mapsTo', 'ontology:casNumber'))\n",
    "g.append(('ontology:casNumber', 'mapsFrom', 'entity:casNumber'))\n",
    "g.append(('entity:inhibitorEfficiency', 'mapsTo', 'ontology:inhibitorEfficiency'))\n",
    "g.append(('ontology:inhibitorEfficiency', 'mapsTo', 'entity:inhibitorEfficiency'))\n",
    "\n",
    "g.append(((lambda : d.sampleType), 'executes', 'entity:sampleType'))\n",
    "g.append(((lambda : d.casNumber), 'executes', 'entity:casNumber'))\n",
    "g.append(((lambda : d.inhibitorEfficiency), 'executes', 'entity:inhibitorEfficiency'))\n",
    "\n",
    "# consumer mapping\n",
    "g.append(('consumer:eff', 'mapsTo', 'ontology:inhibitorEfficiency'))\n",
    "g.append(('consumer:cas', 'mapsTo', 'ontology:casNumber'))\n"
   ]
  }
 ],
 "metadata": {
  "kernelspec": {
   "display_name": "Python 3 (ipykernel)",
   "language": "python",
   "name": "python3"
  },
  "language_info": {
   "codemirror_mode": {
    "name": "ipython",
    "version": 3
   },
   "file_extension": ".py",
   "mimetype": "text/x-python",
   "name": "python",
   "nbconvert_exporter": "python",
   "pygments_lexer": "ipython3",
   "version": "3.9.12"
  }
 },
 "nbformat": 4,
 "nbformat_minor": 5
}
