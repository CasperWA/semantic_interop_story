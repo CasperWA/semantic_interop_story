{
 "cells": [
  {
   "cell_type": "code",
   "execution_count": 2,
   "id": "18f833b5-b4f6-4d3c-b5b0-935c23d2c7d1",
   "metadata": {},
   "outputs": [
    {
     "name": "stdout",
     "output_type": "stream",
     "text": [
      "/home/cwa/venv/soft7/semantic_interop_story/Inhibitor_Data_Analysis_summary.xlsx\n",
      "{'sampleType': ['LiCO3', 'LiCO3', 'LiCl', 'LiCl', 'LiCl'], 'casNumber': ['554-13-2', '554-13-2', '7447-41-8', '7447-41-8', '7447-41-8'], 'runID': ['27082021_1mMLiCO3_0.1MNaCl_AA2024_run4', '27082021_1mMLiCO3_0.1MNaCl_AA2024_run5', '11082021_1mMLiCl_0.1MNaCl_AA2024_run1', '11082021_1mMLiCl_0.1MNaCl_AA2024_run2', '11082021_1mMLiCl_0.1MNaCl_AA2024_run3'], 'inhibitorEfficiency': ['82.84807910472972', '82.70578220798093', '-32.10177835991128', '0.7790838781530862', '31.69712512083033'], 'impedance_log_24h': ['5.00314131824638', '4.99955315940226', '4.11654541915057', '4.24085085066989', '4.40301509970376'], 'impedance_ohm_24h': ['100725.93749999841', '99897.1640624986', '13078.123046874862', '17412.08789062481', '25293.859374999603'], 'impedance_kohm_24h': ['79.06986093749876', '78.4192737890614', '10.266326591796767', '13.668488994140477', '19.85567960937469']}\n"
     ]
    },
    {
     "data": {
      "text/plain": [
       "['82.84807910472972',\n",
       " '82.70578220798093',\n",
       " '-32.10177835991128',\n",
       " '0.7790838781530862',\n",
       " '31.69712512083033']"
      ]
     },
     "execution_count": 2,
     "metadata": {},
     "output_type": "execute_result"
    }
   ],
   "source": [
    "from __future__ import annotations\n",
    "from pathlib import Path\n",
    "from s7.models import create_config\n",
    "from s7.xlsparser import XLSParser\n",
    "from s7.classgen import class_factory\n",
    "\n",
    "# Import Configuration\n",
    "xls_config = create_config(Path(\".\").resolve() / 'inhibitor_conf.yml')\n",
    "\n",
    "# Generate Specific Parser from config\n",
    "parser = XLSParser(xls_config)\n",
    "v = parser.get()\n",
    "print (v)\n",
    "\n",
    "# Generate entity (not a S7-model yet...)\n",
    "XLSData = class_factory(\"XLSData\", parser.get())\n",
    "\n",
    "x = XLSData()\n",
    "x.inhibitorEfficiency\n"
   ]
  },
  {
   "cell_type": "code",
   "execution_count": null,
   "id": "f24ea63b-25f3-49cc-8e37-191c7316812d",
   "metadata": {},
   "outputs": [],
   "source": [
    "from s7.graph import Graph\n",
    "g = Graph()\n",
    "d = XLSData()\n",
    "\n",
    "print (d.sampleType)\n",
    "\n",
    "g.append(('entity', 'hasProperty', 'entity:sampleType'))\n",
    "g.append(('entity:sampleType', 'propertyOf', 'entity'))\n",
    "\n",
    "g.append(('entity', 'hasProperty', 'entity:casNumber'))\n",
    "g.append(('entity:casNumber', 'propertyOf', 'entity'))\n",
    "\n",
    "g.append(('entity:sampleType', 'mapsTo', 'ontology:sampleType'))\n",
    "g.append(('entity:sampleType', 'propertyOf', 'entity'))\n",
    "\n",
    "g.append(('ontology:sampleType', 'mapsfrom', 'entity:sampleType'))\n",
    "g.append(('entity:casNumber', 'mapsTo', 'ontology:casNumber'))\n",
    "g.append(('ontology:casNumber', 'mapsFrom', 'entity:casNumber'))\n",
    "g.append(('entity:inhibitorEfficiency', 'mapsTo', 'ontology:inhibitorEfficiency'))\n",
    "g.append(('ontology:inhibitorEfficiency', 'mapsTo', 'entity:inhibitorEfficiency'))\n",
    "\n",
    "g.append(((lambda : d.sampleType), 'executes', 'entity:sampleType'))\n",
    "g.append(((lambda : d.casNumber), 'executes', 'entity:casNumber'))\n",
    "g.append(((lambda : d.inhibitorEfficiency), 'executes', 'entity:inhibitorEfficiency'))\n",
    "\n",
    "# consumer mapping\n",
    "g.append(('consumer:eff', 'mapsTo', 'ontology:inhibitorEfficiency'))\n",
    "g.append(('consumer:cas', 'mapsTo', 'ontology:casNumber'))\n"
   ]
  },
  {
   "cell_type": "code",
   "execution_count": null,
   "id": "0291097e-9c1d-4a1c-bc01-a936a31b09dc",
   "metadata": {},
   "outputs": [],
   "source": [
    "\n",
    "\n",
    "def path(origin, destination, link=None, visited=[]):\n",
    "    if not link:\n",
    "        link = [origin]    \n",
    "    visited.append(origin)\n",
    "    for _, r, o in g.match(origin, None, None):\n",
    "        if not o in visited:\n",
    "            if o == destination:                \n",
    "                return link\n",
    "            else:\n",
    "                link.append(o)            \n",
    "                return path(o, destination, visited)\n",
    "    \n",
    "link = path('consumer:cas', 'entity')\n",
    "print (link)"
   ]
  },
  {
   "cell_type": "code",
   "execution_count": null,
   "id": "7c620eb4-c74d-418c-90f9-ce9b5838a86a",
   "metadata": {},
   "outputs": [],
   "source": [
    "x.impedance"
   ]
  },
  {
   "cell_type": "code",
   "execution_count": null,
   "id": "39987f11-6c9e-442b-960d-5b0b1cf2baa7",
   "metadata": {},
   "outputs": [],
   "source": [
    "import math\n",
    "math.pow(10, x.impedance[0])"
   ]
  },
  {
   "cell_type": "code",
   "execution_count": null,
   "id": "b742ee3a-ce2c-4132-b70e-452e488e4aa5",
   "metadata": {},
   "outputs": [],
   "source": []
  }
 ],
 "metadata": {
  "kernelspec": {
   "display_name": "Python 3 (ipykernel)",
   "language": "python",
   "name": "python3"
  },
  "language_info": {
   "codemirror_mode": {
    "name": "ipython",
    "version": 3
   },
   "file_extension": ".py",
   "mimetype": "text/x-python",
   "name": "python",
   "nbconvert_exporter": "python",
   "pygments_lexer": "ipython3",
   "version": "3.9.12"
  }
 },
 "nbformat": 4,
 "nbformat_minor": 5
}
