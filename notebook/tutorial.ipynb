{
 "cells": [
  {
   "cell_type": "code",
   "execution_count": 1,
   "id": "fe7f8b5a-8fcf-4c81-9f70-f75f493280db",
   "metadata": {},
   "outputs": [],
   "source": [
    "from typing import Tuple, List, Dict\n",
    "from dataclasses import dataclass\n",
    "\n",
    "triples: List[Tuple[str, str, str]] = []\n",
    "\n",
    "create_match = lambda tr: lambda s, p, o: [t for t in tr if (not s or t[0] == s) and (not p or t[1] == p) and (not o or t[2] == o)]\n",
    "match = lambda s = None, p = None, o = None: create_match(triples)(s, p, o)\n",
    "match_all = lambda s = None, p = None, o = None : list(match(s, p, o))\n",
    "match_first = lambda s = None, p = None, o = None : next(iter(match(s, p, o) or []), (None, None, None))\n"
   ]
  },
  {
   "cell_type": "code",
   "execution_count": 2,
   "id": "dfd02048-c3b0-4a05-b44f-315d138fd039",
   "metadata": {},
   "outputs": [],
   "source": [
    "import shlex \n",
    "    \n",
    "filenames = ['emmo.nt']\n",
    "for filename in filenames:\n",
    "    with open(filename, 'r') as file:            \n",
    "        lines = shlex.split(file.read());        \n",
    "        for i in range(0, len(lines), 4):\n",
    "            triples.append((lines[i], lines[i+1], lines[i+2])) \n",
    "          "
   ]
  },
  {
   "cell_type": "code",
   "execution_count": 7,
   "id": "7a759b6a-c0cc-4b80-b9d7-4ffb4e74895f",
   "metadata": {},
   "outputs": [],
   "source": [
    "from ipytree import Tree, Node\n",
    "from ipywidgets import HBox, HTML, Output, Layout\n",
    "import html\n",
    "from namespaces import RDFS, SKOS, EMMO\n",
    "\n",
    "a = Output(layout=Layout(min_width='50%'))\n",
    "o = Output()\n",
    "nodemap = {}\n",
    "\n",
    "style = \"\"\"\n",
    "<!-- CSS only -->\n",
    "<link href=\"https://cdn.jsdelivr.net/npm/bootstrap@5.1.3/dist/css/bootstrap.min.css\" rel=\"stylesheet\" integrity=\"sha384-1BmE4kWBq78iYhFldvKuhfTAU6auU8tT94WrHftjDbrCEXSU1oBoqyl2QvZ6jIW3\" crossorigin=\"anonymous\">\n",
    "<style type='text/css'>\n",
    "        p {\n",
    "            border: 1px solid rgb(200, 200, 200);\n",
    "            background: rgb(234, 234, 234);\n",
    "            padding: 5px;\n",
    "            margin: 5px;\n",
    "        }\n",
    "        p.note {\n",
    "            background: #ffffcc;\n",
    "            border: 1px solid gold;\n",
    "        }\n",
    "        </style>\n",
    "\"\"\"\n",
    "\n",
    "def handle_click(event):    \n",
    "    concept = nodemap[event['owner']._id]\n",
    "    a.clear_output()\n",
    "    with a:\n",
    "        (_,_,desc) = match_first(concept, EMMO.elucidation, None)\n",
    "        comments = match_all(concept, RDFS.comment, None)\n",
    "        comments = \"\\n\".join(list([html.unescape(c[2]).replace('@en','\\n') for c in comments])).replace('\\\\n','<br>')\n",
    "        desc = html.unescape(desc).replace('@en','') if desc else \"\"        \n",
    "        display(HTML(value=f\"\"\"{style}\n",
    "        <p>\n",
    "          <center><h2>{event['owner'].name}</h2></center>\n",
    "        </p>\n",
    "        <p>\n",
    "          {html.escape(concept)}\n",
    "        </p>\n",
    "        <p class='note'>\n",
    "          {desc}<br>\n",
    "        </p>\n",
    "        <p class='note'>\n",
    "          {comments}\n",
    "        </p>\n",
    "        \"\"\"))\n",
    "\n",
    "def gen_tree(root):\n",
    "    l = []\n",
    "    \n",
    "    # Recursively generate and append sub-nodes\n",
    "    for (s,_,_) in match(None, RDFS.subClassOf, root):        \n",
    "        l.append(gen_tree(s))\n",
    "        \n",
    "    # Find the prefLabel (node name)\n",
    "    (_,_,lbl) = match_first(root, SKOS.prefLabel, None)\n",
    "    lbl = lbl.replace('@en','')\n",
    "    if l:\n",
    "        node = Node(lbl, l, opened=False, icon_style=\"success\")\n",
    "    else:\n",
    "        node = Node(lbl, l, opened=False, icon=\"leaf\", icon_style=\"success\")\n",
    "        \n",
    "    # Add observer to handle interactions\n",
    "    node.observe(handle_click, 'selected')\n",
    "    nodemap[node._id] = root\n",
    "    return node\n",
    "\n",
    "emmo_node = gen_tree('<http://emmo.info/emmo#EMMO_802d3e92_8770_4f98_a289_ccaaab7fdddf>')"
   ]
  },
  {
   "cell_type": "code",
   "execution_count": 9,
   "id": "b4e756ab-5835-4f35-bf42-be2db85fe02a",
   "metadata": {},
   "outputs": [
    {
     "data": {
      "application/vnd.jupyter.widget-view+json": {
       "model_id": "7cfd92ca076949c2a070007475e2f223",
       "version_major": 2,
       "version_minor": 0
      },
      "text/plain": [
       "HBox(children=(Tree(layout=Layout(min_width='50%'), nodes=(Node(icon_style='success', name='EMMO', nodes=(Node…"
      ]
     },
     "metadata": {},
     "output_type": "display_data"
    }
   ],
   "source": [
    "tree=Tree(layout=Layout(min_width='50%'))\n",
    "\n",
    "tree.add_node(emmo_node)\n",
    "box = HBox(children=[tree, a], layout=Layout(align_items='stretch', width='100%'))\n",
    "\n",
    "display (box)\n",
    "#display (o)\n"
   ]
  },
  {
   "cell_type": "code",
   "execution_count": null,
   "id": "d2a811fa-9bef-4c2a-a499-9eaff2ea5daf",
   "metadata": {},
   "outputs": [],
   "source": []
  }
 ],
 "metadata": {
  "kernelspec": {
   "display_name": "Python 3 (ipykernel)",
   "language": "python",
   "name": "python3"
  },
  "language_info": {
   "codemirror_mode": {
    "name": "ipython",
    "version": 3
   },
   "file_extension": ".py",
   "mimetype": "text/x-python",
   "name": "python",
   "nbconvert_exporter": "python",
   "pygments_lexer": "ipython3",
   "version": "3.9.7"
  }
 },
 "nbformat": 4,
 "nbformat_minor": 5
}
