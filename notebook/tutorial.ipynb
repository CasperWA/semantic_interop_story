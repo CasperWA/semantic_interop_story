{
 "cells": [
  {
   "cell_type": "code",
   "execution_count": 1,
   "id": "fe7f8b5a-8fcf-4c81-9f70-f75f493280db",
   "metadata": {},
   "outputs": [],
   "source": [
    "from typing import Tuple, List, Dict\n",
    "from dataclasses import dataclass\n",
    "\n",
    "triples: List[Tuple[str, str, str]] = []\n",
    "\n",
    "create_match = lambda tr: lambda s, p, o: [t for t in tr if (not s or t[0] == s) and (not p or t[1] == p) and (not o or t[2] == o)]\n",
    "match = lambda s = None, p = None, o = None: create_match(triples)(s, p, o)\n",
    "match_first = lambda s = None, p = None, o = None : next(iter(match(s, p, o) or []), (None, None, None))\n"
   ]
  },
  {
   "cell_type": "code",
   "execution_count": 2,
   "id": "dfd02048-c3b0-4a05-b44f-315d138fd039",
   "metadata": {},
   "outputs": [],
   "source": [
    "import shlex \n",
    "    \n",
    "filenames = ['emmo.nt']\n",
    "for filename in filenames:\n",
    "    with open(filename, 'r') as file:            \n",
    "        lines = shlex.split(file.read());        \n",
    "        for i in range(0, len(lines), 4):\n",
    "            triples.append((lines[i], lines[i+1], lines[i+2])) \n",
    "          "
   ]
  },
  {
   "cell_type": "code",
   "execution_count": 3,
   "id": "c326e9ea-192b-4277-96c8-74aaa024f938",
   "metadata": {},
   "outputs": [
    {
     "name": "stdout",
     "output_type": "stream",
     "text": [
      "<http://www.w3.org/2004/02/skos/core#prefLabel> etymology@en\n"
     ]
    }
   ],
   "source": [
    "(s, p, o) = match_first('<http://emmo.info/emmo#EMMO_705f27ae_954c_4f13_98aa_18473fc52b25>')\n",
    "print (p, o)"
   ]
  },
  {
   "cell_type": "code",
   "execution_count": 4,
   "id": "7a759b6a-c0cc-4b80-b9d7-4ffb4e74895f",
   "metadata": {},
   "outputs": [],
   "source": [
    "from ipytree import Tree, Node\n",
    "from ipywidgets import HBox, HTML, Output, Layout\n",
    "import html\n",
    "from namespaces import RDFS, SKOS, EMMO\n",
    "\n",
    "a = Output(layout=Layout(min_width='50%'))\n",
    "nodemap = {}\n",
    "\n",
    "style = \"\"\"\n",
    "<style>\n",
    "body{\n",
    "  font-family: 'Nunito', sans-serif;\n",
    "  padding: 50px;\n",
    "}\n",
    "p.note {\n",
    "    background: #fffffa;\n",
    "    border: 2px solid #aaaa55;\n",
    "}\n",
    ".card{\n",
    "    border-radius: 4px;\n",
    "    background: #fff;\n",
    "    box-shadow: 0 6px 10px rgba(0,0,0,.08), 0 0 6px rgba(0,0,0,.05);\n",
    "      transition: .3s transform cubic-bezier(.155,1.105,.295,1.12),.3s box-shadow,.3s -webkit-transform cubic-bezier(.155,1.105,.295,1.12);\n",
    "  padding: 14px 80px 18px 36px;\n",
    "  cursor: pointer;\n",
    "}\n",
    "\n",
    ".card:hover{\n",
    "     transform: scale(1.05);\n",
    "  box-shadow: 0 10px 20px rgba(0,0,0,.12), 0 4px 8px rgba(0,0,0,.06);\n",
    "}\n",
    "\n",
    ".card h3{\n",
    "  font-weight: 600;\n",
    "}\n",
    "\n",
    ".card img{\n",
    "  position: absolute;\n",
    "  top: 20px;\n",
    "  right: 15px;\n",
    "  max-height: 120px;\n",
    "}\n",
    "\n",
    ".card-1{\n",
    "  background-image: url(https://avatars.githubusercontent.com/u/51194521?s=200&v=4);\n",
    "      background-repeat: no-repeat;    \n",
    "    background-position: right 10px top 10px;\n",
    "    background-size: 80px;\n",
    "}\n",
    "\n",
    "@media(max-width: 990px){\n",
    "  .card{\n",
    "    margin: 20px;\n",
    "  }\n",
    "} \n",
    "</style>\n",
    "\"\"\"\n",
    "\n",
    "def handle_click(event):\n",
    "    concept = nodemap[event['owner']._id]\n",
    "    a.clear_output()\n",
    "    with a:\n",
    "        (_,_,desc) = match_first(concept, EMMO.elucidation, None)\n",
    "        comments = list(match(concept, RDFS.comment, None))\n",
    "        comments = \"\\n\".join(list([html.unescape(c[2]).replace('@en','\\n') for c in comments])).replace('\\\\n','<br/>')\n",
    "        desc = html.unescape(desc).replace('@en','') if desc else \"\"\n",
    "        (_, _, etymology) = match_first(concept, EMMO.etymology, None)\n",
    "        etymology = html.unescape(etymology).replace('@en','').replace('\\\\n','\\n') if etymology else \"\"\n",
    "        display(HTML(value=f\"\"\"{style}\n",
    "        <link href=\"https://fonts.googleapis.com/css?family=Nunito:200,300,400,600,700,900\" rel=\"stylesheet\">\n",
    "\n",
    "        <div class=\"container\">\n",
    "          <div class=\"row\">\n",
    "            <div class=\"col-md-4\">\n",
    "              <div class=\"card card-1\">\n",
    "                <h3>{event['owner'].name}</h3>\n",
    "                <p><b>{html.escape(concept)}</b><br/></p>                \n",
    "                <p class=\"note\">\n",
    "                <h4>Elucidation</h4>\n",
    "                {desc}</p>                \n",
    "                <p class=\"note\">\n",
    "                <h4>Comments</h4>\n",
    "                {comments}</p>\n",
    "                <p class=\"note\">\n",
    "                <h4>Etymology</h4>\n",
    "                {etymology}</p>\n",
    "              </div>\n",
    "            </div>\n",
    "          </div>\n",
    "        </div>\n",
    "        \"\"\"))\n",
    "        \n",
    "def gen_tree(root):\n",
    "    l = []\n",
    "    \n",
    "    # Recursively generate and append sub-nodes\n",
    "    for (s,_,_) in match(None, RDFS.subClassOf, root):        \n",
    "        l.append(gen_tree(s))\n",
    "        \n",
    "    # Find the prefLabel (node name)\n",
    "    (_,_,lbl) = match_first(root, SKOS.prefLabel, None)\n",
    "    lbl = lbl.replace('@en','')\n",
    "    if l:\n",
    "        node = Node(lbl, l, opened=False, icon_style=\"success\")\n",
    "    else:\n",
    "        node = Node(lbl, l, opened=False, icon=\"leaf\", icon_style=\"success\")\n",
    "        \n",
    "    # Add observer to handle interactions\n",
    "    node.observe(handle_click, 'selected')\n",
    "    nodemap[node._id] = root\n",
    "    return node\n",
    "\n",
    "emmo_node = gen_tree('<http://emmo.info/emmo#EMMO_802d3e92_8770_4f98_a289_ccaaab7fdddf>')"
   ]
  },
  {
   "cell_type": "code",
   "execution_count": 5,
   "id": "b4e756ab-5835-4f35-bf42-be2db85fe02a",
   "metadata": {},
   "outputs": [
    {
     "data": {
      "application/vnd.jupyter.widget-view+json": {
       "model_id": "3c34726dfef7461c83a06da3ec46874f",
       "version_major": 2,
       "version_minor": 0
      },
      "text/plain": [
       "HBox(children=(Tree(layout=Layout(min_width='50%'), nodes=(Node(icon_style='success', name='EMMO', nodes=(Node…"
      ]
     },
     "metadata": {},
     "output_type": "display_data"
    },
    {
     "data": {
      "application/vnd.jupyter.widget-view+json": {
       "model_id": "1686b410464e4d15aaf2a68fa89f47c9",
       "version_major": 2,
       "version_minor": 0
      },
      "text/plain": [
       "Output()"
      ]
     },
     "metadata": {},
     "output_type": "display_data"
    }
   ],
   "source": [
    "tree=Tree(layout=Layout(min_width='50%'))\n",
    "\n",
    "tree.add_node(emmo_node)\n",
    "box = HBox(children=[tree, a], layout=Layout(align_items='stretch', width='100%'))\n",
    "\n",
    "display (box)\n"
   ]
  }
 ],
 "metadata": {
  "kernelspec": {
   "display_name": "Python 3 (ipykernel)",
   "language": "python",
   "name": "python3"
  },
  "language_info": {
   "codemirror_mode": {
    "name": "ipython",
    "version": 3
   },
   "file_extension": ".py",
   "mimetype": "text/x-python",
   "name": "python",
   "nbconvert_exporter": "python",
   "pygments_lexer": "ipython3",
   "version": "3.9.7"
  }
 },
 "nbformat": 4,
 "nbformat_minor": 5
}
