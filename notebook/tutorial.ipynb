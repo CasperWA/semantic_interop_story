{
 "cells": [
  {
   "cell_type": "markdown",
   "id": "b02e3922-7ce7-45c8-83b9-f7ab1f65d29f",
   "metadata": {},
   "source": [
    "# EMMO Browser example\n",
    "This notebook is an example on how to utilize triples to generate an ontology documentation browser\n",
    "\n",
    "## Installation\n",
    "    $ pip install ipytree\n",
    "    \n",
    "    If you use JupyterLab<=2:\n",
    "    $ jupyter labextension install @jupyter-widgets/jupyterlab-manager ipytree\n",
    "\n",
    "    If you have notebook 5.2 or below, you also need to execute:\n",
    "    $ jupyter nbextension enable --py --sys-prefix ipytree"
   ]
  },
  {
   "cell_type": "code",
   "execution_count": 1,
   "id": "fe7f8b5a-8fcf-4c81-9f70-f75f493280db",
   "metadata": {},
   "outputs": [],
   "source": [
    "from typing import Tuple, List, Dict\n",
    "from dataclasses import dataclass\n",
    "\n",
    "# Our humble triplestore\n",
    "triples: List[Tuple[str, str, str]] = []\n",
    "\n",
    "# Helper functions for perfoming triple matching\n",
    "create_match = lambda tr: lambda s, p, o: [t for t in tr if (not s or t[0] == s) and (not p or t[1] == p) and (not o or t[2] == o)]\n",
    "match = lambda s = None, p = None, o = None: create_match(triples)(s, p, o)\n",
    "match_first = lambda s = None, p = None, o = None : next(iter(match(s, p, o) or []), (None, None, None))\n"
   ]
  },
  {
   "cell_type": "code",
   "execution_count": 2,
   "id": "dfd02048-c3b0-4a05-b44f-315d138fd039",
   "metadata": {},
   "outputs": [],
   "source": [
    "# Import triples onto the triplestore\n",
    "import shlex \n",
    "    \n",
    "\n",
    "filenames = ['battery.nt',\n",
    "             'crystallography.nt',\n",
    "             'emmo.nt',\n",
    "             'properties.nt',\n",
    "             'characterisation.nt',\n",
    "             'electrochemistry.nt',\n",
    "             'physmet.nt']\n",
    "for filename in filenames:\n",
    "    with open(filename, 'r') as file:            \n",
    "        lines = shlex.split(file.read());        \n",
    "        for i in range(0, len(lines), 4):\n",
    "            triples.append((lines[i], lines[i+1], lines[i+2])) \n",
    "          "
   ]
  },
  {
   "cell_type": "code",
   "execution_count": 3,
   "id": "cbbbe752-4da5-471d-8bc2-c1af7a1fe74a",
   "metadata": {},
   "outputs": [
    {
     "data": {
      "text/plain": [
       "7914"
      ]
     },
     "execution_count": 3,
     "metadata": {},
     "output_type": "execute_result"
    }
   ],
   "source": [
    "len(triples)"
   ]
  },
  {
   "cell_type": "code",
   "execution_count": 4,
   "id": "7a759b6a-c0cc-4b80-b9d7-4ffb4e74895f",
   "metadata": {},
   "outputs": [
    {
     "name": "stdout",
     "output_type": "stream",
     "text": [
      "WARNING! <http://emmo.info/physmet#EMMO_a806eb67_5360_45ca_9b58_3ab259d69ca9> has not label!\n",
      "WARNING! <http://emmo.info/domain-crystallography/cif_top#CIF> has not label!\n"
     ]
    }
   ],
   "source": [
    "from ipytree import Tree, Node\n",
    "from ipywidgets import HBox, VBox, HTML, Text, Output, Layout, Combobox\n",
    "from typing import Any\n",
    "from jinja2 import Template\n",
    "import html\n",
    "from namespaces import RDFS, SKOS, EMMO\n",
    "\n",
    "# Read the jinja2-template from file\n",
    "with open(\"card.html.j2\", \"r\") as f:\n",
    "    template = f.read()\n",
    "    jtemplate = Template(template)\n",
    "\n",
    "# Declare the output window for the concept documentation\n",
    "documentation = Output(layout=Layout(min_width='50%'))\n",
    "o = Output()\n",
    "\n",
    "    \n",
    "# Helper-map that maps ipytree node-uuids to concept-URI\n",
    "nodemap = {}\n",
    "search_index = {}\n",
    "phrases = []\n",
    "combo_search: Combobox = Combobox(options=[], ensure_option=True, enabled=False)\n",
    "\n",
    "def on_value_change(change):\n",
    "    \"\"\" Select (exact) matching labels \"\"\"\n",
    "    word = change['new'].lower()\n",
    "\n",
    "    if word in search_index:        \n",
    "        search_index[word].selected = True        \n",
    "    else:\n",
    "        opt = []\n",
    "        combo_search.value = ''\n",
    "        for phrase in phrases:\n",
    "            if word in phrase.lower():\n",
    "                opt.append(phrase)\n",
    "        combo_search.options = opt\n",
    "\n",
    "def on_combo_change(change):\n",
    "    \"\"\" Value was selected from the combo box\"\"\"\n",
    "    word = change['new'].lower()\n",
    "    if word in search_index:\n",
    "        search_index[word].selected = True\n",
    "\n",
    "search = Text(placeholder='Enter search string here', description='Search:')\n",
    "search.observe(on_value_change, names='value')\n",
    "combo_search.observe(on_combo_change, names='value')\n",
    "\n",
    "def match_to_string(concept, predicate):\n",
    "    \"\"\" Concatenate and wash matching object strings \"\"\"\n",
    "    return \"\".join([(html.unescape(text))\n",
    "                    .replace('@en', '\\n')                    \n",
    "                    .replace('\\\\n', '<br/>\\n') \n",
    "                    for (_,_,text) in match(concept, predicate)])\n",
    "\n",
    "def handle_click(event):\n",
    "    \"\"\" Event to be called when a node is clicked \"\"\"\n",
    "    concept = nodemap[event['owner']._id]\n",
    "    documentation.clear_output()\n",
    "    with documentation:        \n",
    "        display(HTML(value=jtemplate.render(\n",
    "            label=event['owner'].name, \n",
    "            concept=html.escape(concept), \n",
    "            elucidation=match_to_string(concept, EMMO.elucidation),\n",
    "            comments=match_to_string(concept, RDFS.comment), \n",
    "            etymology=match_to_string(concept, EMMO.etymology),\n",
    "            subclass=match_to_string(concept, RDFS.subClassOf),\n",
    "        )))\n",
    "        \n",
    "        \n",
    "def generate_node_tree(root):\n",
    "    \"\"\" Recursively generate the ipytree nodes \"\"\"\n",
    "    sub_nodes = []\n",
    "    \n",
    "    # Recursively generate and append sub-nodes\n",
    "    for (sub_node,_,_) in match(None, RDFS.subClassOf, root):        \n",
    "        sub_nodes.append(generate_node_tree(sub_node))\n",
    "        \n",
    "    # Find the prefLabel (node name)\n",
    "    try:\n",
    "        (_,_,lbl) = match_first(root, SKOS.prefLabel, None)\n",
    "        lbl = lbl.replace('@en','')\n",
    "    except:\n",
    "        print (f'WARNING! {root} has not label!')\n",
    "        lbl = \"MISSING\"\n",
    "        \n",
    "    if sub_nodes:\n",
    "        node = Node(lbl, sub_nodes, opened=False, icon_style=\"success\")\n",
    "    else:\n",
    "        node = Node(lbl, sub_nodes, opened=False, icon=\"leaf\", icon_style=\"success\")\n",
    "        \n",
    "    # Add observer to handle interactions\n",
    "    node.observe(handle_click, 'selected')\n",
    "    nodemap[node._id] = root\n",
    "    search_index[lbl.lower()] = node\n",
    "    if not lbl in phrases:\n",
    "        phrases.append(lbl) \n",
    "        \n",
    "    return node\n",
    "\n",
    "# Generate the node tree\n",
    "emmo_node = generate_node_tree(EMMO.Emmo)"
   ]
  },
  {
   "cell_type": "code",
   "execution_count": 5,
   "id": "b4e756ab-5835-4f35-bf42-be2db85fe02a",
   "metadata": {},
   "outputs": [
    {
     "data": {
      "application/vnd.jupyter.widget-view+json": {
       "model_id": "88146ec27fb24ddab21483299be46576",
       "version_major": 2,
       "version_minor": 0
      },
      "text/plain": [
       "VBox(children=(HBox(children=(Text(value='', description='Search:', placeholder='Enter search string here'), C…"
      ]
     },
     "metadata": {},
     "output_type": "display_data"
    },
    {
     "data": {
      "application/vnd.jupyter.widget-view+json": {
       "model_id": "42250451aa0948579ca902d3f6dc9d8e",
       "version_major": 2,
       "version_minor": 0
      },
      "text/plain": [
       "Output()"
      ]
     },
     "metadata": {},
     "output_type": "display_data"
    }
   ],
   "source": [
    "tree=Tree(layout=Layout(min_width='50%'))\n",
    "tree.add_node(emmo_node)\n",
    "\n",
    "upper = HBox(children=[search, combo_search], layout=Layout(align_items='stretch', width='100%'))\n",
    "box = HBox(children=[tree, documentation], layout=Layout(align_items='stretch', width='100%'))\n",
    "vbox = VBox(children=[upper, box])\n",
    "display (vbox)\n",
    "display (o)"
   ]
  },
  {
   "cell_type": "code",
   "execution_count": null,
   "id": "3ea5f446-085e-4221-9971-512b4be561ee",
   "metadata": {},
   "outputs": [],
   "source": []
  }
 ],
 "metadata": {
  "kernelspec": {
   "display_name": "Python 3 (ipykernel)",
   "language": "python",
   "name": "python3"
  },
  "language_info": {
   "codemirror_mode": {
    "name": "ipython",
    "version": 3
   },
   "file_extension": ".py",
   "mimetype": "text/x-python",
   "name": "python",
   "nbconvert_exporter": "python",
   "pygments_lexer": "ipython3",
   "version": "3.9.7"
  }
 },
 "nbformat": 4,
 "nbformat_minor": 5
}
