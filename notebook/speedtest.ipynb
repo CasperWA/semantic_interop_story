{
 "cells": [
  {
   "cell_type": "code",
   "execution_count": 1,
   "id": "863502c1-50f8-4480-9201-1422fcc4ad2c",
   "metadata": {},
   "outputs": [],
   "source": [
    "import uuid\n",
    "from typing import Tuple, List, Dict\n",
    "\n",
    "triples: List[Tuple[str, str, str]] = []\n",
    "create_match = lambda tr: lambda s, p, o: [t for t in tr if (not s or t[0] == s) and (not p or t[1] == p) and (not o or t[2] == o)]\n",
    "match = lambda s = None, p = None, o = None: create_match(triples)(s, p, o)\n",
    "\n",
    "l = []\n",
    "for i in range(1000000):\n",
    "#for i in range(1000 ):\n",
    "    o = ':node#'+str(uuid.uuid1())\n",
    "    s = ':node#'+str(uuid.uuid1())\n",
    "    p = ':node#'+str(uuid.uuid1())\n",
    "    triples.append((s, p, o))\n",
    "    if i > 10000 and i < 20000:\n",
    "        l.append((s, p, o))"
   ]
  },
  {
   "cell_type": "code",
   "execution_count": 14,
   "id": "b565e6ca-0198-4cee-9c66-025a08121513",
   "metadata": {},
   "outputs": [
    {
     "name": "stdout",
     "output_type": "stream",
     "text": [
      "0.06890193223953248 seconds\n"
     ]
    }
   ],
   "source": [
    "import time\n",
    "\n",
    "start = time.time()\n",
    "r = []\n",
    "n = 20\n",
    "for (subj,_,_) in l[:n]:\n",
    "    for (_, pred, obj) in match(subj, None, None):\n",
    "        r.append((subj,pred, obj))\n",
    "        break    \n",
    "end = time.time()\n",
    "print (f'{(end-start)/n} seconds')"
   ]
  },
  {
   "cell_type": "code",
   "execution_count": 12,
   "id": "4964d26c-0322-40c7-91ee-dde72a50028d",
   "metadata": {},
   "outputs": [],
   "source": [
    "import numpy as np\n",
    "np_triples = np.ascontiguousarray(triples, dtype=tuple)\n",
    "np_match = lambda s = None, p = None, o = None: create_match(np_triples)(s, p, o)\n"
   ]
  },
  {
   "cell_type": "code",
   "execution_count": 13,
   "id": "d036e176-3441-4f41-9bea-e14932d1dd7b",
   "metadata": {},
   "outputs": [
    {
     "name": "stdout",
     "output_type": "stream",
     "text": [
      "0.19679083824157714 seconds\n"
     ]
    }
   ],
   "source": [
    "start = time.time()\n",
    "r = []\n",
    "n = 20\n",
    "for (subj,_,_) in l[:n]:\n",
    "    for (_, pred, obj) in np_match(subj, None, None):\n",
    "        r.append((subj,pred, obj))\n",
    "        break    \n",
    "end = time.time()\n",
    "print (f'{(end-start)/n} seconds')"
   ]
  },
  {
   "cell_type": "code",
   "execution_count": null,
   "id": "e86fecb3-eb7b-4413-8db5-66f7a80e78ad",
   "metadata": {},
   "outputs": [],
   "source": []
  }
 ],
 "metadata": {
  "kernelspec": {
   "display_name": "Python 3 (ipykernel)",
   "language": "python",
   "name": "python3"
  },
  "language_info": {
   "codemirror_mode": {
    "name": "ipython",
    "version": 3
   },
   "file_extension": ".py",
   "mimetype": "text/x-python",
   "name": "python",
   "nbconvert_exporter": "python",
   "pygments_lexer": "ipython3",
   "version": "3.9.7"
  }
 },
 "nbformat": 4,
 "nbformat_minor": 5
}
